{
 "cells": [
  {
   "cell_type": "code",
   "execution_count": 2,
   "metadata": {
    "jupyter": {
     "source_hidden": true
    },
    "slideshow": {
     "slide_type": "skip"
    }
   },
   "outputs": [
    {
     "data": {
      "text/html": [
       "<style>\n",
       "h1, h2, h3, h4, h5 {\n",
       "    color: darkblue;\n",
       "    font-weight: bold !important;\n",
       "}\n",
       "h2 {\n",
       "    border-bottom: 8px solid darkblue !important;\n",
       "    padding-bottom: 8px;\n",
       "}\n",
       "h3 {\n",
       "    border-bottom: 2px solid darkblue !important;\n",
       "    padding-bottom: 6px;\n",
       "}\n",
       ".info, .success, .warning, .error {\n",
       "    border: 1px solid;\n",
       "    margin: 10px 0px;\n",
       "    padding:15px 10px;\n",
       "}\n",
       ".info {\n",
       "    color: #00529b;\n",
       "    background-color: #bde5f8;\n",
       "}\n",
       ".success {\n",
       "    color: #4f8a10;\n",
       "    background-color: #dff2bf;\n",
       "}\n",
       ".warning {\n",
       "    color: #9f6000;\n",
       "    background-color: #FEEFB3;\n",
       "}\n",
       ".error {\n",
       "    color: #D8000C;\n",
       "    background-color: #FFBABA;\n",
       "}\n",
       ".language-bash {\n",
       "    font-weight: 900;\n",
       "}\n",
       ".ex {\n",
       "    font-weight: 900;\n",
       "    color: rgba(27,27,255,0.87) !important;\n",
       "}\n",
       ".mn {\n",
       "    font-family: Menlo, Consolas, \"DejaVu Sans Mono\", monospace\n",
       "}\n",
       "table {\n",
       "    margin-left: 0 !important;\n",
       "}\n",
       "</style>\n"
      ],
      "text/plain": [
       "<IPython.core.display.HTML object>"
      ]
     },
     "metadata": {},
     "output_type": "display_data"
    }
   ],
   "source": [
    "%%html\n",
    "<style>\n",
    "h1, h2, h3, h4, h5 {\n",
    "    color: darkblue;\n",
    "    font-weight: bold !important;\n",
    "}\n",
    "h2 {\n",
    "    border-bottom: 8px solid darkblue !important;\n",
    "    padding-bottom: 8px;\n",
    "}\n",
    "h3 {\n",
    "    border-bottom: 2px solid darkblue !important;\n",
    "    padding-bottom: 6px;\n",
    "}\n",
    ".info, .success, .warning, .error {\n",
    "    border: 1px solid;\n",
    "    margin: 10px 0px;\n",
    "    padding:15px 10px;\n",
    "}\n",
    ".info {\n",
    "    color: #00529b;\n",
    "    background-color: #bde5f8;\n",
    "}\n",
    ".success {\n",
    "    color: #4f8a10;\n",
    "    background-color: #dff2bf;\n",
    "}\n",
    ".warning {\n",
    "    color: #9f6000;\n",
    "    background-color: #FEEFB3;\n",
    "}\n",
    ".error {\n",
    "    color: #D8000C;\n",
    "    background-color: #FFBABA;\n",
    "}\n",
    ".language-bash {\n",
    "    font-weight: 900;\n",
    "}\n",
    ".ex {\n",
    "    font-weight: 900;\n",
    "    color: rgba(27,27,255,0.87) !important;\n",
    "}\n",
    ".mn {\n",
    "    font-family: Menlo, Consolas, \"DejaVu Sans Mono\", monospace\n",
    "}\n",
    "table {\n",
    "    margin-left: 0 !important;}\n",
    "</style>"
   ]
  },
  {
   "cell_type": "markdown",
   "metadata": {},
   "source": [
    "# Day 1: Up and Running with Python"
   ]
  },
  {
   "cell_type": "markdown",
   "metadata": {},
   "source": [
    "## 1.3 Classes\n",
    "-   Everything in Python is object, belonging to a Python class.\n",
    "\n",
    "\n",
    "-   A class defines\n",
    "    -   *member attributes* to determine the behaviour of its object, and\n",
    "    -   *member methods* that could be applied on the object\n",
    "\n",
    "\n",
    "-   A Python class also defines\n",
    "    -   *class attribute* that define the behavious of the class as a whole\n",
    "    -   *class methods* that could be applied to the class as a whole, and\n",
    "    -   *static method* which is just a normal function which could not modify member and class attributes\n",
    "   \n",
    "<p class='info'>In this section, let's us familiar with basic classes (aka data types) to handle common data.</p>\n",
    "\n",
    "-   By convension, the first character of a class name is always capital, for example `DataFrame` is the class name inside panda package.  However, data types (classes) created since Python 1.x do not follow this convension, which include *basic classes/data types* and *container classes/data types*.\n",
    "\n",
    "### Basic Classes\n",
    "-   Below is the most common classes introduced since Python 1.x - Data types:\n",
    "\n",
    "| **Basic Classes** | **Description**                       | **Example**                 |\n",
    "|:-----------------:|:-------------------------------------:|:---------------------------:|\n",
    "| **`int`**         | Integer                               | -100, -2, 0, -1, 300        | \n",
    "| **`float`**       | Floating-point number                 | -13.13, 0.0, 1.12, 0.12e-12 |\n",
    "| **`str`**         | String                                | 'A string', \"1234\", '''1.1e-3''', \"\"\"A\"\"\" |\n",
    "| **`bool`**        | Boolean (only has two objects)        | True, False                 |\n",
    "| **`None`**        | Nothing (only has one object)         | None                        |\n",
    "\n",
    "\n",
    "### Container Classes\n",
    "\n",
    "-   Below is the most common container classes introduced since Python 1.x - Container data types:\n",
    "\n",
    "| **Container Classes** | **Description**                                                       | **Example**                 |\n",
    "|:---------------------:|:---------------------------------------------------------------------:|:---------------------------:|\n",
    "| **`list`**            | Ordered sequence of objects. Objects in the list are mutable.         | [0, 1. 2]                   | \n",
    "| **`tuple`**           | Ordered sequence of objects. Objects in the tuple are immutable.      | (0, 1, 2)                   |\n",
    "| **`set`**             | Unordered sequence of unique objects. Objects in the set are mutable. | {'a', 2, 'b'                |\n",
    "| **`dict`**            | Ordered mapping of key-object pairs. Objects in the dict are mutable. | {'a':1, 'b':2, '3':3}       |\n",
    "| **`range`**           | Ordered running sequence of items. Object in the range are immutable. | range(1,10)                 |"
   ]
  },
  {
   "cell_type": "markdown",
   "metadata": {},
   "source": [
    "<span class='ex'>Example: Attributes and functions in common classes</span>"
   ]
  },
  {
   "cell_type": "code",
   "execution_count": 7,
   "metadata": {},
   "outputs": [
    {
     "name": "stdout",
     "output_type": "stream",
     "text": [
      "int   has the following attributes and methods:\n",
      "----------------------------------------------------------------------\n",
      "['__abs__', '__add__', '__and__', '__bool__', '__ceil__', '__class__', '__delattr__', '__dir__', '__divmod__', '__doc__', '__eq__', '__float__', '__floor__', '__floordiv__', '__format__', '__ge__', '__getattribute__', '__getnewargs__', '__gt__', '__hash__', '__index__', '__init__', '__init_subclass__', '__int__', '__invert__', '__le__', '__lshift__', '__lt__', '__mod__', '__mul__', '__ne__', '__neg__', '__new__', '__or__', '__pos__', '__pow__', '__radd__', '__rand__', '__rdivmod__', '__reduce__', '__reduce_ex__', '__repr__', '__rfloordiv__', '__rlshift__', '__rmod__', '__rmul__', '__ror__', '__round__', '__rpow__', '__rrshift__', '__rshift__', '__rsub__', '__rtruediv__', '__rxor__', '__setattr__', '__sizeof__', '__str__', '__sub__', '__subclasshook__', '__truediv__', '__trunc__', '__xor__', 'bit_length', 'conjugate', 'denominator', 'from_bytes', 'imag', 'numerator', 'real', 'to_bytes']\n",
      "\n",
      "float has the following attributes and methods:\n",
      "----------------------------------------------------------------------\n",
      "['__abs__', '__add__', '__bool__', '__class__', '__delattr__', '__dir__', '__divmod__', '__doc__', '__eq__', '__float__', '__floordiv__', '__format__', '__ge__', '__getattribute__', '__getformat__', '__getnewargs__', '__gt__', '__hash__', '__init__', '__init_subclass__', '__int__', '__le__', '__lt__', '__mod__', '__mul__', '__ne__', '__neg__', '__new__', '__pos__', '__pow__', '__radd__', '__rdivmod__', '__reduce__', '__reduce_ex__', '__repr__', '__rfloordiv__', '__rmod__', '__rmul__', '__round__', '__rpow__', '__rsub__', '__rtruediv__', '__set_format__', '__setattr__', '__sizeof__', '__str__', '__sub__', '__subclasshook__', '__truediv__', '__trunc__', 'as_integer_ratio', 'conjugate', 'fromhex', 'hex', 'imag', 'is_integer', 'real']\n",
      "\n",
      "str   has the following attributes and methods:\n",
      "----------------------------------------------------------------------\n",
      "['__add__', '__class__', '__contains__', '__delattr__', '__dir__', '__doc__', '__eq__', '__format__', '__ge__', '__getattribute__', '__getitem__', '__getnewargs__', '__gt__', '__hash__', '__init__', '__init_subclass__', '__iter__', '__le__', '__len__', '__lt__', '__mod__', '__mul__', '__ne__', '__new__', '__reduce__', '__reduce_ex__', '__repr__', '__rmod__', '__rmul__', '__setattr__', '__sizeof__', '__str__', '__subclasshook__', 'capitalize', 'casefold', 'center', 'count', 'encode', 'endswith', 'expandtabs', 'find', 'format', 'format_map', 'index', 'isalnum', 'isalpha', 'isascii', 'isdecimal', 'isdigit', 'isidentifier', 'islower', 'isnumeric', 'isprintable', 'isspace', 'istitle', 'isupper', 'join', 'ljust', 'lower', 'lstrip', 'maketrans', 'partition', 'replace', 'rfind', 'rindex', 'rjust', 'rpartition', 'rsplit', 'rstrip', 'split', 'splitlines', 'startswith', 'strip', 'swapcase', 'title', 'translate', 'upper', 'zfill']\n",
      "\n",
      "bool  has the following attributes and methods:\n",
      "----------------------------------------------------------------------\n",
      "['__abs__', '__add__', '__and__', '__bool__', '__ceil__', '__class__', '__delattr__', '__dir__', '__divmod__', '__doc__', '__eq__', '__float__', '__floor__', '__floordiv__', '__format__', '__ge__', '__getattribute__', '__getnewargs__', '__gt__', '__hash__', '__index__', '__init__', '__init_subclass__', '__int__', '__invert__', '__le__', '__lshift__', '__lt__', '__mod__', '__mul__', '__ne__', '__neg__', '__new__', '__or__', '__pos__', '__pow__', '__radd__', '__rand__', '__rdivmod__', '__reduce__', '__reduce_ex__', '__repr__', '__rfloordiv__', '__rlshift__', '__rmod__', '__rmul__', '__ror__', '__round__', '__rpow__', '__rrshift__', '__rshift__', '__rsub__', '__rtruediv__', '__rxor__', '__setattr__', '__sizeof__', '__str__', '__sub__', '__subclasshook__', '__truediv__', '__trunc__', '__xor__', 'bit_length', 'conjugate', 'denominator', 'from_bytes', 'imag', 'numerator', 'real', 'to_bytes']\n",
      "\n",
      "None  has the following attributes and methods:\n",
      "----------------------------------------------------------------------\n",
      "['__bool__', '__class__', '__delattr__', '__dir__', '__doc__', '__eq__', '__format__', '__ge__', '__getattribute__', '__gt__', '__hash__', '__init__', '__init_subclass__', '__le__', '__lt__', '__ne__', '__new__', '__reduce__', '__reduce_ex__', '__repr__', '__setattr__', '__sizeof__', '__str__', '__subclasshook__']\n",
      "\n",
      "list  has the following attributes and methods:\n",
      "----------------------------------------------------------------------\n",
      "['__add__', '__class__', '__contains__', '__delattr__', '__delitem__', '__dir__', '__doc__', '__eq__', '__format__', '__ge__', '__getattribute__', '__getitem__', '__gt__', '__hash__', '__iadd__', '__imul__', '__init__', '__init_subclass__', '__iter__', '__le__', '__len__', '__lt__', '__mul__', '__ne__', '__new__', '__reduce__', '__reduce_ex__', '__repr__', '__reversed__', '__rmul__', '__setattr__', '__setitem__', '__sizeof__', '__str__', '__subclasshook__', 'append', 'clear', 'copy', 'count', 'extend', 'index', 'insert', 'pop', 'remove', 'reverse', 'sort']\n",
      "\n",
      "tuple has the following attributes and methods:\n",
      "----------------------------------------------------------------------\n",
      "['__add__', '__class__', '__contains__', '__delattr__', '__dir__', '__doc__', '__eq__', '__format__', '__ge__', '__getattribute__', '__getitem__', '__getnewargs__', '__gt__', '__hash__', '__init__', '__init_subclass__', '__iter__', '__le__', '__len__', '__lt__', '__mul__', '__ne__', '__new__', '__reduce__', '__reduce_ex__', '__repr__', '__rmul__', '__setattr__', '__sizeof__', '__str__', '__subclasshook__', 'count', 'index']\n",
      "\n",
      "set   has the following attributes and methods:\n",
      "----------------------------------------------------------------------\n",
      "['__and__', '__class__', '__contains__', '__delattr__', '__dir__', '__doc__', '__eq__', '__format__', '__ge__', '__getattribute__', '__gt__', '__hash__', '__iand__', '__init__', '__init_subclass__', '__ior__', '__isub__', '__iter__', '__ixor__', '__le__', '__len__', '__lt__', '__ne__', '__new__', '__or__', '__rand__', '__reduce__', '__reduce_ex__', '__repr__', '__ror__', '__rsub__', '__rxor__', '__setattr__', '__sizeof__', '__str__', '__sub__', '__subclasshook__', '__xor__', 'add', 'clear', 'copy', 'difference', 'difference_update', 'discard', 'intersection', 'intersection_update', 'isdisjoint', 'issubset', 'issuperset', 'pop', 'remove', 'symmetric_difference', 'symmetric_difference_update', 'union', 'update']\n",
      "\n",
      "dict  has the following attributes and methods:\n",
      "----------------------------------------------------------------------\n",
      "['__class__', '__contains__', '__delattr__', '__delitem__', '__dir__', '__doc__', '__eq__', '__format__', '__ge__', '__getattribute__', '__getitem__', '__gt__', '__hash__', '__init__', '__init_subclass__', '__iter__', '__le__', '__len__', '__lt__', '__ne__', '__new__', '__reduce__', '__reduce_ex__', '__repr__', '__setattr__', '__setitem__', '__sizeof__', '__str__', '__subclasshook__', 'clear', 'copy', 'fromkeys', 'get', 'items', 'keys', 'pop', 'popitem', 'setdefault', 'update', 'values']\n",
      "\n",
      "range has the following attributes and methods:\n",
      "----------------------------------------------------------------------\n",
      "['__bool__', '__class__', '__contains__', '__delattr__', '__dir__', '__doc__', '__eq__', '__format__', '__ge__', '__getattribute__', '__getitem__', '__gt__', '__hash__', '__init__', '__init_subclass__', '__iter__', '__le__', '__len__', '__lt__', '__ne__', '__new__', '__reduce__', '__reduce_ex__', '__repr__', '__reversed__', '__setattr__', '__sizeof__', '__str__', '__subclasshook__', 'count', 'index', 'start', 'step', 'stop']\n",
      "\n"
     ]
    }
   ],
   "source": [
    "print('int   has the following attributes and methods:\\n', '-'*70+'\\n', dir(int),   sep='', end='\\n\\n')\n",
    "print('float has the following attributes and methods:\\n', '-'*70+'\\n', dir(float), sep='', end='\\n\\n')\n",
    "print('str   has the following attributes and methods:\\n', '-'*70+'\\n', dir(str),   sep='', end='\\n\\n')\n",
    "print('bool  has the following attributes and methods:\\n', '-'*70+'\\n', dir(bool),  sep='', end='\\n\\n')\n",
    "print('None  has the following attributes and methods:\\n', '-'*70+'\\n', dir(None),  sep='', end='\\n\\n')\n",
    "print('list  has the following attributes and methods:\\n', '-'*70+'\\n', dir(list),  sep='', end='\\n\\n')\n",
    "print('tuple has the following attributes and methods:\\n', '-'*70+'\\n', dir(tuple), sep='', end='\\n\\n')\n",
    "print('set   has the following attributes and methods:\\n', '-'*70+'\\n', dir(set),   sep='', end='\\n\\n')\n",
    "print('dict  has the following attributes and methods:\\n', '-'*70+'\\n', dir(dict),  sep='', end='\\n\\n')\n",
    "print('range has the following attributes and methods:\\n', '-'*70+'\\n', dir(range), sep='', end='\\n\\n')"
   ]
  },
  {
   "cell_type": "markdown",
   "metadata": {},
   "source": [
    "<span class='ex'>Example: Concatenate string</span>"
   ]
  },
  {
   "cell_type": "code",
   "execution_count": 14,
   "metadata": {},
   "outputs": [
    {
     "name": "stdout",
     "output_type": "stream",
     "text": [
      "greet1 = Hello World!\n",
      "greet2 = Hello World! - Hello World! - Hello World! - Hello World! - \n",
      "greet3 = Hello World! - Hello World! - Hello World! - Hello World!\n"
     ]
    }
   ],
   "source": [
    "x = 'Hello'\n",
    "y = 'World!'\n",
    "\n",
    "greet1 = x + ' ' + y\n",
    "print(f'greet1 = {greet1}')\n",
    "\n",
    "greet2 = (greet1 + ' - ') * 4\n",
    "print(f'greet2 = {greet2}')\n",
    "\n",
    "greet3 = ' - '.join([greet1]*4)\n",
    "print(f'greet3 = {greet3}')"
   ]
  },
  {
   "cell_type": "markdown",
   "metadata": {},
   "source": [
    "<span class='ex'>Example: String methods: <span class='mn'>split()</span>, <span class='mn'>replace()</span>, <span class='mn'>upper()</span>, <span class='mn'>lower()</span>, <span class='mn'>title()</span></span>"
   ]
  },
  {
   "cell_type": "code",
   "execution_count": 30,
   "metadata": {},
   "outputs": [
    {
     "name": "stdout",
     "output_type": "stream",
     "text": [
      "Split words: ['python,', 'has', 'an', 'english-like', 'syntax.']\n",
      "The string has 39 bytes and 5 words.\n",
      "\n",
      "Split words: ['python', 'has', 'an', 'english-like', 'syntax']\n",
      "The string has 37 bytes and 5 words.\n",
      "\n",
      "Split words: ['python', 'has', 'an', 'english-like', 'syntax']\n",
      "The string has 37 bytes and 5 words.\n",
      "\n",
      "Split words: ['python', 'has', 'an', 'english-like', 'syntax']\n",
      "The string has 37 bytes and 5 words.\n",
      "\n",
      "Split words: ['python', 'has', 'an', 'english-like', 'syntax']\n",
      "The string has 37 bytes and 5 words.\n",
      "\n"
     ]
    }
   ],
   "source": [
    "s = 'python, has an   english-like   syntax.'\n",
    "\n",
    "def myprint(astr):\n",
    "    words = s.split()\n",
    "    print(f'Split words: {words}')\n",
    "    print(f'The string has {len(astr)} bytes and {len(words)} words.\\n')\n",
    "\n",
    "myprint(s)\n",
    "\n",
    "s = s.replace(',', '')  # Remove ','\n",
    "s = s.replace('.', '')  # Remove '.'\n",
    "myprint(s)\n",
    "\n",
    "myprint(s.upper())\n",
    "myprint(s.lower())\n",
    "myprint(s.title())"
   ]
  },
  {
   "cell_type": "markdown",
   "metadata": {},
   "source": [
    "<span class='ex'>Example: <span class='mn'>strip()</span> and <span class='mn'>join()</span></span>"
   ]
  },
  {
   "cell_type": "code",
   "execution_count": 33,
   "metadata": {},
   "outputs": [
    {
     "name": "stdout",
     "output_type": "stream",
     "text": [
      "apple-->banana-->carrot\n"
     ]
    }
   ],
   "source": [
    "f1 = ' apple '\n",
    "f2 = '    banana   '\n",
    "f3 = '   carrot  '\n",
    "\n",
    "f1 = f1.strip()\n",
    "f2 = f2.strip()\n",
    "f3 = f3.strip()\n",
    "\n",
    "fruits = '-->'.join([f1, f2, f3])\n",
    "print(fruits)"
   ]
  },
  {
   "cell_type": "markdown",
   "metadata": {},
   "source": [
    "<span class='ex'>Example: Index, slices</span>"
   ]
  },
  {
   "cell_type": "code",
   "execution_count": 48,
   "metadata": {},
   "outputs": [
    {
     "name": "stdout",
     "output_type": "stream",
     "text": [
      "1\n",
      "234\n",
      "1357\n",
      "987654321\n",
      "a man a plan a canal panama\n",
      "a man a plan a canal panama\n"
     ]
    }
   ],
   "source": [
    "r = '123456789'\n",
    "print(r[0])       # 0th item from the left\n",
    "print(r[1:4])     # 1st to 3rd item from the left\n",
    "print(r[0:7:2])   # 0th to 7th items, skip every two\n",
    "print(r[-1::-1])  # Reverse the order\n",
    "\n",
    "s = 'amanaplanacanalpanama'\n",
    "print(s[0], s[1:4], s[4:5], s[5:9], s[9:10], s[10:15], s[15:])\n",
    "s = s[-1::-1]     # Reverse the string\n",
    "print(s[0], s[1:4], s[4:5], s[5:9], s[9:10], s[10:15], s[15:])"
   ]
  },
  {
   "cell_type": "markdown",
   "metadata": {},
   "source": [
    "<span class='ex'>Example: Create integers from numbers and string-encoded numbers</span>"
   ]
  },
  {
   "cell_type": "code",
   "execution_count": null,
   "metadata": {},
   "outputs": [],
   "source": [
    "print('int(1234)       =', int(1234))        # Create an int object from a number\n",
    "print('int(\"1234\")     =', int(\"1234\"))      # Create an int object from a string-encoded number\n",
    "print('int(\"1234\", 8)  =', int(\"1234\", 8))   # Create an int object from a string-encoded octet number\n",
    "print('int(\"1234\", 16) =', int(\"1234\", 16))  # Create an int object from a string-encoded hexademical number"
   ]
  },
  {
   "cell_type": "markdown",
   "metadata": {},
   "source": [
    "<span class='ex'>Example: Check if <span class='mn'>int</span> object using <span class='mn'>instance()</span></span>"
   ]
  },
  {
   "cell_type": "code",
   "execution_count": null,
   "metadata": {},
   "outputs": [],
   "source": [
    "x = 1234\n",
    "print(isinstance(x, int))  # Check if x an instance of int\n",
    "print(type(x))             # Print type of x"
   ]
  },
  {
   "cell_type": "markdown",
   "metadata": {},
   "source": [
    "<span class='ex'>Example: Conversion from other data type to <span class='mn'>int</span></span>"
   ]
  },
  {
   "cell_type": "code",
   "execution_count": null,
   "metadata": {},
   "outputs": [],
   "source": [
    "s = 1234          # Integer\n",
    "print(s, 'is of', type(s), '\\n')\n",
    "\n",
    "s = 1234.5678     # Floating point value\n",
    "print(s, 'is of', type(s))\n",
    "s = int(s)\n",
    "print(s, 'is of', type(s), '\\n')\n",
    "\n",
    "s = '1234'        # Integer encoded in string\n",
    "print(s, 'is of', type(s))\n",
    "s = int(s)\n",
    "print(s, 'is of', type(s))\n",
    "\n",
    "s = 0x1234        # Integer encoded in hexademical\n",
    "print(s, 'is of', type(s), '\\n')\n",
    "\n",
    "s = 0o1234567     # Integer encoded in octet\n",
    "print(s, 'is of', type(s), '\\n')\n",
    "\n",
    "s = 0b10101010    # Integer encoded in binary\n",
    "print(s, 'is of', type(s), '\\n')\n",
    "\n",
    "s = 123_45_567_90 # Available after Python 3.6\n",
    "print(s, 'is of', type(s), '\\n')"
   ]
  },
  {
   "cell_type": "markdown",
   "metadata": {},
   "source": [
    "<span class='ex'>Example: <span class='mn'>to_bytes()</span> - member methods in <span class='mn'>int</span> class</span>"
   ]
  },
  {
   "cell_type": "code",
   "execution_count": null,
   "metadata": {},
   "outputs": [],
   "source": [
    "help(int.to_bytes)"
   ]
  },
  {
   "cell_type": "markdown",
   "metadata": {},
   "source": [
    "<div class='info'>\n",
    "<b>Note</b>\n",
    "<ul>\n",
    "    <li><span class='mn'><b>self</b></span> indicates that it is an <b>instance</b> method, which can access unique data of its instance.</li>\n",
    "    <li><span class='mn'><b>/</b></span> indicates that parameters prior to the slash are positional-only</li>\n",
    "    <li><span class='mn'><b>*</b></span> indicates that parameters after the asterisk is passed by keyword</li>\n",
    "</ul>\n",
    "</div>"
   ]
  },
  {
   "cell_type": "markdown",
   "metadata": {},
   "source": [
    "<span class='ex'>Example: <span class='mn'>type()</span>, <span class='mn'>int.to_bytes()</span>, byte data and define custom function</span>"
   ]
  },
  {
   "cell_type": "code",
   "execution_count": null,
   "metadata": {},
   "outputs": [],
   "source": [
    "def print_int(x, n):\n",
    "    signed = False\n",
    "    if type(x) != int:\n",
    "        print(x, 'Expect an integer')\n",
    "        return\n",
    "    if type(n) != int:\n",
    "        print(n, 'Expect an integer')\n",
    "        return\n",
    "        \n",
    "    if x < 0:\n",
    "        signed = True\n",
    "\n",
    "    print(x.to_bytes(n, 'big', signed=signed))\n",
    "    print(x.to_bytes(n, 'little', signed=signed))\n",
    "        \n",
    "print_int(1234, 4)\n",
    "print_int(-1, 4)"
   ]
  },
  {
   "cell_type": "markdown",
   "metadata": {},
   "source": [
    "<span class='ex'>Example: <span class='mn'>from_bytes()</span> - static methods in <span class='ex'>int</span> class</span>"
   ]
  },
  {
   "cell_type": "markdown",
   "metadata": {},
   "source": [
    "***Note***:  \n",
    "-   **`from_bytes`** is a **static** method due to the absence of `self`.  It could not access any class-specific and instance data.\n",
    "-   There is another type method - **class method** which have a **`cls`** parameter and use that to access specific data or methods."
   ]
  },
  {
   "cell_type": "markdown",
   "metadata": {},
   "source": [
    "<span class='ex'>Example: <span class='mn'>from_bytes()</span></span>"
   ]
  },
  {
   "cell_type": "code",
   "execution_count": null,
   "metadata": {},
   "outputs": [],
   "source": [
    "x = b'\\x8f'\n",
    "print(int.from_bytes(x, 'big', signed=False))\n",
    "print(int.from_bytes(x, 'big', signed=True))\n",
    "print(int.from_bytes(x, 'little', signed=False))\n",
    "print(int.from_bytes(x, 'little', signed=True))"
   ]
  },
  {
   "cell_type": "markdown",
   "metadata": {},
   "source": [
    "<span class='ex'>Example: Mathematical operations with integer</span>"
   ]
  },
  {
   "cell_type": "code",
   "execution_count": null,
   "metadata": {},
   "outputs": [],
   "source": [
    "a = 2\n",
    "b = 100\n",
    "print(a, '+', b, '=', a+b)\n",
    "print(a, '-', b, '=', a-b)\n",
    "print(a, '*', b, '=', a*b)\n",
    "print(a, '/', b, '=', a/b)\n",
    "print(a, '**', b, '=', a**c)\n",
    "print(a, '%', b, '=', a%c)"
   ]
  },
  {
   "cell_type": "markdown",
   "metadata": {},
   "source": [
    "<span class='ex'>Example: f-string (Available after Python 3.6)</span>"
   ]
  },
  {
   "cell_type": "code",
   "execution_count": null,
   "metadata": {},
   "outputs": [],
   "source": [
    "a = 2\n",
    "b = 100\n",
    "print(f'a + b = {a+b}')\n",
    "print(f'a - b = {a-b}')\n",
    "print(f'a * b = {a*b}')\n",
    "print(f'a / b = {a/b}')\n",
    "print(f'a ** b = {a**b}')\n",
    "print(f'a % b = {a%b}')"
   ]
  },
  {
   "cell_type": "markdown",
   "metadata": {},
   "source": [
    "<span class='ex'>Example: f-string with debug (Available after Python 3.8)</span>"
   ]
  },
  {
   "cell_type": "code",
   "execution_count": null,
   "metadata": {},
   "outputs": [],
   "source": [
    "a = 2\n",
    "b = 100\n",
    "print(f'{a+b=}')\n",
    "print(f'{a-b=}')\n",
    "print(f'{a*b=}')\n",
    "print(f'{a/b=}')\n",
    "print(f'{a**b=}')\n",
    "print(f'{a%b=}')"
   ]
  },
  {
   "cell_type": "markdown",
   "metadata": {},
   "source": [
    "<span class='ex'>Example: Create float objects</span>"
   ]
  },
  {
   "cell_type": "code",
   "execution_count": null,
   "metadata": {},
   "outputs": [],
   "source": [
    "f = 0.1\n",
    "print(f'{f} is of type {type(f)}')\n",
    "f = 0.1234e3\n",
    "print(f'{f} is of type {type(f)}')\n",
    "f = 0.1234e-3\n",
    "print(f'{f} is of type {type(f)}')"
   ]
  },
  {
   "cell_type": "markdown",
   "metadata": {},
   "source": [
    "<span class='ex'>Example: Inexact floating-point arithmetic</span>"
   ]
  },
  {
   "cell_type": "code",
   "execution_count": null,
   "metadata": {},
   "outputs": [],
   "source": [
    "0.1 + 0.1 + 0.1 == 0.3"
   ]
  },
  {
   "cell_type": "markdown",
   "metadata": {},
   "source": [
    "<span class='ex'>Example: Conversion from other data type to <span class='mn'>float</span></span>"
   ]
  },
  {
   "cell_type": "code",
   "execution_count": null,
   "metadata": {},
   "outputs": [],
   "source": [
    "f = 1234.5678\n",
    "print(type(f))\n",
    "print(f)"
   ]
  },
  {
   "cell_type": "code",
   "execution_count": null,
   "metadata": {},
   "outputs": [],
   "source": [
    "f = 1_234.567_8\n",
    "print(type(f))\n",
    "print(f)"
   ]
  },
  {
   "cell_type": "code",
   "execution_count": null,
   "metadata": {},
   "outputs": [],
   "source": [
    "s = '1_234.567_8'   # A string\n",
    "f = float(s)        # Convert s into float\n",
    "print(type(f))\n",
    "print(f)"
   ]
  },
  {
   "cell_type": "code",
   "execution_count": null,
   "metadata": {},
   "outputs": [],
   "source": [
    "s = '1_234_.567'   # A string but '_' cannot be before or after '.'\n",
    "n = float(s)       # See https://bugs.python.org/issue35703"
   ]
  },
  {
   "cell_type": "code",
   "execution_count": null,
   "metadata": {},
   "outputs": [],
   "source": [
    "s = '1_234._567'   # A string but '_' cannot be before or after '.'\n",
    "n = float(s)       # See https://bugs.python.org/issue35703"
   ]
  },
  {
   "cell_type": "code",
   "execution_count": null,
   "metadata": {},
   "outputs": [],
   "source": [
    "s = '1234.5678'     # A string\n",
    "n = int(float(s))   # Convert s to float then to integer\n",
    "print(type(n))\n",
    "print(n)"
   ]
  },
  {
   "cell_type": "markdown",
   "metadata": {},
   "source": [
    "<span class='ex'>Example: <span class='mn'>float.as_integer_ratio()</span></span>"
   ]
  },
  {
   "cell_type": "code",
   "execution_count": null,
   "metadata": {},
   "outputs": [],
   "source": [
    "f = 2/3\n",
    "print(f'2/3 = {f}')\n",
    "n, d = f.as_integer_ratio()\n",
    "print(f'{n}/{d} = {n/d}')"
   ]
  },
  {
   "cell_type": "markdown",
   "metadata": {},
   "source": [
    "<span class='ex'>Example: Float arithmetic</span>"
   ]
  },
  {
   "cell_type": "code",
   "execution_count": null,
   "metadata": {},
   "outputs": [],
   "source": [
    "a = 2.17\n",
    "b = 100.123\n",
    "print(f'a + b = {a+b}')\n",
    "print(f'a - b = {a-b}')\n",
    "print(f'a * b = {a*b}')\n",
    "print(f'a / b = {a/b}')\n",
    "print(f'a ** b = {a**b}')\n",
    "print(f'a % b = {a%b}')"
   ]
  },
  {
   "cell_type": "markdown",
   "metadata": {},
   "source": [
    "<span class='ex'>Example: Use <span class='mn'>math</span> library for mathematic operations</span>"
   ]
  },
  {
   "cell_type": "code",
   "execution_count": null,
   "metadata": {},
   "outputs": [],
   "source": [
    "import math\n",
    "\n",
    "print(dir(math))\n",
    "print()\n",
    "\n",
    "print(f'pi = {math.pi}')\n",
    "print(f'e = {math.e}')\n",
    "print(f'1.01**365 = {math.pow(1.01, 365)}') \n",
    "print(f'sqrt(2) = {math.sqrt(2)}')\n",
    "print(f'trunc(123.5345) = {math.trunc(123.5345)}')\n",
    "print(f'modf(123.5345) = {math.modf(123.5345)}')\n",
    "print(f'ceil(15.4) = {math.ceil(15.4)}')\n",
    "print(f'floor(15.4) = {math.floor(15.4)}')\n",
    "print(f'log10(2) = {math.log10(2)}')\n",
    "print(f'log2(2) = {math.log2(2)}')\n",
    "print(f'log1p(2) = {math.log1p(2)}')\n",
    "print(f'log(2) = {math.log(2)}')"
   ]
  },
  {
   "cell_type": "markdown",
   "metadata": {},
   "source": [
    "<span class='ex'>Example: <span class='mn'>id()</span></span>"
   ]
  },
  {
   "cell_type": "code",
   "execution_count": null,
   "metadata": {},
   "outputs": [],
   "source": [
    "b = True\n",
    "f = False\n",
    "\n",
    "print(f'b={b}; {type(b)}; {id(b)}')\n",
    "print(f'f={f}; {type(f)}; {id(f)}')\n",
    "print(f'1==1; {type(1==1)}; {id(1==1)}')\n",
    "print(f'1==2; {type(1==2)}; {id(1==2)}')"
   ]
  },
  {
   "cell_type": "markdown",
   "metadata": {},
   "source": [
    "<span class='ex'>Example: Conversion from other data type to <span class='mn'>bool</span> objects</span>"
   ]
  },
  {
   "cell_type": "code",
   "execution_count": null,
   "metadata": {},
   "outputs": [],
   "source": [
    "print(f'bool(0) = {bool(0)}')\n",
    "print(f'bool(1) = {bool(1)}')\n",
    "print(f'bool(-1) = {bool(-1)}')\n",
    "print(f'bool(1.2) = {bool(1.2)}')\n",
    "print(f'bool(\"a\") = {bool(\"a\")}')"
   ]
  }
 ],
 "metadata": {
  "kernelspec": {
   "display_name": "Python 3",
   "language": "python",
   "name": "python3"
  },
  "language_info": {
   "codemirror_mode": {
    "name": "ipython",
    "version": 3
   },
   "file_extension": ".py",
   "mimetype": "text/x-python",
   "name": "python",
   "nbconvert_exporter": "python",
   "pygments_lexer": "ipython3",
   "version": "3.7.4"
  }
 },
 "nbformat": 4,
 "nbformat_minor": 4
}
