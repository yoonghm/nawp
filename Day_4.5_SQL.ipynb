{
 "cells": [
  {
   "cell_type": "code",
   "execution_count": 1,
   "metadata": {
    "jupyter": {
     "source_hidden": true
    },
    "slideshow": {
     "slide_type": "skip"
    }
   },
   "outputs": [
    {
     "data": {
      "text/html": [
       "<style>\n",
       "h1, h2, h3, h4, h5 {\n",
       "    color: darkblue;\n",
       "    font-weight: bold !important;\n",
       "}\n",
       "h2 {\n",
       "    border-bottom: 8px solid darkblue !important;\n",
       "    padding-bottom: 8px;\n",
       "}\n",
       "h3 {\n",
       "    border-bottom: 2px solid darkblue !important;\n",
       "    padding-bottom: 6px;\n",
       "}\n",
       ".info, .success, .warning, .error {\n",
       "    border: 1px solid;\n",
       "    margin: 10px 0px;\n",
       "    padding:15px 10px;\n",
       "}\n",
       ".info {\n",
       "    color: #00529b;\n",
       "    background-color: #bde5f8;\n",
       "}\n",
       ".success {\n",
       "    color: #4f8a10;\n",
       "    background-color: #dff2bf;\n",
       "}\n",
       ".warning {\n",
       "    color: #9f6000;\n",
       "    background-color: #FEEFB3;\n",
       "}\n",
       ".error {\n",
       "    color: #D8000C;\n",
       "    background-color: #FFBABA;\n",
       "}\n",
       ".language-bash {\n",
       "    font-weight: 900;\n",
       "}\n",
       ".ex {\n",
       "    font-weight: 900;\n",
       "    color: rgba(27,27,255,0.87) !important;\n",
       "}\n",
       ".mn {\n",
       "    font-family: Menlo, Consolas, \"DejaVu Sans Mono\", monospace\n",
       "}\n",
       "table {\n",
       "    margin-left: 0 !important;}\n",
       "</style>\n"
      ],
      "text/plain": [
       "<IPython.core.display.HTML object>"
      ]
     },
     "metadata": {},
     "output_type": "display_data"
    }
   ],
   "source": [
    "%%html\n",
    "<style>\n",
    "h1, h2, h3, h4, h5 {\n",
    "    color: darkblue;\n",
    "    font-weight: bold !important;\n",
    "}\n",
    "h2 {\n",
    "    border-bottom: 8px solid darkblue !important;\n",
    "    padding-bottom: 8px;\n",
    "}\n",
    "h3 {\n",
    "    border-bottom: 2px solid darkblue !important;\n",
    "    padding-bottom: 6px;\n",
    "}\n",
    ".info, .success, .warning, .error {\n",
    "    border: 1px solid;\n",
    "    margin: 10px 0px;\n",
    "    padding:15px 10px;\n",
    "}\n",
    ".info {\n",
    "    color: #00529b;\n",
    "    background-color: #bde5f8;\n",
    "}\n",
    ".success {\n",
    "    color: #4f8a10;\n",
    "    background-color: #dff2bf;\n",
    "}\n",
    ".warning {\n",
    "    color: #9f6000;\n",
    "    background-color: #FEEFB3;\n",
    "}\n",
    ".error {\n",
    "    color: #D8000C;\n",
    "    background-color: #FFBABA;\n",
    "}\n",
    ".language-bash {\n",
    "    font-weight: 900;\n",
    "}\n",
    ".ex {\n",
    "    font-weight: 900;\n",
    "    color: rgba(27,27,255,0.87) !important;\n",
    "}\n",
    ".mn {\n",
    "    font-family: Menlo, Consolas, \"DejaVu Sans Mono\", monospace\n",
    "}\n",
    "table {\n",
    "    margin-left: 0 !important;}\n",
    "</style>"
   ]
  },
  {
   "cell_type": "markdown",
   "metadata": {},
   "source": [
    "# 4.5 SQL"
   ]
  },
  {
   "cell_type": "markdown",
   "metadata": {},
   "source": [
    "## SQLite\n",
    "\n",
    "-   Download a precompiled binary (or its latest version) for your operating system:\n",
    "\n",
    "    1.  **Windows 10**  \n",
    "        [sqlite-tools-win32-x86-3300100.zip](https://www.sqlite.org/2019/sqlite-tools-win32-x86-3300100.zip)\n",
    "\n",
    "    1.  **Linux**  \n",
    "        [sqlite-tools-linux-x86-3300100.zip](https://www.sqlite.org/2019/sqlite-tools-linux-x86-3300100.zip)\n",
    "\n",
    "    1.  **Mac OS X (x86)**  \n",
    "        [sqlite-tools-osx-x86-3300100.zip](https://www.sqlite.org/2019/sqlite-tools-osx-x86-3300100.zip)\n",
    "\n",
    "\n",
    "-   Download the [chinook SQLite sample database](https://www.sqlitetutorial.net/sqlite-sample-database/) into `C:\\MyLesson\\NAWP\\chinook.db`\n",
    "\n",
    "\n",
    "![](https://www.sqlitetutorial.net/wp-content/uploads/2015/11/sqlite-sample-database-color.jpg)\n",
    "\n",
    "-   `employees` table stores employees data such as employee id, last name, first name, etc.  \n",
    "     It also has a field named `ReportsTo` to specify who reports to whom.\n",
    "     \n",
    "-   `customers` table stores customers data.\n",
    "\n",
    "-   `invoices` & `invoice_items` tables: these two tables store invoice data.  \n",
    "     The `invoices` table stores invoice header data.  \n",
    "     The `invoice_items` table stores the invoice line items data.\n",
    "-   `artists` table stores artists data. It is a simple table that contains only the artist id and name.\n",
    "\n",
    "-   `albums` table stores data about a list of tracks.  \n",
    "     Each album belongs to one artist. However, one artist may have multiple albums.\n",
    "     \n",
    "-   `media_types` table stores media types such as MPEG audio and AAC audio file.\n",
    "\n",
    "-   `genres` table stores music types such as rock, jazz, metal, etc.\n",
    "\n",
    "-   `tracks` table store the data of songs. Each track belongs to one album.\n",
    "\n",
    "-   `playlists` table store data about playlists. Each playlist contains a list of tracks.  \n",
    "     Each track may belong to multiple playlists. \n",
    "     \n",
    "-   `playlist_track` table stores the relationship between the playlists and tracks"
   ]
  },
  {
   "cell_type": "markdown",
   "metadata": {},
   "source": [
    "### Working with Database using <span class='mn'>sqlite3.exe</span>\n",
    "\n",
    "<pre>\n",
    "c:\\MyLesson\\NAWP><b><font color=\"blue\"> sqlite3</font></b>\n",
    "<b>SQLite version 3.30.1 2019-10-10 20:19:45</b>\n",
    "<b>Enter \".help\" for usage hints.</b>\n",
    "<b>Connected to a <font color=\"red\">transient in-memory database</font>.</b>\n",
    "<b>Use \".open FILENAME\" to reopen on a persistent database.</b>\n",
    "sqlite> <b><font color=\"blue\">.open C:/MyLesson/NAWP/chinook.db</font></b>\n",
    "sqlite> <b><font color=\"blue\">.table</font></b>\n",
    "<b>albums          employees       invoices        playlists</b>\n",
    "<b>artists         genres          media_types     tracks</b>\n",
    "<b>customers       invoice_items   playlist_track</b>\n",
    "sqlite> <b><font color=\"blue\">.exit</font></b>\n",
    "\n",
    "c:\\MyLesson\\NAWP>\n",
    "</pre>\n",
    "\n",
    "We could store SQL commands in a script and let `sqlite3` to execute.\n",
    "\n",
    "Let's create a script, `C:\\MyLesson\\NAWP\\script.sql` in the current directory, with the following commands:\n",
    "<pre>\n",
    "<b><font color=\"blue\">\n",
    ".open C:/MyLesson/NAWP/chinook.db\n",
    ".table\n",
    "</font></b>\n",
    "</pre>\n",
    "\n",
    "and execute the script like this:\n",
    "\n",
    "<pre>\n",
    "c:\\MyLesson\\NAWP> <b><font color=\"blue\">sqlite3 < script.sql </font></b>\n",
    "<b>albums          employees       invoices        playlists</b>\n",
    "<b>artists         genres          media_types     tracks</b>\n",
    "<b>customers       invoice_items   playlist_track</b>\n",
    "\n",
    "c:\\MyLesson\\NAWP>\n",
    "</pre>\n",
    "\n",
    "We do not need to execute `.exit` from within the script.  `sqlite3` will automatically exits once all the commands in the scripts are executed.\n",
    "\n",
    "We could type `.help` within `sqlite3` prompt to find out all available special commands from SQLite3.  Below is the complete list:\n",
    "\n",
    "```\n",
    ".auth ON|OFF             Show authorizer callbacks\n",
    ".backup ?DB? FILE        Backup DB (default \"main\") to FILE\n",
    ".bail on|off             Stop after hitting an error.  Default OFF\n",
    ".binary on|off           Turn binary output on or off.  Default OFF\n",
    ".cd DIRECTORY            Change the working directory to DIRECTORY\n",
    ".changes on|off          Show number of rows changed by SQL\n",
    ".check GLOB              Fail if output since .testcase does not match\n",
    ".clone NEWDB             Clone data into NEWDB from the existing database\n",
    ".databases               List names and files of attached databases\n",
    ".dbconfig ?op? ?val?     List or change sqlite3_db_config() options\n",
    ".dbinfo ?DB?             Show status information about the database\n",
    ".dump ?TABLE? ...        Render all database content as SQL\n",
    ".echo on|off             Turn command echo on or off\n",
    ".eqp on|off|full|...     Enable or disable automatic EXPLAIN QUERY PLAN\n",
    ".excel                   Display the output of next command in spreadsheet\n",
    ".exit ?CODE?             Exit this program with return-code CODE\n",
    ".expert                  EXPERIMENTAL. Suggest indexes for queries\n",
    ".filectrl CMD ...        Run various sqlite3_file_control() operations\n",
    ".fullschema ?--indent?   Show schema and the content of sqlite_stat tables\n",
    ".headers on|off          Turn display of headers on or off\n",
    ".help ?-all? ?PATTERN?   Show help text for PATTERN\n",
    ".import FILE TABLE       Import data from FILE into TABLE\n",
    ".imposter INDEX TABLE    Create imposter table TABLE on index INDEX\n",
    ".indexes ?TABLE?         Show names of indexes\n",
    ".limit ?LIMIT? ?VAL?     Display or change the value of an SQLITE_LIMIT\n",
    ".lint OPTIONS            Report potential schema issues.\n",
    ".load FILE ?ENTRY?       Load an extension library\n",
    ".log FILE|off            Turn logging on or off.  FILE can be stderr/stdout\n",
    ".mode MODE ?TABLE?       Set output mode\n",
    ".nullvalue STRING        Use STRING in place of NULL values\n",
    ".once (-e|-x|FILE)       Output for the next SQL command only to FILE\n",
    ".open ?OPTIONS? ?FILE?   Close existing database and reopen FILE\n",
    ".output ?FILE?           Send output to FILE or stdout if FILE is omitted\n",
    ".parameter CMD ...       Manage SQL parameter bindings\n",
    ".print STRING...         Print literal STRING\n",
    ".progress N              Invoke progress handler after every N opcodes\n",
    ".prompt MAIN CONTINUE    Replace the standard prompts\n",
    ".quit                    Exit this program\n",
    ".read FILE               Read input from FILE\n",
    ".restore ?DB? FILE       Restore content of DB (default \"main\") from FILE\n",
    ".save FILE               Write in-memory database into FILE\n",
    ".scanstats on|off        Turn sqlite3_stmt_scanstatus() metrics on or off\n",
    ".schema ?PATTERN?        Show the CREATE statements matching PATTERN\n",
    ".selftest ?OPTIONS?      Run tests defined in the SELFTEST table\n",
    ".separator COL ?ROW?     Change the column and row separators\n",
    ".sha3sum ...             Compute a SHA3 hash of database content\n",
    ".shell CMD ARGS...       Run CMD ARGS... in a system shell\n",
    ".show                    Show the current values for various settings\n",
    ".stats ?on|off?          Show stats or turn stats on or off\n",
    ".system CMD ARGS...      Run CMD ARGS... in a system shell\n",
    ".tables ?TABLE?          List names of tables matching LIKE pattern TABLE\n",
    ".testcase NAME           Begin redirecting output to 'testcase-out.txt'\n",
    ".testctrl CMD ...        Run various sqlite3_test_control() operations\n",
    ".timeout MS              Try opening locked tables for MS milliseconds\n",
    ".timer on|off            Turn SQL timer on or off\n",
    ".trace ?OPTIONS?         Output each SQL statement as it is run\n",
    ".vfsinfo ?AUX?           Information about the top-level VFS\n",
    ".vfslist                 List all available VFSes\n",
    ".vfsname ?AUX?           Print the name of the VFS stack\n",
    ".width NUM1 NUM2 ...     Set column widths for \"column\" mode\n",
    "```"
   ]
  },
  {
   "cell_type": "markdown",
   "metadata": {},
   "source": [
    "## <span class='mn'>sqlite3</span> - The standard Python package to interface with SQLite3"
   ]
  },
  {
   "cell_type": "markdown",
   "metadata": {},
   "source": [
    "<span class='ex'>Example: SQLite3 versions</span>"
   ]
  },
  {
   "cell_type": "code",
   "execution_count": 4,
   "metadata": {},
   "outputs": [
    {
     "name": "stdout",
     "output_type": "stream",
     "text": [
      "['Binary', 'Cache', 'Connection', 'Cursor', 'DataError', 'DatabaseError', 'Date', 'DateFromTicks', 'Error', 'IntegrityError', 'InterfaceError', 'InternalError', 'NotSupportedError', 'OperationalError', 'OptimizedUnicode', 'PARSE_COLNAMES', 'PARSE_DECLTYPES', 'PrepareProtocol', 'ProgrammingError', 'Row', 'SQLITE_ALTER_TABLE', 'SQLITE_ANALYZE', 'SQLITE_ATTACH', 'SQLITE_CREATE_INDEX', 'SQLITE_CREATE_TABLE', 'SQLITE_CREATE_TEMP_INDEX', 'SQLITE_CREATE_TEMP_TABLE', 'SQLITE_CREATE_TEMP_TRIGGER', 'SQLITE_CREATE_TEMP_VIEW', 'SQLITE_CREATE_TRIGGER', 'SQLITE_CREATE_VIEW', 'SQLITE_CREATE_VTABLE', 'SQLITE_DELETE', 'SQLITE_DENY', 'SQLITE_DETACH', 'SQLITE_DONE', 'SQLITE_DROP_INDEX', 'SQLITE_DROP_TABLE', 'SQLITE_DROP_TEMP_INDEX', 'SQLITE_DROP_TEMP_TABLE', 'SQLITE_DROP_TEMP_TRIGGER', 'SQLITE_DROP_TEMP_VIEW', 'SQLITE_DROP_TRIGGER', 'SQLITE_DROP_VIEW', 'SQLITE_DROP_VTABLE', 'SQLITE_FUNCTION', 'SQLITE_IGNORE', 'SQLITE_INSERT', 'SQLITE_OK', 'SQLITE_PRAGMA', 'SQLITE_READ', 'SQLITE_RECURSIVE', 'SQLITE_REINDEX', 'SQLITE_SAVEPOINT', 'SQLITE_SELECT', 'SQLITE_TRANSACTION', 'SQLITE_UPDATE', 'Statement', 'Time', 'TimeFromTicks', 'Timestamp', 'TimestampFromTicks', 'Warning', '__builtins__', '__cached__', '__doc__', '__file__', '__loader__', '__name__', '__package__', '__path__', '__spec__', 'adapt', 'adapters', 'apilevel', 'collections', 'complete_statement', 'connect', 'converters', 'datetime', 'dbapi2', 'enable_callback_tracebacks', 'enable_shared_cache', 'paramstyle', 'register_adapter', 'register_converter', 'sqlite_version', 'sqlite_version_info', 'threadsafety', 'time', 'version', 'version_info'] \n",
      "\n",
      "2.6.0 \n",
      "\n",
      "3.30.1 \n",
      "\n"
     ]
    }
   ],
   "source": [
    "import sqlite3\n",
    "\n",
    "print(dir(sqlite3), '\\n')\n",
    "print(sqlite3.version, '\\n')  # Version of pysqlite\n",
    "print(sqlite3.sqlite_version, '\\n') # SQLite database version"
   ]
  },
  {
   "cell_type": "markdown",
   "metadata": {},
   "source": [
    "### About transaction\n",
    "\n",
    "-   Python `sqlite3` module by default issues a `BEGIN` statement implicitly before a Data Modification Language (DML) statement (i.e., `INSERT`, `UPDATE`, `DELETE`, `REPLACE`).\n",
    "\n",
    "-   It *no* longer implicitly commit an open transaction before a Data Definition Language (DDL) statement.\n",
    "\n",
    "-   Manual transactions are started with the `BEGIN TRANSACTION` statement and finished with the `COMMIT` or `ROLLBACK` statements.\n",
    "\n",
    "-   SQLite supports three non-standard transaction levels: `DEFERRED`, `IMMEDIATE` and `EXCLUSIVE`.  Python `sqlite` module also supports an autocommit mode, where all changes to the tables are immediately effective."
   ]
  },
  {
   "cell_type": "markdown",
   "metadata": {},
   "source": [
    "<span class='ex'>Example: A simple but not secure PySQLite example</span>"
   ]
  },
  {
   "cell_type": "code",
   "execution_count": 1,
   "metadata": {},
   "outputs": [
    {
     "name": "stdout",
     "output_type": "stream",
     "text": [
      "Overwriting script.py\n"
     ]
    }
   ],
   "source": [
    "%%file script.py\n",
    "import sqlite3\n",
    "import os\n",
    "\n",
    "dbfile = r\"C:\\MyLesson\\NAWP\\example.db\"\n",
    "\n",
    "if os.path.exists(dbfile):\n",
    "    os.remove(dbfile)\n",
    "\n",
    "conn = sqlite3.connect(dbfile)\n",
    "c = conn.cursor()\n",
    "\n",
    "c.execute('SELECT SQLITE_VERSION()')\n",
    "data = c.fetchone()[0]\n",
    "print('SQLite database version: ', data)\n",
    "\n",
    "c.execute(\n",
    "    '''\n",
    "    CREATE TABLE IF NOT EXISTS stocks\n",
    "           (date   text,\n",
    "            trans  text,\n",
    "            symbol text,\n",
    "            qty    real,\n",
    "            price  real\n",
    "           )\n",
    "    '''\n",
    ")\n",
    "\n",
    "c.execute('INSERT INTO stocks VALUES(\"2019-11-03\",\"BUY\", \"UOB\", 10, 26.57)')\n",
    "c.execute('INSERT INTO stocks VALUES(\"2019-11-03\",\"BUY\", \"SingTel\", 1000, 11.02)')\n",
    "c.execute('INSERT INTO stocks VALUES(\"2019-11-03\",\"BUY\", \"CapitaLand\", 200, 3.65)')\n",
    "conn.commit()\n",
    "\n",
    "c.execute('SELECT * from stocks')\n",
    "for row in c.fetchall():\n",
    "    print(row)\n",
    "\n",
    "conn.close()"
   ]
  },
  {
   "cell_type": "code",
   "execution_count": 2,
   "metadata": {},
   "outputs": [
    {
     "name": "stdout",
     "output_type": "stream",
     "text": [
      "SQLite database version:  3.30.1\n",
      "('2019-11-03', 'BUY', 'UOB', 10.0, 26.57)\n",
      "('2019-11-03', 'BUY', 'SingTel', 1000.0, 11.02)\n",
      "('2019-11-03', 'BUY', 'CapitaLand', 200.0, 3.65)\n"
     ]
    }
   ],
   "source": [
    "!python script.py"
   ]
  },
  {
   "cell_type": "markdown",
   "metadata": {},
   "source": [
    "<p class='warning'> <b>Security</b><br>We should not assemble our using Python's string operations or put them as clear text.  It makes your program vulnerable to SQL injection attacks. Let's compile `myscript.py` to `.pyc` format.</p>"
   ]
  },
  {
   "cell_type": "code",
   "execution_count": 9,
   "metadata": {},
   "outputs": [
    {
     "data": {
      "text/plain": [
       "'.\\\\__pycache__\\\\script.cpython-37.pyc'"
      ]
     },
     "execution_count": 9,
     "metadata": {},
     "output_type": "execute_result"
    }
   ],
   "source": [
    "import py_compile\n",
    "py_compile.compile('./script.py')"
   ]
  },
  {
   "cell_type": "markdown",
   "metadata": {},
   "source": [
    "For a simple illustration, lets's replace all '\"BUY\", ' to '\"SEL\"'."
   ]
  },
  {
   "cell_type": "code",
   "execution_count": 4,
   "metadata": {},
   "outputs": [],
   "source": [
    "with open('.\\\\__pycache__\\\\script.cpython-37.pyc', 'rb') as f:\n",
    "    s = f.read()\n",
    "\n",
    "s = s.replace(b'BUY', b'SEL')\n",
    "\n",
    "with open('.\\\\__pycache__\\\\script.cpython-37.pyc', 'wb') as f:\n",
    "    f.write(s)"
   ]
  },
  {
   "cell_type": "markdown",
   "metadata": {},
   "source": [
    "Let's execute the modified pyc program."
   ]
  },
  {
   "cell_type": "code",
   "execution_count": 6,
   "metadata": {},
   "outputs": [
    {
     "name": "stdout",
     "output_type": "stream",
     "text": [
      "SQLite database version:  3.30.1\n",
      "('2019-11-03', 'SEL', 'UOB', 10.0, 26.57)\n",
      "('2019-11-03', 'SEL', 'SingTel', 1000.0, 11.02)\n",
      "('2019-11-03', 'SEL', 'CapitaLand', 200.0, 3.65)\n"
     ]
    }
   ],
   "source": [
    "!python .\\\\__pycache__\\\\script.cpython-37.pyc"
   ]
  },
  {
   "cell_type": "markdown",
   "metadata": {},
   "source": [
    "<span class='ex'>Example: A simple but more secure PySQLite example</span>"
   ]
  },
  {
   "cell_type": "code",
   "execution_count": 7,
   "metadata": {},
   "outputs": [
    {
     "name": "stdout",
     "output_type": "stream",
     "text": [
      "Overwriting script.py\n"
     ]
    }
   ],
   "source": [
    "%%file script.py\n",
    "import sqlite3\n",
    "         \n",
    "dbfile = r\"C:\\MyLesson\\NAWP\\example.db\"\n",
    "\n",
    "conn = sqlite3.connect(dbfile)\n",
    "c = conn.cursor()\n",
    "\n",
    "c.execute(\n",
    "    '''\n",
    "    CREATE TABLE IF NOT EXISTS stocks\n",
    "           (date   text,\n",
    "            trans  text,\n",
    "            symbol text,\n",
    "            qty    real,\n",
    "            price  real\n",
    "           )\n",
    "    '''\n",
    ")\n",
    "\n",
    "st = 'INSERT INTO stocks VALUES(?, ?, ?, ?, ?)'\n",
    "c.execute(st, (\"2019-11-03\",\"BUY\", \"UOB\", 10, 26.57))\n",
    "\n",
    "purchases = [\n",
    "    (\"2019-11-03\",\"BUY\", \"SingTel\", 1000, 11.02),\n",
    "    (\"2019-11-03\",\"BUY\", \"CapitaLand\", 200, 3.65)\n",
    "]\n",
    "c.executemany(st, purchases)\n",
    "conn.commit()\n",
    "\n",
    "c.execute('SELECT * from stocks')\n",
    "for row in c.fetchall():\n",
    "    print(row)\n",
    "\n",
    "conn.close()"
   ]
  },
  {
   "cell_type": "code",
   "execution_count": 8,
   "metadata": {},
   "outputs": [
    {
     "name": "stdout",
     "output_type": "stream",
     "text": [
      "('2019-11-03', 'SEL', 'UOB', 10.0, 26.57)\n",
      "('2019-11-03', 'SEL', 'SingTel', 1000.0, 11.02)\n",
      "('2019-11-03', 'SEL', 'CapitaLand', 200.0, 3.65)\n",
      "('2019-11-03', 'BUY', 'UOB', 10.0, 26.57)\n",
      "('2019-11-03', 'BUY', 'SingTel', 1000.0, 11.02)\n",
      "('2019-11-03', 'BUY', 'CapitaLand', 200.0, 3.65)\n"
     ]
    }
   ],
   "source": [
    "!python script.py"
   ]
  },
  {
   "cell_type": "markdown",
   "metadata": {},
   "source": [
    "## Working with Database using [<span class='mn'>pandas</span>](https://pandas.pydata.org/pandas-docs/stable/user_guide/io.html#io-sql)\n",
    "\n",
    "-   The <span class='mn'>pandas.io.sql</span> module provides a collection of query wrappers to both facilitate data retrieval and to reduce dependency on DB-specific API. Database abstraction is provided by SQLAlchemy if installed.\n",
    "\n",
    "-   In addition you will need a driver library for your database. Examples of such drivers are [<span class='mn'>psycopg2</span>](http://initd.org/psycopg/) for PostgreSQL or [<span class='mn'>pymysql</span>](https://github.com/PyMySQL/PyMySQL) for MySQL. For [<span class='mn'>SQLite</span>](https://docs.python.org/3/library/sqlite3.html) this is included in Python’s standard library by default.\n",
    "\n",
    "-   You can find an overview of supported drivers for each SQL dialect in the [SQLAlchemy docs](https://docs.sqlalchemy.org/en/latest/dialects/index.html)."
   ]
  },
  {
   "cell_type": "code",
   "execution_count": 1,
   "metadata": {},
   "outputs": [
    {
     "data": {
      "text/html": [
       "<div>\n",
       "<style scoped>\n",
       "    .dataframe tbody tr th:only-of-type {\n",
       "        vertical-align: middle;\n",
       "    }\n",
       "\n",
       "    .dataframe tbody tr th {\n",
       "        vertical-align: top;\n",
       "    }\n",
       "\n",
       "    .dataframe thead th {\n",
       "        text-align: right;\n",
       "    }\n",
       "</style>\n",
       "<table border=\"1\" class=\"dataframe\">\n",
       "  <thead>\n",
       "    <tr style=\"text-align: right;\">\n",
       "      <th></th>\n",
       "      <th>AlbumId</th>\n",
       "      <th>Title</th>\n",
       "    </tr>\n",
       "  </thead>\n",
       "  <tbody>\n",
       "    <tr>\n",
       "      <th>0</th>\n",
       "      <td>156</td>\n",
       "      <td>...And Justice For All</td>\n",
       "    </tr>\n",
       "    <tr>\n",
       "      <th>1</th>\n",
       "      <td>257</td>\n",
       "      <td>20th Century Masters - The Millennium Collecti...</td>\n",
       "    </tr>\n",
       "    <tr>\n",
       "      <th>2</th>\n",
       "      <td>296</td>\n",
       "      <td>A Copland Celebration, Vol. I</td>\n",
       "    </tr>\n",
       "    <tr>\n",
       "      <th>3</th>\n",
       "      <td>94</td>\n",
       "      <td>A Matter of Life and Death</td>\n",
       "    </tr>\n",
       "    <tr>\n",
       "      <th>4</th>\n",
       "      <td>95</td>\n",
       "      <td>A Real Dead One</td>\n",
       "    </tr>\n",
       "    <tr>\n",
       "      <th>5</th>\n",
       "      <td>96</td>\n",
       "      <td>A Real Live One</td>\n",
       "    </tr>\n",
       "    <tr>\n",
       "      <th>6</th>\n",
       "      <td>285</td>\n",
       "      <td>A Soprano Inspired</td>\n",
       "    </tr>\n",
       "    <tr>\n",
       "      <th>7</th>\n",
       "      <td>139</td>\n",
       "      <td>A TempestadeTempestade Ou O Livro Dos Dias</td>\n",
       "    </tr>\n",
       "    <tr>\n",
       "      <th>8</th>\n",
       "      <td>203</td>\n",
       "      <td>A-Sides</td>\n",
       "    </tr>\n",
       "    <tr>\n",
       "      <th>9</th>\n",
       "      <td>160</td>\n",
       "      <td>Ace Of Spades</td>\n",
       "    </tr>\n",
       "  </tbody>\n",
       "</table>\n",
       "</div>"
      ],
      "text/plain": [
       "   AlbumId                                              Title\n",
       "0      156                             ...And Justice For All\n",
       "1      257  20th Century Masters - The Millennium Collecti...\n",
       "2      296                      A Copland Celebration, Vol. I\n",
       "3       94                         A Matter of Life and Death\n",
       "4       95                                    A Real Dead One\n",
       "5       96                                    A Real Live One\n",
       "6      285                                 A Soprano Inspired\n",
       "7      139         A TempestadeTempestade Ou O Livro Dos Dias\n",
       "8      203                                            A-Sides\n",
       "9      160                                      Ace Of Spades"
      ]
     },
     "execution_count": 1,
     "metadata": {},
     "output_type": "execute_result"
    }
   ],
   "source": [
    "from sqlalchemy import create_engine\n",
    "import pandas as pd\n",
    "\n",
    "engine = create_engine('sqlite:///C:/MyLesson/NAWP/chinook.db')\n",
    "with engine.connect() as con:\n",
    "    con.begin()\n",
    "    data = pd.read_sql(\n",
    "    '''\n",
    "    SELECT AlbumId,\n",
    "           Title\n",
    "      FROM albums\n",
    "     ORDER BY Title\n",
    "     LIMIT 10;\n",
    "    ''',\n",
    "    con)\n",
    "data"
   ]
  },
  {
   "cell_type": "markdown",
   "metadata": {},
   "source": [
    "### Working with Database using [<span class='mn'>jupyterlab_sql</span>](https://github.com/pbugnion/jupyterlab-sql)\n",
    "\n",
    "**Installation**:\n",
    "\n",
    "1.  Install [node.js](https://nodejs.org/en/download/)\n",
    "\n",
    "2.  Open a **NEW** Anaconda terminal and type the following commands\n",
    "   \n",
    "    ```bash\n",
    "    pip install jupyterlab_sql\n",
    "    jupyter serverextension enable jupyterlab_sql --py --sys-prefix\n",
    "    jupyter lab build\n",
    "    ```\n",
    "    \n",
    "3.  Restart your Jupyter Lab.  You will notice a SQL icon in the launcher.\n",
    "\n",
    "4.  Type a URL to `sqlite:///C:/MyLesson/NAWP/chinook.db`"
   ]
  },
  {
   "cell_type": "code",
   "execution_count": null,
   "metadata": {},
   "outputs": [],
   "source": []
  }
 ],
 "metadata": {
  "kernelspec": {
   "display_name": "Python 3",
   "language": "python",
   "name": "python3"
  },
  "language_info": {
   "codemirror_mode": {
    "name": "ipython",
    "version": 3
   },
   "file_extension": ".py",
   "mimetype": "text/x-python",
   "name": "python",
   "nbconvert_exporter": "python",
   "pygments_lexer": "ipython3",
   "version": "3.7.5"
  }
 },
 "nbformat": 4,
 "nbformat_minor": 4
}
