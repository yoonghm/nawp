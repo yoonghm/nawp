{
 "cells": [
  {
   "cell_type": "code",
   "execution_count": 123,
   "metadata": {
    "jupyter": {
     "source_hidden": true
    },
    "slideshow": {
     "slide_type": "skip"
    }
   },
   "outputs": [
    {
     "data": {
      "text/html": [
       "<style>\n",
       "h1, h2, h3, h4, h5 {\n",
       "    color: darkblue;\n",
       "    font-weight: bold !important;\n",
       "}\n",
       "h2 {\n",
       "    border-bottom: 8px solid darkblue !important;\n",
       "    padding-bottom: 8px;\n",
       "}\n",
       "h3 {\n",
       "    border-bottom: 2px solid darkblue !important;\n",
       "    padding-bottom: 6px;\n",
       "}\n",
       ".info, .success, .warning, .error {\n",
       "    border: 1px solid;\n",
       "    margin: 10px 0px;\n",
       "    padding:15px 10px;\n",
       "}\n",
       ".info {\n",
       "    color: #00529b;\n",
       "    background-color: #bde5f8;\n",
       "}\n",
       ".success {\n",
       "    color: #4f8a10;\n",
       "    background-color: #dff2bf;\n",
       "}\n",
       ".warning {\n",
       "    color: #9f6000;\n",
       "    background-color: #FEEFB3;\n",
       "}\n",
       ".error {\n",
       "    color: #D8000C;\n",
       "    background-color: #FFBABA;\n",
       "}\n",
       ".language-bash {\n",
       "    font-weight: 900;\n",
       "}\n",
       ".ex {\n",
       "    font-weight: 900;\n",
       "    color: rgba(27,27,255,0.87) !important;\n",
       "}\n",
       ".mn {\n",
       "    font-family: Menlo, Consolas, \"DejaVu Sans Mono\", monospace\n",
       "}\n",
       "table {\n",
       "    margin-left: 0 !important;}\n",
       "</style>\n"
      ],
      "text/plain": [
       "<IPython.core.display.HTML object>"
      ]
     },
     "metadata": {},
     "output_type": "display_data"
    }
   ],
   "source": [
    "%%html\n",
    "<style>\n",
    "h1, h2, h3, h4, h5 {\n",
    "    color: darkblue;\n",
    "    font-weight: bold !important;\n",
    "}\n",
    "h2 {\n",
    "    border-bottom: 8px solid darkblue !important;\n",
    "    padding-bottom: 8px;\n",
    "}\n",
    "h3 {\n",
    "    border-bottom: 2px solid darkblue !important;\n",
    "    padding-bottom: 6px;\n",
    "}\n",
    ".info, .success, .warning, .error {\n",
    "    border: 1px solid;\n",
    "    margin: 10px 0px;\n",
    "    padding:15px 10px;\n",
    "}\n",
    ".info {\n",
    "    color: #00529b;\n",
    "    background-color: #bde5f8;\n",
    "}\n",
    ".success {\n",
    "    color: #4f8a10;\n",
    "    background-color: #dff2bf;\n",
    "}\n",
    ".warning {\n",
    "    color: #9f6000;\n",
    "    background-color: #FEEFB3;\n",
    "}\n",
    ".error {\n",
    "    color: #D8000C;\n",
    "    background-color: #FFBABA;\n",
    "}\n",
    ".language-bash {\n",
    "    font-weight: 900;\n",
    "}\n",
    ".ex {\n",
    "    font-weight: 900;\n",
    "    color: rgba(27,27,255,0.87) !important;\n",
    "}\n",
    ".mn {\n",
    "    font-family: Menlo, Consolas, \"DejaVu Sans Mono\", monospace\n",
    "}\n",
    "table {\n",
    "    margin-left: 0 !important;}\n",
    "</style>"
   ]
  },
  {
   "cell_type": "markdown",
   "metadata": {},
   "source": [
    "# Day 2: Up and Running with Python"
   ]
  },
  {
   "cell_type": "markdown",
   "metadata": {},
   "source": [
    "## 2.2 List and Tuple"
   ]
  },
  {
   "cell_type": "markdown",
   "metadata": {},
   "source": [
    "List and tuple share similar attributes and methods except that\n",
    "\n",
    "-   List is mutable but tuple is immutable\n",
    "    -   We could add or delete items from list but not from tuple\n",
    "    -   We could hash a tuple but not a list\n",
    "\n",
    "\n",
    "-   Tuple is more memory efficient than list\n",
    "\n",
    "-   We use square brackets \"\\[, \\]\" or `list()` to create list\n",
    "\n",
    "-   We use brackets \"\\(, \\)\" or `tuple()` to create tuple\n",
    "\n",
    "-   We could convert a tuple object to a list object by casting the former using `list()`\n",
    "\n",
    "-   We could convert a list object to a tuple object by casting the former using `tuple()`"
   ]
  },
  {
   "cell_type": "markdown",
   "metadata": {},
   "source": [
    "<span class='ex'>Example: Attributes and methods in <span class='mn'>list</span></span>"
   ]
  },
  {
   "cell_type": "code",
   "execution_count": null,
   "metadata": {},
   "outputs": [],
   "source": [
    "print(dir(list))"
   ]
  },
  {
   "cell_type": "markdown",
   "metadata": {},
   "source": [
    "<span class='ex'>Example: Create empty list</span>"
   ]
  },
  {
   "cell_type": "code",
   "execution_count": null,
   "metadata": {},
   "outputs": [],
   "source": [
    "a = []     # Create an empty list\n",
    "print(a)\n",
    "print(type(a))\n",
    "\n",
    "a = list() # Create an empty list\n",
    "print(a)\n",
    "print(type(a))"
   ]
  },
  {
   "cell_type": "markdown",
   "metadata": {},
   "source": [
    "<span class='ex'>Example: Create list</span>"
   ]
  },
  {
   "cell_type": "code",
   "execution_count": 3,
   "metadata": {},
   "outputs": [
    {
     "name": "stdout",
     "output_type": "stream",
     "text": [
      "[1, 2, 3, 4, 5]\n",
      "['a', 3.14, 100, True, [1, 2], (3, 4), {'a': 'apple'}]\n"
     ]
    }
   ],
   "source": [
    "a = [1,2,3,4,5] # Create a list with 5 items\n",
    "print(a)\n",
    "\n",
    "a = ['a', 3.14, 100, True, [1, 2], (3, 4), {\"a\": \"apple\"}]\n",
    "print(a)"
   ]
  },
  {
   "cell_type": "markdown",
   "metadata": {},
   "source": [
    "<span class='ex'>Example: Append item and list to an existing list</span>"
   ]
  },
  {
   "cell_type": "code",
   "execution_count": null,
   "metadata": {},
   "outputs": [],
   "source": [
    "a = []\n",
    "a.append(1)  # Append 1 to end of list a\n",
    "print(a)\n",
    "\n",
    "a.append(2)  # Append 2 to end of list a\n",
    "print(a)\n",
    "\n",
    "b = ['apple', 'banana']\n",
    "a.append(b)  # Append list a to end of list a\n",
    "print(a)"
   ]
  },
  {
   "cell_type": "markdown",
   "metadata": {},
   "source": [
    "<span class='ex'>Example: Accessing items from a list</span>"
   ]
  },
  {
   "cell_type": "code",
   "execution_count": null,
   "metadata": {},
   "outputs": [],
   "source": [
    "a = [0, 1, 2, ['apple', 'banana', 'carrot', 'durian']]\n",
    "\n",
    "print(a[0])    # 1st item from the list\n",
    "print(a[1])    # 2nd item from the list\n",
    "print(a[3])    # 4th item from the list\n",
    "print(a[3][3]) # 4th item from the sublist of 4th item in the list"
   ]
  },
  {
   "cell_type": "markdown",
   "metadata": {},
   "source": [
    "<span class='ex'>Example: Slices from a list</span>"
   ]
  },
  {
   "cell_type": "code",
   "execution_count": null,
   "metadata": {},
   "outputs": [],
   "source": [
    "a = [0, 1, 2, ['apple', 'banana', 'carrot', 'durian']]\n",
    "\n",
    "print(a[1:4])  # from index=1 to before index=3\n",
    "print(a[0::2]) # from index=0 to the end, skip every 2nd item\n",
    "\n",
    "print(a[-1])     # -1 means the last\n",
    "print(a[-2])     # -2 means the second last\n",
    "print(a[-1::-2]) # from index=-1 to the beginning, skip every 2nd item\n",
    "print(a[-1::-1]) # Reverse order of all items in the list"
   ]
  },
  {
   "cell_type": "code",
   "execution_count": 19,
   "metadata": {},
   "outputs": [
    {
     "name": "stdout",
     "output_type": "stream",
     "text": [
      "[0, 1, 2, ['apple', 'banana', 'carrot', 'durian']]\n",
      "[99, 1, 2, ['apple', 'banana', 'carrot', 'durian']]\n"
     ]
    }
   ],
   "source": [
    "a = [0, 1, 2, ['apple', 'banana', 'carrot', 'durian']]\n",
    "print(a)\n",
    "a[0] = 99\n",
    "print(a)"
   ]
  },
  {
   "cell_type": "markdown",
   "metadata": {},
   "source": [
    "<span class='ex'>Example: Insert item or lists in front of a given index</span>"
   ]
  },
  {
   "cell_type": "code",
   "execution_count": 23,
   "metadata": {},
   "outputs": [
    {
     "name": "stdout",
     "output_type": "stream",
     "text": [
      "[0, 1, 2, ['apple', 'banana', 'carrot', 'durian']]\n",
      "[0, 'Hi', 1, 2, ['apple', 'banana', 'carrot', 'durian']]\n",
      "[0, 'Hi', 1, 2, ['apple', 'banana', 'carrot', 'blueberry', 'durian']]\n"
     ]
    }
   ],
   "source": [
    "a = [0, 1, 2, ['apple', 'banana', 'carrot', 'durian']]\n",
    "print(a)\n",
    "\n",
    "a.insert(1, 'Hi')  # Insert 'Hi' before index=1\n",
    "print(a)\n",
    "\n",
    "a[4].insert(3, 'blueberry')\n",
    "print(a)"
   ]
  },
  {
   "cell_type": "markdown",
   "metadata": {},
   "source": [
    "<span class='ex'>Example: Check existance of an item in a list</span>"
   ]
  },
  {
   "cell_type": "code",
   "execution_count": 27,
   "metadata": {},
   "outputs": [
    {
     "name": "stdout",
     "output_type": "stream",
     "text": [
      "True\n",
      "False\n",
      "True\n"
     ]
    }
   ],
   "source": [
    "a = [0, 1, 2, ['apple', 'banana', 'carrot', 'durian']]\n",
    "\n",
    "print(1 in a)\n",
    "print([1] in a)\n",
    "print(['apple', 'banana', 'carrot', 'durian'] in a)"
   ]
  },
  {
   "cell_type": "markdown",
   "metadata": {},
   "source": [
    "<span class='ex'>Example: Count number of occurences of a given item in a list</span>"
   ]
  },
  {
   "cell_type": "code",
   "execution_count": 28,
   "metadata": {},
   "outputs": [
    {
     "data": {
      "text/plain": [
       "2"
      ]
     },
     "execution_count": 28,
     "metadata": {},
     "output_type": "execute_result"
    }
   ],
   "source": [
    "a = [0, 1, 2, 2, 4]\n",
    "\n",
    "a.count(2)"
   ]
  },
  {
   "cell_type": "markdown",
   "metadata": {},
   "source": [
    "<span class='ex'>Example: Get index of a given item from a list</span>"
   ]
  },
  {
   "cell_type": "code",
   "execution_count": 41,
   "metadata": {},
   "outputs": [
    {
     "name": "stdout",
     "output_type": "stream",
     "text": [
      "2\n",
      "4\n",
      "\n",
      "2, 4, 5, "
     ]
    }
   ],
   "source": [
    "a = [0, 1, 2, 3, 2, 2, 4]\n",
    "\n",
    "i = a.index(2)\n",
    "print(i)\n",
    "\n",
    "i = a.index(2, i+1)\n",
    "print(i)\n",
    "\n",
    "print()\n",
    "start = 0\n",
    "while True:\n",
    "    try:\n",
    "        i = a.index(2, start)\n",
    "        print(i, end=', ')\n",
    "        start = i+1\n",
    "    except:\n",
    "        break\n"
   ]
  },
  {
   "cell_type": "markdown",
   "metadata": {},
   "source": [
    "<span class='ex'>Example: Remove an item from a list</span>"
   ]
  },
  {
   "cell_type": "code",
   "execution_count": 42,
   "metadata": {},
   "outputs": [
    {
     "name": "stdout",
     "output_type": "stream",
     "text": [
      "[1, 2, 1, 3, 4, 5]\n"
     ]
    }
   ],
   "source": [
    "a = [1, 2, 1, 5, 3, 4, 5]\n",
    "a.remove(5)\n",
    "print(a)"
   ]
  },
  {
   "cell_type": "markdown",
   "metadata": {},
   "source": [
    "<span class='ex'>Example: Remove all items of a particular value from a list</span>"
   ]
  },
  {
   "cell_type": "code",
   "execution_count": 44,
   "metadata": {},
   "outputs": [
    {
     "name": "stdout",
     "output_type": "stream",
     "text": [
      "[1, 2, 1, 3, 4]\n"
     ]
    }
   ],
   "source": [
    "a = [1, 2, 1, 5, 3, 4, 5]\n",
    "\n",
    "while True:\n",
    "    try:\n",
    "        a.remove(5)\n",
    "    except ValueError:\n",
    "        break\n",
    "print(a)"
   ]
  },
  {
   "cell_type": "markdown",
   "metadata": {},
   "source": [
    "<span class='ex'>Example: Return and remove the last item list</span>"
   ]
  },
  {
   "cell_type": "code",
   "execution_count": 49,
   "metadata": {},
   "outputs": [
    {
     "name": "stdout",
     "output_type": "stream",
     "text": [
      "[1, 2, 1, 5, 3, 4, 5] \n",
      "\n",
      "5\n",
      "[1, 2, 1, 5, 3, 4] \n",
      "\n",
      "2\n",
      "[1, 1, 5, 3, 4] \n",
      "\n"
     ]
    }
   ],
   "source": [
    "a = [1, 2, 1, 5, 3, 4, 5]\n",
    "print(a, '\\n')\n",
    "n = a.pop()\n",
    "print(n)\n",
    "print(a, '\\n')\n",
    "n = a.pop(1)  # Remove and return item in index 2\n",
    "print(n)\n",
    "print(a, '\\n')"
   ]
  },
  {
   "cell_type": "markdown",
   "metadata": {},
   "source": [
    "<span class='ex'>Example: Clear all items from a list</span>"
   ]
  },
  {
   "cell_type": "code",
   "execution_count": 51,
   "metadata": {},
   "outputs": [
    {
     "name": "stdout",
     "output_type": "stream",
     "text": [
      "[]\n"
     ]
    }
   ],
   "source": [
    "a = [1, 2, 1, 5, 3, 4, 5]\n",
    "\n",
    "a.clear()\n",
    "print(a)"
   ]
  },
  {
   "cell_type": "markdown",
   "metadata": {},
   "source": [
    "<span class='ex'>Example: Sort items in a list</span>"
   ]
  },
  {
   "cell_type": "code",
   "execution_count": 53,
   "metadata": {},
   "outputs": [
    {
     "name": "stdout",
     "output_type": "stream",
     "text": [
      "[-3, -1, -0.1, 1, 2, 3, 4, 5, 8, 9, 10]\n",
      "['A', 'AA', 'Aa', 'a', 'aA']\n",
      "[10, 9, 8, 5, 4, 3, 2, 1, -0.1, -1, -3]\n"
     ]
    }
   ],
   "source": [
    "a = [1,3,2,10,-1,-3,-0.1,9,8,4,5]\n",
    "b = ['A','a','Aa','aA','AA']\n",
    "a.sort()\n",
    "print(a)\n",
    "b.sort()\n",
    "print(b)\n",
    "\n",
    "a.sort(reverse=True)\n",
    "print(a)"
   ]
  },
  {
   "cell_type": "markdown",
   "metadata": {},
   "source": [
    "<span class='ex'>Example: Aggregated function on list</span>"
   ]
  },
  {
   "cell_type": "code",
   "execution_count": 55,
   "metadata": {},
   "outputs": [
    {
     "name": "stdout",
     "output_type": "stream",
     "text": [
      "10\n",
      "-3\n",
      "37.9\n"
     ]
    }
   ],
   "source": [
    "<span class='ex'>\n",
    "\n",
    "print(max(a))\n",
    "print(min(a))\n",
    "print(sum(a))"
   ]
  },
  {
   "cell_type": "markdown",
   "metadata": {},
   "source": [
    "<span class='ex'>Example: Fatest method to compute the sum of 1 to 100?</span>"
   ]
  },
  {
   "cell_type": "code",
   "execution_count": 56,
   "metadata": {},
   "outputs": [
    {
     "name": "stdout",
     "output_type": "stream",
     "text": [
      "1.24 µs ± 32.9 ns per loop (mean ± std. dev. of 7 runs, 1000000 loops each)\n"
     ]
    }
   ],
   "source": [
    "%timeit sum(range(101))"
   ]
  },
  {
   "cell_type": "code",
   "execution_count": 57,
   "metadata": {},
   "outputs": [
    {
     "name": "stdout",
     "output_type": "stream",
     "text": [
      "5.94 µs ± 1.6 µs per loop (mean ± std. dev. of 7 runs, 100000 loops each)\n"
     ]
    }
   ],
   "source": [
    "%%timeit\n",
    "sumx = 0\n",
    "for x in range(101):\n",
    "    sumx += x"
   ]
  },
  {
   "cell_type": "code",
   "execution_count": 58,
   "metadata": {},
   "outputs": [
    {
     "name": "stdout",
     "output_type": "stream",
     "text": [
      "7.1 µs ± 487 ns per loop (mean ± std. dev. of 7 runs, 100000 loops each)\n"
     ]
    }
   ],
   "source": [
    "%%timeit\n",
    "sum(list(x for x in range(101)))"
   ]
  },
  {
   "cell_type": "markdown",
   "metadata": {},
   "source": [
    "<span class='ex'>Example: Extend a list with another list</span>"
   ]
  },
  {
   "cell_type": "code",
   "execution_count": null,
   "metadata": {},
   "outputs": [],
   "source": [
    "a = [1,3,2]\n",
    "\n",
    "a.extend('abc')\n",
    "print(a)"
   ]
  },
  {
   "cell_type": "markdown",
   "metadata": {},
   "source": [
    "<span class='ex'>Example: Attributes and methods in <span class='mn'>tuple</span></span>"
   ]
  },
  {
   "cell_type": "code",
   "execution_count": null,
   "metadata": {},
   "outputs": [],
   "source": [
    "print(dir(tuple))"
   ]
  },
  {
   "cell_type": "markdown",
   "metadata": {},
   "source": [
    "<span class='ex'>Examples: Common methods found in <span class='mn'>tuple</span> and <span class='mn'>list</span></span>"
   ]
  },
  {
   "cell_type": "code",
   "execution_count": null,
   "metadata": {},
   "outputs": [],
   "source": [
    "a = ()      # Create an empty tuple\n",
    "b = tuple() # Create an empty tuple\n",
    "b = (1, 2)  # Create a tuple with two items\n",
    "c = (1, 1.21, 'Hi', a, b)  # Create a tuple with different data types\n",
    "d = (1)\n",
    "e = (1,)\n",
    "print(a)\n",
    "print(b)\n",
    "print(c)\n",
    "print(d)\n",
    "print(e)\n",
    "print(type(a), type(b), type(c), type(d), type(e))"
   ]
  },
  {
   "cell_type": "code",
   "execution_count": null,
   "metadata": {},
   "outputs": [],
   "source": [
    "a = (1, 2, 3, 4, 5, 6, 7, 8, 9)\n",
    "print(a[0])\n",
    "print(a[0::2])\n",
    "print(a[0:6:3])\n",
    "print(a[-1])\n",
    "print(a[-1::-1])\n",
    "print(a[-1:-5:-1])"
   ]
  },
  {
   "cell_type": "code",
   "execution_count": null,
   "metadata": {},
   "outputs": [],
   "source": [
    "c = (1, 2, 3, (4, 5), (6, 7, 8), 9, (10, 11))\n",
    "print(c[0])    # First item of c\n",
    "print(c[4][1]) # 2nd item of 5th item in c"
   ]
  },
  {
   "cell_type": "code",
   "execution_count": null,
   "metadata": {},
   "outputs": [],
   "source": [
    "1 in c"
   ]
  },
  {
   "cell_type": "code",
   "execution_count": null,
   "metadata": {},
   "outputs": [],
   "source": [
    "c.count(-1)  # Count number of occurrance for -1"
   ]
  },
  {
   "cell_type": "code",
   "execution_count": null,
   "metadata": {},
   "outputs": [],
   "source": [
    "a = (1, 2, 3, 4, 5, 6, 7, 8, 9)\n",
    "print(max(a))\n",
    "print(min(a))\n",
    "print(sum(a))"
   ]
  },
  {
   "cell_type": "code",
   "execution_count": null,
   "metadata": {},
   "outputs": [],
   "source": [
    "a[0] = 100"
   ]
  },
  {
   "cell_type": "markdown",
   "metadata": {},
   "source": [
    "<span class='ex'>Example: Wwap values between tuples</span>"
   ]
  },
  {
   "cell_type": "code",
   "execution_count": 62,
   "metadata": {},
   "outputs": [
    {
     "name": "stdout",
     "output_type": "stream",
     "text": [
      "1 2\n",
      "1 2\n",
      "2 1\n"
     ]
    }
   ],
   "source": [
    "x, y = 1, 2  # Assign x to 1, y to 2\n",
    "print(x, y)\n",
    "a, b = x ,y  # Assign a to x, b to y\n",
    "print(a, b)\n",
    "x, y = y, x  # Swap x with y\n",
    "print(x, y)"
   ]
  },
  {
   "cell_type": "markdown",
   "metadata": {},
   "source": [
    "<span class='ex'>Example: The fastest way to retrieve indexes of 5's in a tuple</span>"
   ]
  },
  {
   "cell_type": "code",
   "execution_count": 132,
   "metadata": {},
   "outputs": [
    {
     "data": {
      "text/plain": [
       "10000"
      ]
     },
     "execution_count": 132,
     "metadata": {},
     "output_type": "execute_result"
    }
   ],
   "source": [
    "import random\n",
    "\n",
    "# Create 10,000 items of integer in [0,20] into a tuple\n",
    "random.seed(12)\n",
    "t = []  # t is a list at the moment\n",
    "for i in range(10_000):\n",
    "    t.append(random.randint(0,20))\n",
    "t = tuple(t)  # t is now a tuple\n",
    "len(t)"
   ]
  },
  {
   "cell_type": "code",
   "execution_count": 154,
   "metadata": {},
   "outputs": [
    {
     "name": "stdout",
     "output_type": "stream",
     "text": [
      "800 µs ± 52.4 µs per loop (mean ± std. dev. of 7 runs, 1000 loops each)\n"
     ]
    }
   ],
   "source": [
    "%%timeit\n",
    "index = []\n",
    "for i in range(len(t)):  # i is index from 0 ... len(t)-1\n",
    "    if t[i] == 5:\n",
    "        index.append(i)"
   ]
  },
  {
   "cell_type": "code",
   "execution_count": 153,
   "metadata": {},
   "outputs": [
    {
     "name": "stdout",
     "output_type": "stream",
     "text": [
      "484 µs ± 25.7 µs per loop (mean ± std. dev. of 7 runs, 1000 loops each)\n"
     ]
    }
   ],
   "source": [
    "%%timeit\n",
    "n = t.count(5)  # Number of occurence of 5 in t\n",
    "start = 0\n",
    "index = []\n",
    "while n > 0:\n",
    "    i = t.index(5, start) # Found the index of 5 from start\n",
    "    start = i+1  # Move start to the next item in the list\n",
    "    index.append(i)\n",
    "    n -= 1"
   ]
  },
  {
   "cell_type": "code",
   "execution_count": 152,
   "metadata": {},
   "outputs": [
    {
     "name": "stdout",
     "output_type": "stream",
     "text": [
      "435 µs ± 9.06 µs per loop (mean ± std. dev. of 7 runs, 1000 loops each)\n"
     ]
    }
   ],
   "source": [
    "%%timeit\n",
    "n = t.count(5)  # Number of occurence of 5 in t\n",
    "start = 0\n",
    "index = []\n",
    "for _ in range(n):\n",
    "    i = t.index(5, start) # Found the index of 5 from start\n",
    "    start = i+1  # Move start to the next item in the list\n",
    "    index.append(i)"
   ]
  }
 ],
 "metadata": {
  "kernelspec": {
   "display_name": "Python 3",
   "language": "python",
   "name": "python3"
  },
  "language_info": {
   "codemirror_mode": {
    "name": "ipython",
    "version": 3
   },
   "file_extension": ".py",
   "mimetype": "text/x-python",
   "name": "python",
   "nbconvert_exporter": "python",
   "pygments_lexer": "ipython3",
   "version": "3.7.4"
  }
 },
 "nbformat": 4,
 "nbformat_minor": 4
}
