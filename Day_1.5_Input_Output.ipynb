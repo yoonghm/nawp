{
 "cells": [
  {
   "cell_type": "code",
   "execution_count": null,
   "metadata": {
    "jupyter": {
     "source_hidden": true
    },
    "slideshow": {
     "slide_type": "skip"
    }
   },
   "outputs": [],
   "source": [
    "%%html\n",
    "<style>\n",
    "h1, h2, h3, h4, h5 {\n",
    "    color: darkblue;\n",
    "    font-weight: bold !important;\n",
    "}\n",
    "h2 {\n",
    "    border-bottom: 8px solid darkblue !important;\n",
    "    padding-bottom: 8px;\n",
    "}\n",
    "h3 {\n",
    "    border-bottom: 2px solid darkblue !important;\n",
    "    padding-bottom: 6px;\n",
    "}\n",
    ".info, .success, .warning, .error {\n",
    "    border: 1px solid;\n",
    "    margin: 10px 0px;\n",
    "    padding:15px 10px;\n",
    "}\n",
    ".info {\n",
    "    color: #00529b;\n",
    "    background-color: #bde5f8;\n",
    "}\n",
    ".success {\n",
    "    color: #4f8a10;\n",
    "    background-color: #dff2bf;\n",
    "}\n",
    ".warning {\n",
    "    color: #9f6000;\n",
    "    background-color: #FEEFB3;\n",
    "}\n",
    ".error {\n",
    "    color: #D8000C;\n",
    "    background-color: #FFBABA;\n",
    "}\n",
    ".language-bash {\n",
    "    font-weight: 900;\n",
    "}\n",
    ".ex {\n",
    "    font-weight: 900;\n",
    "    color: rgba(27,27,255,0.87) !important;\n",
    "}\n",
    ".mn {\n",
    "    font-family: Menlo, Consolas, \"DejaVu Sans Mono\", monospace\n",
    "}\n",
    "table {\n",
    "    margin-left: 0 !important;}\n",
    "</style>"
   ]
  },
  {
   "cell_type": "markdown",
   "metadata": {},
   "source": [
    "# Day 1: Up and Running with Python"
   ]
  },
  {
   "cell_type": "markdown",
   "metadata": {},
   "source": [
    "## 1.5 Standard Input and Output\n",
    "\n",
    "-   All operating systems provide streams to interact with users. Each stream is identified by an identifier which is known as *file descriptor*.\n",
    "\n",
    "-   Standard streams are input, output and error:\n",
    "\n",
    "| **Stream**       | **Example**       | **File Descriptor** |\n",
    "|:----------------:|:-----------------:|:-------------------:|\n",
    "| Standard input   | Keyboard, mouse   | 0                   |\n",
    "| Standard output  | Console, terminal | 1                   |\n",
    "| Standard error   | Console, terminal | 2                   |\n",
    "\n",
    "\n",
    "-  Python provides built-in functions \n",
    "\n",
    "| **Built-in Function**              | **Description**                             |\n",
    "|:----------------------------------:|:-------------------------------------------:|\n",
    "| **`input()`**                      | Take input from a program's standard input  |\n",
    "| **`print()`**                      | Write output to a program's standard output |\n",
    "| **`print(a_string, file=stderr)`** | Write a_string to the standard error        |\n",
    "\n",
    "\n",
    "### Formatted String\n",
    "-   Python provides several ways to convert and format data in different data types into string:\n",
    "    -   **printf-style** (This was available since Python 1 and is slow andnow obsolete)\n",
    "    -   **`str.Format`** class (This was available in Python 2.x is an improved version over printf-style)\n",
    "    -   **f-string** literal (This is the new and preferred way after Python 3.6)\n",
    "\n",
    "\n",
    "### Open File\n",
    "-   Python provides the build-in function `open()` to open a file.  \n",
    "    -   By default, `open()` opens a given file name as text mode for reading ('`rt`') .  This behaviour could be changed with 2nd positional argument.\n",
    "        -   '`r`' - open for reading (default)\n",
    "        -   '`w`' - open file for writing, truncate the file first\n",
    "        -   '`a`' - open file for writing, appending to the end of the file if it exists\n",
    "        -   '`b`' - binary mode\n",
    "        -   '`t`' - text mode (default)\n",
    "        -   '`+`' - open a disk file for updating (reading and writing)\n",
    "    -   The file returns a `file descriptor` (bigger than 2) which is *iterable*.\n",
    "    -   File descriptor is a limited resource. A file should be closed after used. \n",
    "    -   Use **`close()`** to close an opened file.\n",
    "    -   `close()` has no effect is a file is already closed.\n",
    "\n",
    "-  The file descriptor object provides the following member functions to operate on an openned file:\n",
    "\n",
    "| **Member Function of a Stream** | **Description**                                              |\n",
    "|---------------------------------|--------------------------------------------------------------|\n",
    "| **`write()`**                   | Write *bufferred* data to a given stream                     |\n",
    "| **`read(size)`**                | Read size bytes or whole file if size == 0 from the stream   |\n",
    "| **`readline(size)`**            | Return size bytes or a line if size == 0 from the stream     |\n",
    "| **`readlines()`**               | Return list of lines if size == 0 from the stream            |"
   ]
  },
  {
   "cell_type": "markdown",
   "metadata": {},
   "source": [
    "<span class='ex'>Example: <span class='mn'>open()</span> a new file for editing, <span class='mn'>print()</span> to file and <span class='mn'>%load</span>"
   ]
  },
  {
   "cell_type": "code",
   "execution_count": null,
   "metadata": {},
   "outputs": [],
   "source": [
    "from datetime import date\n",
    "\n",
    "out = './output.log'\n",
    "err = './error.log'\n",
    "\n",
    "f1 = open(out, 'w')   # Create a new file or overwrite the existing file\n",
    "f2 = open(err, 'a')   # Append to a new or existing file\n",
    "print(f'Hello World!', file=f1)\n",
    "print(f'Hello Python!', file=f1)\n",
    "print(f'{date.today()}: Error! Better quit!', file=f2)\n",
    "f1.close()                     # Remember to close it\n",
    "f2.close()                     # Remember to close it too"
   ]
  },
  {
   "cell_type": "code",
   "execution_count": null,
   "metadata": {},
   "outputs": [],
   "source": [
    "# %load ./output.log\n",
    "Hello World!\n",
    "Hello Python!\n"
   ]
  },
  {
   "cell_type": "code",
   "execution_count": null,
   "metadata": {},
   "outputs": [],
   "source": [
    "# %load ./error.log\n",
    "2019-11-18: Error! Better quit!\n",
    "2019-11-18: Error! Better quit!\n",
    "2019-11-18: Error! Better quit!2019-11-18: Error! Better quit!2019-11-18: Error! Better quit!\n"
   ]
  },
  {
   "cell_type": "markdown",
   "metadata": {},
   "source": [
    "<span class='ex'>Example: Use <span class='mn'>with)</span> context, without explictly closing an opened file**"
   ]
  },
  {
   "cell_type": "code",
   "execution_count": null,
   "metadata": {},
   "outputs": [],
   "source": [
    "from datetime import date\n",
    "\n",
    "out = './output.log'\n",
    "err = './error.log'\n",
    "\n",
    "with open(out, 'w') as f1, open(err, 'a')  as f2:\n",
    "    print(f'Hello World!\\n', end='', file=f1)\n",
    "    print(f'Hello Python!\\n', end='', file=f1)\n",
    "    print(f'{date.today()}: Error! Better quit!', end='', file=f2)"
   ]
  },
  {
   "cell_type": "markdown",
   "metadata": {},
   "source": [
    "<span class='ex'>Example: Use <span class='mn'>write())</span> to update file**"
   ]
  },
  {
   "cell_type": "code",
   "execution_count": null,
   "metadata": {},
   "outputs": [],
   "source": [
    "from datetime import date\n",
    "\n",
    "out = './output.log'\n",
    "err = './error.log'\n",
    "\n",
    "with open(out, 'w') as f1, open(err, 'a')  as f2:\n",
    "    f1.write(f'Hello World!\\n')\n",
    "    f1.write(f'Hello Python!\\n')\n",
    "    f2.write(f'{date.today()}: Error! Better quit!\\n')"
   ]
  },
  {
   "cell_type": "markdown",
   "metadata": {},
   "source": [
    "<span class='ex'>Example: Use <span class='mn'>read())</span> to read the whole file at one go</span>"
   ]
  },
  {
   "cell_type": "code",
   "execution_count": null,
   "metadata": {},
   "outputs": [],
   "source": [
    "err = './error.log'\n",
    "\n",
    "with open(err) as f:\n",
    "    data = f.read()\n",
    "\n",
    "print(type(data))\n",
    "print(data)\n",
    "\n",
    "# This solution would consume a lot of memory if the file is huge"
   ]
  },
  {
   "cell_type": "markdown",
   "metadata": {},
   "source": [
    "<span class='ex'>Example: Use <span class='mn'>readline()</span> to read line by line</span>"
   ]
  },
  {
   "cell_type": "code",
   "execution_count": null,
   "metadata": {},
   "outputs": [],
   "source": [
    "err = './error.log'\n",
    "\n",
    "with open(err) as f:\n",
    "    while True:\n",
    "        line = f.readline()\n",
    "        print(type(line))\n",
    "        if line:\n",
    "            print(line, end='')\n",
    "        else:\n",
    "            break\n",
    "\n",
    "# This is the preferred way to read text file line by line"
   ]
  },
  {
   "cell_type": "markdown",
   "metadata": {},
   "source": [
    "<span class='ex'>Example: Use <span class='mn'>readlines()</span> to read all lines at one go</span>"
   ]
  },
  {
   "cell_type": "code",
   "execution_count": null,
   "metadata": {},
   "outputs": [],
   "source": [
    "err = './error.log'\n",
    "\n",
    "with open(err) as f:\n",
    "    lines = f.readlines()\n",
    "\n",
    "for line in lines:\n",
    "    print(line, end='')\n",
    "\n",
    "# This solution would consume a lot of memory if the file is huge"
   ]
  },
  {
   "cell_type": "markdown",
   "metadata": {},
   "source": [
    "<span class='ex'>Example: Use <span class='mn'>read(nBytes)</span> to read <span class='mn'>nBytes</span> at most each time</span>"
   ]
  },
  {
   "cell_type": "code",
   "execution_count": null,
   "metadata": {},
   "outputs": [],
   "source": [
    "err = './error.log'\n",
    "\n",
    "totalBytes = 0\n",
    "\n",
    "with open(err, 'rb') as f:\n",
    "    while True:\n",
    "        line = f.read(20)\n",
    "        if line:\n",
    "            print(line)\n",
    "            totalBytes += len(line)\n",
    "        else:\n",
    "            break\n",
    "\n",
    "print(f'Read {totalBytes} bytes')\n",
    "\n",
    "# This solution is the preferred way to read binary file"
   ]
  },
  {
   "cell_type": "markdown",
   "metadata": {},
   "source": [
    "<span class='ex'>Example: Convert <span class='mn'>bytes</span> to <span class='mn'>str</span></span>"
   ]
  },
  {
   "cell_type": "code",
   "execution_count": null,
   "metadata": {},
   "outputs": [],
   "source": [
    "err = './error.log'\n",
    "\n",
    "totalBytes = 0\n",
    "\n",
    "with open(err, 'rb') as f:\n",
    "    while True:\n",
    "        line = f.read(20)\n",
    "        if line:\n",
    "            print(line.decode('utf-8'))\n",
    "            totalBytes += len(line)\n",
    "        else:\n",
    "            break\n",
    "\n",
    "print(f'Read {totalBytes} bytes')\n",
    "\n",
    "# This solution is the preferred way to read binary file"
   ]
  },
  {
   "cell_type": "markdown",
   "metadata": {},
   "source": [
    "<span class='ex'>Example: Comparison of formatting for string</span>"
   ]
  },
  {
   "cell_type": "code",
   "execution_count": null,
   "metadata": {},
   "outputs": [],
   "source": [
    "x = 'Hi'\n",
    "y = 'Python'\n",
    "\n",
    "t1 = '%s %s %s' % (x, x.upper(), y.upper())          # printf-style\n",
    "t2 = '{0} {1} {2}'.format(x, x.upper(), y.upper())   # String formatter\n",
    "t3 = f'{x} {x.upper()} {y.upper()}'                  # f-string\n",
    "\n",
    "print(t1)\n",
    "print(t2)\n",
    "print(t3)"
   ]
  },
  {
   "cell_type": "markdown",
   "metadata": {},
   "source": [
    "<span class='ex'>Example: Comparison of alignment formatting for string</span>"
   ]
  },
  {
   "cell_type": "code",
   "execution_count": null,
   "metadata": {},
   "outputs": [],
   "source": [
    "x = 'Python'\n",
    "\n",
    "s = ''\n",
    "for i in range(0,8):\n",
    "    s += f'{i:<10}'\n",
    "print(s + '\\n' + '123456789 '*7)\n",
    "\n",
    "# printf-style\n",
    "print(x + ' '*(40-len(x)))\n",
    "print(' '*(40-len(x))+x)\n",
    "print(' '*int((40-len(x))/2) + x + ' '*int((40-len(x))/2), '\\n')\n",
    "\n",
    "# str.format\n",
    "print('{0:<40}'.format(x))\n",
    "print('{0:>40}'.format(x))\n",
    "print('{0:^40}'.format(x), '\\n')\n",
    "\n",
    "# f-string\n",
    "print(f'{x:<40}')\n",
    "print(f'{x:>40}')\n",
    "print(f'{x:^40}')"
   ]
  },
  {
   "cell_type": "markdown",
   "metadata": {},
   "source": [
    "<span class='ex'>Example: Comparison of padding for string</span>"
   ]
  },
  {
   "cell_type": "code",
   "execution_count": null,
   "metadata": {},
   "outputs": [],
   "source": [
    "x = 'Python'\n",
    "\n",
    "s = ''\n",
    "for i in range(0,8):\n",
    "    s += f'{i:<10}'\n",
    "print(s + '\\n' + '123456789 '*7)\n",
    "\n",
    "# printf-style\n",
    "print(x + '#'*(40-len(x)))\n",
    "print('#'*(40-len(x))+x)\n",
    "print('#'*int((40-len(x))/2) + x + '#'*int((40-len(x))/2) + '\\n')\n",
    "\n",
    "# str.format\n",
    "print('{0:#<40}'.format(x))\n",
    "print('{0:#>40}'.format(x))\n",
    "print('{0:#^40}'.format(x), '\\n')\n",
    "\n",
    "# f-string\n",
    "print(f'{x:#<40}')\n",
    "print(f'{x:#>40}')\n",
    "print(f'{x:#^40}')"
   ]
  },
  {
   "cell_type": "markdown",
   "metadata": {},
   "source": [
    "<span class='ex'>Example: Comparison of Formatting for Integer</span>"
   ]
  },
  {
   "cell_type": "code",
   "execution_count": null,
   "metadata": {},
   "outputs": [],
   "source": [
    "x = 12\n",
    "\n",
    "s = ''\n",
    "for i in range(0,8):\n",
    "    s += f'{i:<10}'\n",
    "print(s + '\\n' + '123456789 '*7)\n",
    "\n",
    "# printf-style\n",
    "print('%04d' % (x))\n",
    "print('%4d' % (x))\n",
    "print('%+04d' % (x))\n",
    "print('%+4d' % (x))\n",
    "print('%04d' % (-1*x))\n",
    "print('%4d' % (-1*x), '\\n')\n",
    "\n",
    "# str.format\n",
    "print('{0:04d}'.format(x))\n",
    "print('{0:4d}'.format(x))\n",
    "print('{0:+04d}'.format(x))\n",
    "print('{0:+4d}'.format(x))\n",
    "print('{0:+04d}'.format(-1*x))\n",
    "print('{0:+4d}'.format(-1*x), '\\n')\n",
    "\n",
    "# f-string\n",
    "print(f'{x:04d}')\n",
    "print(f'{x:4d}')\n",
    "print(f'{x:+04d}')\n",
    "print(f'{x:+4d}')\n",
    "print(f'{-1*x:+04d}')\n",
    "print(f'{-1*x:+4d}')"
   ]
  },
  {
   "cell_type": "markdown",
   "metadata": {},
   "source": [
    "<span class='ex'>Example: Comparison of Formatting for Float</span>"
   ]
  },
  {
   "cell_type": "code",
   "execution_count": null,
   "metadata": {},
   "outputs": [],
   "source": [
    "x = 1234.567\n",
    "\n",
    "s = ''\n",
    "for i in range(0,8):\n",
    "    s += f'{i:<10}'\n",
    "print(s + '\\n' + '123456789 '*7)\n",
    "\n",
    "# printf-style\n",
    "print('%1.2f' % (x))\n",
    "print('%.3f' % (x))\n",
    "print('%E' % (x))\n",
    "print('%.2E' % (x))\n",
    "print('%-E' % (-1*x))\n",
    "print('%-.2E' % (-1*x), '\\n')\n",
    "\n",
    "# str.format\n",
    "print('{0:1.2f}'.format(x))\n",
    "print('{0:.3f}'.format(x))\n",
    "print('{0:E}'.format(x))\n",
    "print('{0:.2E}'.format(x))\n",
    "print('{0:-E}'.format(-1*x))\n",
    "print('{0:-.2E}'.format(-1*x), '\\n')\n",
    "\n",
    "# f-string\n",
    "print(f'{x:1.2f}')\n",
    "print(f'{x:.3f}')\n",
    "print(f'{x:E}')\n",
    "print(f'{x:.2E}')\n",
    "print(f'{-1*x:-E}')\n",
    "print(f'{-1*x:-.2E}')"
   ]
  },
  {
   "cell_type": "markdown",
   "metadata": {},
   "source": [
    "<span class='ex'>Example: Comparison of Formatting for Integer in Different Representation</span>"
   ]
  },
  {
   "cell_type": "code",
   "execution_count": null,
   "metadata": {},
   "outputs": [],
   "source": [
    "x = 1000\n",
    "\n",
    "s = ''\n",
    "for i in range(0,8):\n",
    "    s += f'{i:<10}'\n",
    "print(s + '\\n' + '123456789 '*7)\n",
    "\n",
    "# printf-style\n",
    "print('0x%X' % (x))\n",
    "print('0x%08x' % (x))\n",
    "print('0o%o' % (x))\n",
    "print('0o%08o' % (x))\n",
    "print('%s' % (bin(x)))\n",
    "d = bin(x)[2:]  # bin() return binary representation of x\n",
    "print('0b' + '0'*(16-len(d) if 16 > len(d) else 0) + d + '\\n')\n",
    "\n",
    "# str.format\n",
    "print('0x{0:X}'.format(x))\n",
    "print('0x{0:08x}'.format(x))\n",
    "print('0o{0:o}'.format(x))\n",
    "print('0o{0:08o}'.format(x))\n",
    "print('0b{0:b}'.format(x))\n",
    "print('0b{0:016b}'.format(x), '\\n')\n",
    "\n",
    "# f-string\n",
    "print(f'0x{x:X}')\n",
    "print(f'0x{x:08x}')\n",
    "print(f'0o{x:o}')\n",
    "print(f'0o{x:08o}')\n",
    "print(f'0b{x:b}')\n",
    "print(f'0b{x:016b}')"
   ]
  },
  {
   "cell_type": "markdown",
   "metadata": {},
   "source": [
    "<span class='ex'>Example: Write and read structured binary data to file, <span class='mn'>ctypes</span>, <span class='mn'>random.randint()</span>, <span class='mn'>random.uniform()</span></span>"
   ]
  },
  {
   "cell_type": "code",
   "execution_count": null,
   "metadata": {},
   "outputs": [],
   "source": [
    "# Let's determine actual size to store an integer and a float in C\n",
    "\n",
    "import ctypes\n",
    "print(ctypes.sizeof(ctypes.c_int))\n",
    "print(ctypes.sizeof(ctypes.c_float))"
   ]
  },
  {
   "cell_type": "code",
   "execution_count": null,
   "metadata": {},
   "outputs": [],
   "source": [
    "# Write the following data into a file\n",
    "# int       : Number of floating-point values in the file\n",
    "# float[0:4]: Actual floating-point values\n",
    "\n",
    "import random\n",
    "import struct\n",
    "\n",
    "dfile = './data.bin'\n",
    "\n",
    "#random.seed(12)\n",
    "n = random.randint(1,20)  # n is in [1,20]\n",
    "buff = bytearray(4)      # buffer to store encoded value\n",
    "\n",
    "with open(dfile, 'wb') as f:\n",
    "    struct.pack_into(\n",
    "        'i',  # integer\n",
    "        buff, # update into this memory\n",
    "        0,    # Starting byte in buff\n",
    "        n     # Value to be encoded and packed into buff\n",
    "    );\n",
    "    f.write(buff)     # Write integer\n",
    "    for i in range(0,n):\n",
    "        struct.pack_into(\n",
    "            'f',  # float\n",
    "            buff, # update into this memory\n",
    "            0,    # starting byte in buff\n",
    "            random.uniform(-100,100) # random float in [-100, 100]\n",
    "        )\n",
    "        f.write(buff) # Write float"
   ]
  },
  {
   "cell_type": "code",
   "execution_count": null,
   "metadata": {},
   "outputs": [],
   "source": [
    "!dir .\\data.bin"
   ]
  },
  {
   "cell_type": "code",
   "execution_count": null,
   "metadata": {},
   "outputs": [],
   "source": [
    "# Read back the data from ./data.bin\n",
    "\n",
    "import struct\n",
    "\n",
    "dfile = './data.bin'\n",
    "\n",
    "with open(dfile, 'rb') as f:\n",
    "    n = struct.unpack_from(\n",
    "        'i',\n",
    "        f.read(4)   # Read the first 4 bytes as integer\n",
    "    )[0]   # struct.unpack_from returns a tuple\n",
    "    \n",
    "    print(f'Total number of floats = {n}')\n",
    "    for i in range(0, n):\n",
    "        fl = struct.unpack_from(\n",
    "            'f',\n",
    "            f.read(4)  # Read the next 4 bytes as float\n",
    "        )[0]   # struct.unpack_from returns a tuple\n",
    "        \n",
    "        print(f'{i:3d}: {fl:8.4f}')"
   ]
  },
  {
   "cell_type": "markdown",
   "metadata": {},
   "source": [
    "<span class='ex'>Example: Write and read Python objects using <span class='mn'>pickle</span>"
   ]
  },
  {
   "cell_type": "code",
   "execution_count": null,
   "metadata": {},
   "outputs": [],
   "source": [
    "import random\n",
    "import pickle\n",
    "\n",
    "dfile = './data.pkl'\n",
    "\n",
    "random.seed(12)\n",
    "n = random.randint(1,20)  # n is in [1,20]\n",
    "data = [n]\n",
    "\n",
    "for i in range(0, n):\n",
    "    data.append(random.uniform(-100,100))\n",
    "\n",
    "with open(dfile, 'wb') as f:\n",
    "    pickle.dump(data, f)"
   ]
  },
  {
   "cell_type": "code",
   "execution_count": null,
   "metadata": {},
   "outputs": [],
   "source": [
    "!dir .\\data.pkl"
   ]
  },
  {
   "cell_type": "code",
   "execution_count": null,
   "metadata": {},
   "outputs": [],
   "source": [
    "import pickle\n",
    "\n",
    "dfile = './data.pkl'\n",
    "\n",
    "with open(dfile, 'rb') as f:\n",
    "    data = pickle.load(f)\n",
    "\n",
    "print(f'Total number of floats = {data[0]}')\n",
    "for i in range(1, data[0]):\n",
    "    print(f'{i:3d}: {data[i]:8.4f}')"
   ]
  },
  {
   "cell_type": "markdown",
   "metadata": {},
   "source": [
    "<span class='ex'>Example: Write and read Python objects using <span class='mn'>json</span></span>"
   ]
  },
  {
   "cell_type": "code",
   "execution_count": null,
   "metadata": {},
   "outputs": [],
   "source": [
    "import random\n",
    "import json\n",
    "\n",
    "dfile = './data.json'\n",
    "\n",
    "random.seed(12)\n",
    "n = random.randint(1,20)  # n is in [1,20]\n",
    "data = [n]\n",
    "\n",
    "for i in range(0, n):\n",
    "    data.append(random.uniform(-100,100))\n",
    "\n",
    "with open(dfile, 'wt') as f:\n",
    "    json.dump(data, f)"
   ]
  },
  {
   "cell_type": "code",
   "execution_count": null,
   "metadata": {},
   "outputs": [],
   "source": [
    "!dir .\\data.json"
   ]
  },
  {
   "cell_type": "code",
   "execution_count": null,
   "metadata": {},
   "outputs": [],
   "source": [
    "%load .\\data.json"
   ]
  },
  {
   "cell_type": "code",
   "execution_count": null,
   "metadata": {},
   "outputs": [],
   "source": [
    "import json\n",
    "\n",
    "dfile = './data.json'\n",
    "\n",
    "with open(dfile, 'rt') as f:\n",
    "    data = json.load(f)\n",
    "\n",
    "print(f'Total number of floats = {data[0]}')\n",
    "for i in range(1, data[0]):\n",
    "    print(f'{i:3d}: {data[i]:8.4f}')"
   ]
  }
 ],
 "metadata": {
  "kernelspec": {
   "display_name": "Python 3",
   "language": "python",
   "name": "python3"
  },
  "language_info": {
   "codemirror_mode": {
    "name": "ipython",
    "version": 3
   },
   "file_extension": ".py",
   "mimetype": "text/x-python",
   "name": "python",
   "nbconvert_exporter": "python",
   "pygments_lexer": "ipython3",
   "version": "3.7.4"
  }
 },
 "nbformat": 4,
 "nbformat_minor": 4
}
