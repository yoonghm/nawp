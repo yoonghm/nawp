{
 "cells": [
  {
   "cell_type": "code",
   "execution_count": 1,
   "metadata": {
    "jupyter": {
     "source_hidden": true
    },
    "slideshow": {
     "slide_type": "skip"
    }
   },
   "outputs": [
    {
     "data": {
      "text/html": [
       "<style>\n",
       "h1, h2, h3, h4, h5 {\n",
       "    color: darkblue;\n",
       "    font-weight: bold !important;\n",
       "}\n",
       "h2 {\n",
       "    border-bottom: 8px solid darkblue !important;\n",
       "    padding-bottom: 8px;\n",
       "}\n",
       "h3 {\n",
       "    border-bottom: 2px solid darkblue !important;\n",
       "    padding-bottom: 6px;\n",
       "}\n",
       ".info, .success, .warning, .error {\n",
       "    border: 1px solid;\n",
       "    margin: 10px 0px;\n",
       "    padding:15px 10px;\n",
       "}\n",
       ".info {\n",
       "    color: #00529b;\n",
       "    background-color: #bde5f8;\n",
       "}\n",
       ".success {\n",
       "    color: #4f8a10;\n",
       "    background-color: #dff2bf;\n",
       "}\n",
       ".warning {\n",
       "    color: #9f6000;\n",
       "    background-color: #FEEFB3;\n",
       "}\n",
       ".error {\n",
       "    color: #D8000C;\n",
       "    background-color: #FFBABA;\n",
       "}\n",
       ".language-bash {\n",
       "    font-weight: 900;\n",
       "}\n",
       ".ex {\n",
       "    font-weight: 900;\n",
       "    color: rgba(27,27,255,0.87) !important;\n",
       "}\n",
       ".mn {\n",
       "    font-family: Menlo, Consolas, \"DejaVu Sans Mono\", monospace\n",
       "}\n",
       "table {\n",
       "    margin-left: 0 !important;}\n",
       "</style>\n"
      ],
      "text/plain": [
       "<IPython.core.display.HTML object>"
      ]
     },
     "metadata": {},
     "output_type": "display_data"
    }
   ],
   "source": [
    "%%html\n",
    "<style>\n",
    "h1, h2, h3, h4, h5 {\n",
    "    color: darkblue;\n",
    "    font-weight: bold !important;\n",
    "}\n",
    "h2 {\n",
    "    border-bottom: 8px solid darkblue !important;\n",
    "    padding-bottom: 8px;\n",
    "}\n",
    "h3 {\n",
    "    border-bottom: 2px solid darkblue !important;\n",
    "    padding-bottom: 6px;\n",
    "}\n",
    ".info, .success, .warning, .error {\n",
    "    border: 1px solid;\n",
    "    margin: 10px 0px;\n",
    "    padding:15px 10px;\n",
    "}\n",
    ".info {\n",
    "    color: #00529b;\n",
    "    background-color: #bde5f8;\n",
    "}\n",
    ".success {\n",
    "    color: #4f8a10;\n",
    "    background-color: #dff2bf;\n",
    "}\n",
    ".warning {\n",
    "    color: #9f6000;\n",
    "    background-color: #FEEFB3;\n",
    "}\n",
    ".error {\n",
    "    color: #D8000C;\n",
    "    background-color: #FFBABA;\n",
    "}\n",
    ".language-bash {\n",
    "    font-weight: 900;\n",
    "}\n",
    ".ex {\n",
    "    font-weight: 900;\n",
    "    color: rgba(27,27,255,0.87) !important;\n",
    "}\n",
    ".mn {\n",
    "    font-family: Menlo, Consolas, \"DejaVu Sans Mono\", monospace\n",
    "}\n",
    "table {\n",
    "    margin-left: 0 !important;}\n",
    "</style>"
   ]
  },
  {
   "cell_type": "markdown",
   "metadata": {},
   "source": [
    "# Day 2: Up and Running with Python"
   ]
  },
  {
   "cell_type": "markdown",
   "metadata": {},
   "source": [
    "## 2.6 Others"
   ]
  },
  {
   "cell_type": "markdown",
   "metadata": {},
   "source": [
    "### Global Variables in Python"
   ]
  },
  {
   "cell_type": "markdown",
   "metadata": {},
   "source": [
    "If we need to reference a global variable from a local scope (such as within a function), we could use `global` before the variable name. If we do not do this, Python will assume that we are creating a new variable."
   ]
  },
  {
   "cell_type": "code",
   "execution_count": null,
   "metadata": {},
   "outputs": [],
   "source": [
    "a = 123\n",
    "\n",
    "def myfunc(b):\n",
    "    return b+a  # a refers to a global variable\n",
    "\n",
    "def myfunc2(b):\n",
    "    a = 0  # Create a local variable which is not related to the global a\n",
    "    return a+100\n",
    "\n",
    "def myfunc3(b):\n",
    "    global a\n",
    "    a = 999\n",
    "    return a+100\n",
    "\n",
    "print(myfunc(100))\n",
    "print(myfunc2(100))\n",
    "print(a)\n",
    "print(myfunc3(100))\n",
    "print(a)"
   ]
  },
  {
   "cell_type": "markdown",
   "metadata": {},
   "source": [
    "### Threading and Multiprocessing"
   ]
  },
  {
   "cell_type": "markdown",
   "metadata": {},
   "source": [
    "-   Threads can provide concurrency, even if they're not truly parallel."
   ]
  },
  {
   "cell_type": "markdown",
   "metadata": {},
   "source": [
    "<span class='ex'>Example: Sequential</span>"
   ]
  },
  {
   "cell_type": "code",
   "execution_count": null,
   "metadata": {},
   "outputs": [],
   "source": [
    "%%file ./sequential_1.py\n",
    "import time\n",
    "import requests\n",
    "\n",
    "def cpu_task(number):\n",
    "    for i in range(1000):\n",
    "        sqr = number*number\n",
    "    global squares\n",
    "    squares.append(sqr)\n",
    "\n",
    "def io_task(url):\n",
    "    response = requests.get(url)\n",
    "    global length\n",
    "    length[url] = len(response.content)\n",
    "\n",
    "########################\n",
    "start_time = time.time()\n",
    "\n",
    "squares = []\n",
    "for n in list(range(1,11)):\n",
    "    cpu_task(n)\n",
    "\n",
    "end_time = time.time()\n",
    "print(f'squares={squares}.\\n Total time = {end_time-start_time}')\n",
    "######################\n",
    "\n",
    "\n",
    "########################\n",
    "start_time = time.time()\n",
    "\n",
    "urls = ['http://LinuxJournal.com',\n",
    "        'http://en.wikipedia.org',\n",
    "        'http://Facebook.com',\n",
    "        'http://NYTimes.com',\n",
    "        'http://thetech.com',\n",
    "        'http://news.ycombinator.com',\n",
    "        'http://WashingtonPost.com',\n",
    "        'http://thetech.com',\n",
    "        'http://Haaretz.co.il',\n",
    "        'http://lerner.co.il'\n",
    "       ]\n",
    "length = {}\n",
    "for url in urls:\n",
    "    io_task(url)\n",
    "\n",
    "end_time = time.time()\n",
    "print(f'length={length}.\\n Total time = {end_time-start_time}')\n",
    "######################"
   ]
  },
  {
   "cell_type": "code",
   "execution_count": null,
   "metadata": {},
   "outputs": [],
   "source": [
    "!python ./sequential_1.py"
   ]
  },
  {
   "cell_type": "markdown",
   "metadata": {},
   "source": [
    "<span class='ex'>Example: Multithreading</span>"
   ]
  },
  {
   "cell_type": "code",
   "execution_count": null,
   "metadata": {},
   "outputs": [],
   "source": [
    "%%file ./thread_1.py\n",
    "import time\n",
    "import requests\n",
    "import threading\n",
    "\n",
    "def cpu_task(number):\n",
    "    for i in range(100):\n",
    "        sqr = number*number\n",
    "    global squares\n",
    "    squares.append(sqr)\n",
    "\n",
    "def io_task(url):\n",
    "    response = requests.get(url)\n",
    "    global length\n",
    "    length[url] = len(response.content)\n",
    "    \n",
    "########################\n",
    "start_time = time.time()\n",
    "\n",
    "squares = []\n",
    "threads = []\n",
    "\n",
    "for n in list(range(1,11)):\n",
    "    t = threading.Thread(target=cpu_task, args=(n,))\n",
    "    threads.append(t)\n",
    "    t.start()\n",
    "\n",
    "for t in threads:\n",
    "    t.join()\n",
    "\n",
    "end_time = time.time()\n",
    "print(f'squares={squares}.\\n Total time = {end_time-start_time}')\n",
    "######################\n",
    "\n",
    "\n",
    "########################\n",
    "start_time = time.time()\n",
    "\n",
    "urls = ['http://LinuxJournal.com',\n",
    "        'http://en.wikipedia.org',\n",
    "        'http://Facebook.com',\n",
    "        'http://NYTimes.com',\n",
    "        'http://thetech.com',\n",
    "        'http://news.ycombinator.com',\n",
    "        'http://WashingtonPost.com',\n",
    "        'http://thetech.com',\n",
    "        'http://Haaretz.co.il',\n",
    "        'http://lerner.co.il'\n",
    "       ]\n",
    "length = {}\n",
    "threads = []\n",
    "\n",
    "for url in urls:\n",
    "    t = threading.Thread(target=io_task, args=(url,))\n",
    "    threads.append(t)\n",
    "    t.start()\n",
    "\n",
    "for t in threads:\n",
    "    t.join()\n",
    "\n",
    "end_time = time.time()\n",
    "print(f'length={length}.\\n Total time = {end_time-start_time}')\n",
    "######################"
   ]
  },
  {
   "cell_type": "code",
   "execution_count": null,
   "metadata": {},
   "outputs": [],
   "source": [
    "!python ./thread_1.py"
   ]
  },
  {
   "cell_type": "markdown",
   "metadata": {},
   "source": [
    "#### It is noticed that\n",
    "-   The multithreading program performs faster then the task is IO-bound but not CPU-bound.\n",
    "-   There is a race condition in updating shared resources: `square` and `length`."
   ]
  },
  {
   "cell_type": "markdown",
   "metadata": {},
   "source": [
    "<span class='ex'>Example: Communication among thread using queue</span>"
   ]
  },
  {
   "cell_type": "code",
   "execution_count": null,
   "metadata": {},
   "outputs": [],
   "source": [
    "%%file ./thread_2.py\n",
    "import time\n",
    "import requests\n",
    "import threading\n",
    "from queue import Queue\n",
    "\n",
    "def cpu_task(number):\n",
    "    for i in range(100):\n",
    "        sqr = number*number\n",
    "    global queue\n",
    "    queue.put(sqr)\n",
    "\n",
    "def io_task(url):\n",
    "    response = requests.get(url)\n",
    "    global queue\n",
    "    queue.put((url,len(response.content)))\n",
    "\n",
    "########################\n",
    "start_time = time.time()\n",
    "\n",
    "threads = []\n",
    "queue = Queue()\n",
    "\n",
    "for n in list(range(1,11)):\n",
    "    t = threading.Thread(target=cpu_task, args=(n,))\n",
    "    threads.append(t)\n",
    "    t.start()\n",
    "\n",
    "for t in threads:\n",
    "    t.join()\n",
    "\n",
    "end_time = time.time()\n",
    "\n",
    "mylist= []\n",
    "while not queue.empty():\n",
    "    mylist.append(queue.get())\n",
    "\n",
    "print(f'squares={mylist}.\\n Total time = {end_time-start_time}')\n",
    "######################\n",
    "\n",
    "\n",
    "########################\n",
    "start_time = time.time()\n",
    "\n",
    "urls = ['http://LinuxJournal.com',\n",
    "        'http://en.wikipedia.org',\n",
    "        'http://Facebook.com',\n",
    "        'http://NYTimes.com',\n",
    "        'http://thetech.com',\n",
    "        'http://news.ycombinator.com',\n",
    "        'http://WashingtonPost.com',\n",
    "        'http://thetech.com',\n",
    "        'http://Haaretz.co.il',\n",
    "        'http://lerner.co.il'\n",
    "       ]\n",
    "queue = Queue()\n",
    "\n",
    "for url in urls:\n",
    "    t = threading.Thread(target=io_task, args=(url,))\n",
    "    threads.append(t)\n",
    "    t.start()\n",
    "\n",
    "for t in threads:\n",
    "    t.join()\n",
    "    \n",
    "end_time = time.time()\n",
    "\n",
    "mylist= []\n",
    "while not queue.empty():\n",
    "    mylist.append(queue.get())\n",
    "\n",
    "print(f'length={mylist}.\\n Total time = {end_time-start_time}')\n",
    "######################"
   ]
  },
  {
   "cell_type": "code",
   "execution_count": null,
   "metadata": {},
   "outputs": [],
   "source": [
    "!python ./thread_2.py"
   ]
  },
  {
   "cell_type": "markdown",
   "metadata": {},
   "source": [
    "### Multiprocessing\n",
    "-   Python's \"multiprocessing\" module feels like threads, but actually launches processes."
   ]
  },
  {
   "cell_type": "markdown",
   "metadata": {},
   "source": [
    "<span class=\"ex\">Example: Multiprocessing</span>"
   ]
  },
  {
   "cell_type": "code",
   "execution_count": null,
   "metadata": {},
   "outputs": [],
   "source": [
    "%%file ./multiprocessing_1.py\n",
    "import time\n",
    "import requests\n",
    "import multiprocessing as mp\n",
    "\n",
    "def cpu_task(queue, number):\n",
    "    for i in range(100):\n",
    "        sqr = number*number\n",
    "    queue.put(sqr)\n",
    "\n",
    "def io_task(queue, url):\n",
    "    response = requests.get(url)\n",
    "    queue.put((url,len(response.content)))\n",
    "\n",
    "\n",
    "if __name__ == '__main__':\n",
    "\n",
    "    ########################\n",
    "    start_time = time.time()\n",
    "\n",
    "    processes = []\n",
    "    queue = mp.Queue()\n",
    "\n",
    "    for n in list(range(1,11)):\n",
    "        p = mp.Process(target=cpu_task, args=(queue, n))\n",
    "        processes.append(p)\n",
    "        p.start()\n",
    "\n",
    "    for p in processes:\n",
    "        p.join()\n",
    "\n",
    "    mylist= []\n",
    "    while not queue.empty():\n",
    "        mylist.append(queue.get())\n",
    "        \n",
    "    end_time = time.time()\n",
    "    print(f'squares={mylist}.\\n Total time = {end_time-start_time}')\n",
    "    ######################\n",
    "\n",
    "\n",
    "    ########################\n",
    "    start_time = time.time()\n",
    "\n",
    "    urls = ['http://LinuxJournal.com',\n",
    "            'http://en.wikipedia.org',\n",
    "            'http://Facebook.com',\n",
    "            'http://NYTimes.com',\n",
    "            'http://thetech.com',\n",
    "            'http://news.ycombinator.com',\n",
    "            'http://WashingtonPost.com',\n",
    "            'http://thetech.com',\n",
    "            'http://Haaretz.co.il',\n",
    "            'http://lerner.co.il'\n",
    "           ]\n",
    "\n",
    "    for url in urls:\n",
    "        p = mp.Process(target=io_task, args=(queue, url))\n",
    "        processes.append(p)\n",
    "        p.start()\n",
    "\n",
    "    for p in processes:\n",
    "        p.join()\n",
    "    \n",
    "    mylist= []\n",
    "    while not queue.empty():\n",
    "        mylist.append(queue.get())\n",
    "\n",
    "    end_time = time.time()\n",
    "    print(f'length={mylist}.\\n Total time = {end_time-start_time}')\n",
    "    ######################"
   ]
  },
  {
   "cell_type": "code",
   "execution_count": null,
   "metadata": {},
   "outputs": [],
   "source": [
    "!python ./multiprocessing_1.py"
   ]
  },
  {
   "cell_type": "markdown",
   "metadata": {},
   "source": [
    "### Interfacing to CSV Files"
   ]
  },
  {
   "cell_type": "markdown",
   "metadata": {},
   "source": [
    "Let's download a sample csv file from http://samplecsvs.s3.amazonaws.com/SalesJan2009.csv"
   ]
  },
  {
   "cell_type": "code",
   "execution_count": null,
   "metadata": {},
   "outputs": [],
   "source": [
    "import pandas as pd\n",
    "import numpy as np\n",
    "\n",
    "df = pd.read_csv('SalesJan2009.csv', delimiter = ',')\n",
    "df[0:10]"
   ]
  },
  {
   "cell_type": "code",
   "execution_count": null,
   "metadata": {},
   "outputs": [],
   "source": [
    "# Show the top few rows\n",
    "df.head()"
   ]
  },
  {
   "cell_type": "code",
   "execution_count": null,
   "metadata": {},
   "outputs": [],
   "source": [
    "# Show the bottow few rows\n",
    "df.tail()"
   ]
  },
  {
   "cell_type": "code",
   "execution_count": null,
   "metadata": {},
   "outputs": [],
   "source": [
    "# Show the first 5 rows\n",
    "df[0:5]"
   ]
  },
  {
   "cell_type": "code",
   "execution_count": null,
   "metadata": {},
   "outputs": [],
   "source": [
    "df.sort_values??"
   ]
  },
  {
   "cell_type": "code",
   "execution_count": null,
   "metadata": {},
   "outputs": [],
   "source": [
    "# Return a new df with sorted rows by Payment_Type, followed by Country\n",
    "df.sort_values(by=['Payment_Type', 'Country'])"
   ]
  },
  {
   "cell_type": "code",
   "execution_count": null,
   "metadata": {},
   "outputs": [],
   "source": [
    "# Return the first 5 rows after sorted by Payment_Type, followed by Country\n",
    "df.sort_values(by=['Payment_Type', 'Country'])[0:5]"
   ]
  },
  {
   "cell_type": "code",
   "execution_count": null,
   "metadata": {},
   "outputs": [],
   "source": [
    "# Return the first row after sorted by Payment_Type, followed by Country\n",
    "df.sort_values(by=['Payment_Type', 'Country']).iloc[0]"
   ]
  },
  {
   "cell_type": "code",
   "execution_count": null,
   "metadata": {},
   "outputs": [],
   "source": [
    "# Return the first two positions after sorted by Payment_Type, followed by Country\n",
    "df.sort_values(by=['Payment_Type', 'Country']).iloc[0:2]"
   ]
  },
  {
   "cell_type": "code",
   "execution_count": null,
   "metadata": {},
   "outputs": [],
   "source": [
    "# Return the rows fron index=746 to index=425 after sorted by Payment_Type, followed by Country\n",
    "df.sort_values(by=['Payment_Type', 'Country']).loc[746:425]"
   ]
  },
  {
   "cell_type": "code",
   "execution_count": null,
   "metadata": {},
   "outputs": [],
   "source": [
    "# Return column Country\n",
    "df.Country"
   ]
  },
  {
   "cell_type": "code",
   "execution_count": null,
   "metadata": {},
   "outputs": [],
   "source": [
    "# Return column Country\n",
    "df['Country']"
   ]
  },
  {
   "cell_type": "code",
   "execution_count": null,
   "metadata": {},
   "outputs": [],
   "source": [
    "# Return rows with Country == 'United Kingdow'\n",
    "df.loc[df.Country == 'United Kingdom']"
   ]
  },
  {
   "cell_type": "code",
   "execution_count": null,
   "metadata": {},
   "outputs": [],
   "source": [
    "# Return column Name fow row with Country == 'United Kingdow'\n",
    "df.loc[df.Country == 'United Kingdom'].Name"
   ]
  },
  {
   "cell_type": "code",
   "execution_count": null,
   "metadata": {},
   "outputs": [],
   "source": [
    "# Return rows with Country == 'United Kingdow' and Paytment_Type = 'Visa'\n",
    "df1 = df.loc[(df.Country == 'United Kingdom') & (df.Payment_Type == 'Visa')][0:5]\n",
    "df1"
   ]
  },
  {
   "cell_type": "code",
   "execution_count": null,
   "metadata": {},
   "outputs": [],
   "source": [
    "for d in df1.itertuples():\n",
    "    print(d.Name)"
   ]
  }
 ],
 "metadata": {
  "kernelspec": {
   "display_name": "Python 3",
   "language": "python",
   "name": "python3"
  },
  "language_info": {
   "codemirror_mode": {
    "name": "ipython",
    "version": 3
   },
   "file_extension": ".py",
   "mimetype": "text/x-python",
   "name": "python",
   "nbconvert_exporter": "python",
   "pygments_lexer": "ipython3",
   "version": "3.7.4"
  }
 },
 "nbformat": 4,
 "nbformat_minor": 4
}
