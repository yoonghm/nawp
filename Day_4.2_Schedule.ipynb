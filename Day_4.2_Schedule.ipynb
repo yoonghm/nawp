{
 "cells": [
  {
   "cell_type": "code",
   "execution_count": 1,
   "metadata": {
    "jupyter": {
     "source_hidden": true
    },
    "slideshow": {
     "slide_type": "skip"
    }
   },
   "outputs": [
    {
     "data": {
      "text/html": [
       "<style>\n",
       "h1, h2, h3, h4, h5 {\n",
       "    color: darkblue;\n",
       "    font-weight: bold !important;\n",
       "}\n",
       "h2 {\n",
       "    border-bottom: 8px solid darkblue !important;\n",
       "    padding-bottom: 8px;\n",
       "}\n",
       "h3 {\n",
       "    border-bottom: 2px solid darkblue !important;\n",
       "    padding-bottom: 6px;\n",
       "}\n",
       ".info, .success, .warning, .error {\n",
       "    border: 1px solid;\n",
       "    margin: 10px 0px;\n",
       "    padding:15px 10px;\n",
       "}\n",
       ".info {\n",
       "    color: #00529b;\n",
       "    background-color: #bde5f8;\n",
       "}\n",
       ".success {\n",
       "    color: #4f8a10;\n",
       "    background-color: #dff2bf;\n",
       "}\n",
       ".warning {\n",
       "    color: #9f6000;\n",
       "    background-color: #FEEFB3;\n",
       "}\n",
       ".error {\n",
       "    color: #D8000C;\n",
       "    background-color: #FFBABA;\n",
       "}\n",
       ".language-bash {\n",
       "    font-weight: 900;\n",
       "}\n",
       ".ex {\n",
       "    font-weight: 900;\n",
       "    color: rgba(27,27,255,0.87) !important;\n",
       "}\n",
       ".mn {\n",
       "    font-family: Menlo, Consolas, \"DejaVu Sans Mono\", monospace\n",
       "}\n",
       "table {\n",
       "    margin-left: 0 !important;}\n",
       "</style>\n"
      ],
      "text/plain": [
       "<IPython.core.display.HTML object>"
      ]
     },
     "metadata": {},
     "output_type": "display_data"
    }
   ],
   "source": [
    "%%html\n",
    "<style>\n",
    "h1, h2, h3, h4, h5 {\n",
    "    color: darkblue;\n",
    "    font-weight: bold !important;\n",
    "}\n",
    "h2 {\n",
    "    border-bottom: 8px solid darkblue !important;\n",
    "    padding-bottom: 8px;\n",
    "}\n",
    "h3 {\n",
    "    border-bottom: 2px solid darkblue !important;\n",
    "    padding-bottom: 6px;\n",
    "}\n",
    ".info, .success, .warning, .error {\n",
    "    border: 1px solid;\n",
    "    margin: 10px 0px;\n",
    "    padding:15px 10px;\n",
    "}\n",
    ".info {\n",
    "    color: #00529b;\n",
    "    background-color: #bde5f8;\n",
    "}\n",
    ".success {\n",
    "    color: #4f8a10;\n",
    "    background-color: #dff2bf;\n",
    "}\n",
    ".warning {\n",
    "    color: #9f6000;\n",
    "    background-color: #FEEFB3;\n",
    "}\n",
    ".error {\n",
    "    color: #D8000C;\n",
    "    background-color: #FFBABA;\n",
    "}\n",
    ".language-bash {\n",
    "    font-weight: 900;\n",
    "}\n",
    ".ex {\n",
    "    font-weight: 900;\n",
    "    color: rgba(27,27,255,0.87) !important;\n",
    "}\n",
    ".mn {\n",
    "    font-family: Menlo, Consolas, \"DejaVu Sans Mono\", monospace\n",
    "}\n",
    "table {\n",
    "    margin-left: 0 !important;}\n",
    "</style>"
   ]
  },
  {
   "cell_type": "markdown",
   "metadata": {},
   "source": [
    "# 4.2 Schedule"
   ]
  },
  {
   "cell_type": "markdown",
   "metadata": {},
   "source": [
    "## Schedule\n",
    "\n",
    "-   `schedule` schedules Python functions or scripts to run any time, one-shot, periodically\n",
    "\n",
    "-   You could install it via\n",
    "\n",
    "```bash\n",
    "pip install schedule\n",
    "```"
   ]
  },
  {
   "cell_type": "markdown",
   "metadata": {},
   "source": [
    "<span class='ex'>Example: Schedule tasks that run sequentially</span>"
   ]
  },
  {
   "cell_type": "code",
   "execution_count": 15,
   "metadata": {},
   "outputs": [
    {
     "name": "stdout",
     "output_type": "stream",
     "text": [
      "Overwriting script.py\n"
     ]
    }
   ],
   "source": [
    "%%file script.py\n",
    "import schedule\n",
    "import time\n",
    "from datetime import datetime\n",
    "\n",
    "\n",
    "# The following program will run task sequentially. \n",
    "# Start execution time of all tasks will drift over times.\n",
    "# Scheduled but executed tasks will still run even it was already cancelled.\n",
    "\n",
    "def job(task, sleep, once=False):\n",
    "    time.sleep(sleep)\n",
    "    dt = datetime.now().strftime(\"%d/%m/%Y %H:%M:%S\")\n",
    "    \n",
    "    if task == 'Cancel-all-second-tasks':\n",
    "        print(f'{dt}: Cancel all task with second-task tag')\n",
    "        schedule.clear('second-task')  # Cancel other tasks with second-task tag\n",
    "\n",
    "    if once:\n",
    "        print(f'{dt}: {task:<40} has terminated')\n",
    "        return schedule.CancelJob  # Cancel itself\n",
    "\n",
    "    print(f'{dt}: {task:<30} has completed')\n",
    "\n",
    "\n",
    "schedule.every().seconds.do(job, 'Every-second-quick-task', 1).tag('second-task')\n",
    "schedule.every().seconds.do(job, 'Every-second-slow-task', 10).tag('second-task')\n",
    "schedule.every(20).seconds.do(job, '20-second-delay-task', 1, True)\n",
    "schedule.every(1).minutes.do(job, 'Cancel-all-second-tasks', 1, True)\n",
    "schedule.every().hour.do(job, 'Every-hour-task', 3)\n",
    "schedule.every().day.at(\"11:30\").do(job, 'Every-11:30-task')\n",
    "schedule.every().monday.do(job, 'Every-Monday-task')\n",
    "schedule.every().wednesday.at(\"13:15\").do(job, 'Every-Wednesday-11:35')\n",
    "schedule.every().day.at('22:30').do(job, 'Task 5')\n",
    "\n",
    "while True:\n",
    "    schedule.run_pending()\n",
    "    time.sleep(1)"
   ]
  },
  {
   "cell_type": "markdown",
   "metadata": {},
   "source": [
    "<span class='ex'>Example: Schedule tasks that run concurrently</span>"
   ]
  },
  {
   "cell_type": "markdown",
   "metadata": {},
   "source": [
    "<span class='ex'>Example: Use <span class='mn'>json.load()</span> to convert a text file with JSON string to a dictionary object</span>"
   ]
  },
  {
   "cell_type": "code",
   "execution_count": 20,
   "metadata": {},
   "outputs": [
    {
     "name": "stdout",
     "output_type": "stream",
     "text": [
      "Overwriting script.py\n"
     ]
    }
   ],
   "source": [
    "%%file script.py\n",
    "import threading\n",
    "import time\n",
    "import schedule\n",
    "\n",
    "def job1():\n",
    "    print(\"Job 1: I'm running on thread %s\" % threading.current_thread())\n",
    "\n",
    "def job2():\n",
    "    print(\"Job 2: I'm running on thread %s\" % threading.current_thread())\n",
    "\n",
    "def run_threaded(job_func):\n",
    "    job_thread = threading.Thread(target=job_func)\n",
    "    job_thread.start()\n",
    "    \n",
    "schedule.every(10).seconds.do(run_threaded, job1)\n",
    "schedule.every(10).seconds.do(run_threaded, job2)\n",
    "schedule.every(10).seconds.do(run_threaded, job1)\n",
    "schedule.every(10).seconds.do(run_threaded, job2)\n",
    "schedule.every(10).seconds.do(run_threaded, job1)\n",
    "\n",
    "while True:\n",
    "    schedule.run_pending()\n",
    "    time.sleep(1)\n",
    "    # The script run non-stop until we kill it.\n",
    "    # No need to join the threads as once the program ends,\n",
    "    # every resource is returned to the OS."
   ]
  }
 ],
 "metadata": {
  "kernelspec": {
   "display_name": "Python 3",
   "language": "python",
   "name": "python3"
  },
  "language_info": {
   "codemirror_mode": {
    "name": "ipython",
    "version": 3
   },
   "file_extension": ".py",
   "mimetype": "text/x-python",
   "name": "python",
   "nbconvert_exporter": "python",
   "pygments_lexer": "ipython3",
   "version": "3.7.5"
  }
 },
 "nbformat": 4,
 "nbformat_minor": 4
}
