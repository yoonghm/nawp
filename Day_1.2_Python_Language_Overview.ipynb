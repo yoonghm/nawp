{
 "cells": [
  {
   "cell_type": "code",
   "execution_count": 2,
   "metadata": {
    "jupyter": {
     "source_hidden": true
    },
    "slideshow": {
     "slide_type": "skip"
    }
   },
   "outputs": [
    {
     "data": {
      "text/html": [
       "<style>\n",
       "h1, h2, h3, h4, h5 {\n",
       "    color: darkblue;\n",
       "    font-weight: bold !important;\n",
       "}\n",
       "h2 {\n",
       "    border-bottom: 8px solid darkblue !important;\n",
       "    padding-bottom: 8px;\n",
       "}\n",
       "h3 {\n",
       "    border-bottom: 2px solid darkblue !important;\n",
       "    padding-bottom: 6px;\n",
       "}\n",
       ".info, .success, .warning, .error {\n",
       "    border: 1px solid;\n",
       "    margin: 10px 0px;\n",
       "    padding:15px 10px;\n",
       "}\n",
       ".info {\n",
       "    color: #00529b;\n",
       "    background-color: #bde5f8;\n",
       "}\n",
       ".success {\n",
       "    color: #4f8a10;\n",
       "    background-color: #dff2bf;\n",
       "}\n",
       ".warning {\n",
       "    color: #9f6000;\n",
       "    background-color: #FEEFB3;\n",
       "}\n",
       ".error {\n",
       "    color: #D8000C;\n",
       "    background-color: #FFBABA;\n",
       "}\n",
       ".language-bash {\n",
       "    font-weight: 900;\n",
       "}\n",
       ".ex {\n",
       "    font-weight: 900;\n",
       "    color: rgba(27,27,255,0.87) !important;\n",
       "}\n",
       ".mn {\n",
       "    font-family: Menlo, Consolas, \"DejaVu Sans Mono\", monospace\n",
       "}\n",
       "table {\n",
       "    margin-left: 0 !important;\n",
       "}\n",
       "</style>\n"
      ],
      "text/plain": [
       "<IPython.core.display.HTML object>"
      ]
     },
     "metadata": {},
     "output_type": "display_data"
    }
   ],
   "source": [
    "%%html\n",
    "<style>\n",
    "h1, h2, h3, h4, h5 {\n",
    "    color: darkblue;\n",
    "    font-weight: bold !important;\n",
    "}\n",
    "h2 {\n",
    "    border-bottom: 8px solid darkblue !important;\n",
    "    padding-bottom: 8px;\n",
    "}\n",
    "h3 {\n",
    "    border-bottom: 2px solid darkblue !important;\n",
    "    padding-bottom: 6px;\n",
    "}\n",
    ".info, .success, .warning, .error {\n",
    "    border: 1px solid;\n",
    "    margin: 10px 0px;\n",
    "    padding:15px 10px;\n",
    "}\n",
    ".info {\n",
    "    color: #00529b;\n",
    "    background-color: #bde5f8;\n",
    "}\n",
    ".success {\n",
    "    color: #4f8a10;\n",
    "    background-color: #dff2bf;\n",
    "}\n",
    ".warning {\n",
    "    color: #9f6000;\n",
    "    background-color: #FEEFB3;\n",
    "}\n",
    ".error {\n",
    "    color: #D8000C;\n",
    "    background-color: #FFBABA;\n",
    "}\n",
    ".language-bash {\n",
    "    font-weight: 900;\n",
    "}\n",
    ".ex {\n",
    "    font-weight: 900;\n",
    "    color: rgba(27,27,255,0.87) !important;\n",
    "}\n",
    ".mn {\n",
    "    font-family: Menlo, Consolas, \"DejaVu Sans Mono\", monospace\n",
    "}\n",
    "table {\n",
    "    margin-left: 0 !important;}\n",
    "</style>"
   ]
  },
  {
   "cell_type": "markdown",
   "metadata": {},
   "source": [
    "# Day 1: Up and Running with Python"
   ]
  },
  {
   "cell_type": "markdown",
   "metadata": {},
   "source": [
    "## 1.2 Python Programming Language Overview\n",
    "\n",
    "-   A Python program is divided into a number of logical lines.\n",
    "\n",
    "\n",
    "-   Each logical line is parsed to generate a list of [tokens](https://docs.python.org/3/library/token.html).\n",
    "    Importent tokens are\n",
    "    -   Identifiers\n",
    "    -   Reserved Words\n",
    "    -   Built-in Functions\n",
    "    -   Literals\n",
    "    -   Operators\n",
    "    -   Delimiters  \n",
    "\n",
    "\n",
    "-   A logical line is contructed from one or more physical lines by the following explicit and implicit line joining rules:\n",
    "    -   Explicitly with backslash character (`\\`) at the end of a physical line\n",
    "    -   Implicitly after punctuation such as open parentheses (`(`), open square bracket (`[`), open curly braces (`{`) and comma (`,`) etc.\n",
    "\n",
    "\n",
    "-   Python 3.x assumes UTF-8 encoding.\n",
    "\n",
    "-   A comment starts with a hash character (`#`) which is not part of a string literal.\n",
    "\n",
    "-   Comments are not executed by Python.\n",
    "\n",
    "-   A blank line, that contains only spaces, tabs, formfeeds and possibly a comment, is ignored by Python.\n",
    "\n",
    "-   Leading spaces (whitespaces and tabs) at the beginning of a logical line is used to compute the indentation level of the line, which in turn is used to determine the grouping of statements.\n",
    "\n",
    "-   Python recommends to use 4 whitespaces to indent logical lines belonging to the block.\n",
    "\n",
    "### Identifiers\n",
    "-   An identifier is a name used to identify a variable, function, class, module and many other objects.\n",
    "\n",
    "\n",
    "-   An identifier must start with a non-numeric, non-punctuation ASCII letter, and followed by\n",
    "    -   zero or more alphanumeric letters\n",
    "    -   zero or more underscore (`_`)\n",
    "    -   zero or more UTF-8 characters\n",
    "\n",
    "\n",
    "-   Identifiers are case sensitive.\n",
    "\n",
    "-   Identifiers should not be any of the Python reserved words.\n",
    "\n",
    "### Reserved Words\n",
    "-   Reserved words must not to be used as identifiers.\n",
    "\n",
    "-   Most keywords are in lowercase letters except `None`, `True`, `False` which are used as literals.\n",
    "\n",
    "-   The following are [reserved keywords as in Python 3.8](https://docs.python.org/3/reference/lexical_analysis.html#keywords):\n",
    "\n",
    "```\n",
    "False       None       True     and      as         \n",
    "assert      async      await    break    class      \n",
    "continue    def        del      elif     else       \n",
    "except      finally    for      from     global     \n",
    "if          import     in       is       lambda     \n",
    "nonlocal    not        or       pass     raise\n",
    "return      try        while    with     yield\n",
    "``` \n",
    "\n",
    "### Built-in Functions\n",
    "-   Built-in functions are functions provided by Python without importing other libraries.\n",
    "\n",
    "-   Behaviours of built-in functions may change over versions.\n",
    "\n",
    "-   The following are [built-in function as in Python 3.8](https://docs.python.org/3/library/functions.html?highlight=built#built-in-functions):\n",
    "\n",
    "```\n",
    "abs()            delattr()      hash()          memoryview()    set()\n",
    "all()            dict()         help()          min()           setattr()\n",
    "any()            dir()          hex()           next()          slice()\n",
    "ascii()          divmod()       id()            object()        sorted()\n",
    "bin()            enumerate()    input()         oct()           staticmethod()\n",
    "bool()           eval()         int()           open()          str()\n",
    "breakpoint()     exec()         isinstance()    ord()           sum()\n",
    "bytearray()      filter()       issubclass()    pow()           super()\n",
    "bytes()          float()        iter()          print()         tuple()\n",
    "callable()       format()       len()           property()      type()\n",
    "chr()            frozenset()    list()          range()         vars()\n",
    "classmethod()    getattr()      locals()        repr()          zip()\n",
    "compile()        globals()      map()           reversed()      __import__()\n",
    "complex()        hasattr()      max()           round() \n",
    "```\n",
    "\n",
    "### Literals\n",
    "-   Literals are notations for constant values of some built-in types.\n",
    "\n",
    "```\n",
    "1234    # An integer literal\n",
    "12.34   # A floating point literal\n",
    "\"Hi!\"   # A string literal\n",
    "0x01    # An integer literal\n",
    "True    # A built-in keyword\n",
    "False   # A built-in keyword\n",
    "None    # A build-in keyword\n",
    "```\n",
    "\n",
    "### Operators\n",
    "-   An operator is a symbol that performs an operation on one or more operands.\n",
    "-   The following tokens are operators:\n",
    "\n",
    "```\n",
    "+       -       *       **      /       //      %      @\n",
    "<<      >>      &       |       ^       ~\n",
    "<       >       <=      >=      ==      !=\n",
    "```\n",
    "-   Operators have precedence so that expressions are evaluated in predefined order.\n",
    "-   See Python standard document on [operator precedence](https://docs.python.org/3/reference/expressions.html#operator-precedence).\n",
    "\n",
    "### Delimiters\n",
    "-   A limiter is a sequence of one or more characters used to specify the boundary between tokens.\n",
    "-   The following tokens are delimiters:\n",
    "\n",
    "```\n",
    "(       )       [       ]       {       }\n",
    ",       :       .       ;       @       =       ->\n",
    "+=      -=      *=      /=      //=     %=      @=\n",
    "&=      |=      ^=      >>=     <<=     **=\n",
    "```"
   ]
  },
  {
   "cell_type": "markdown",
   "metadata": {},
   "source": [
    "<span class='ex'>Example: Getting help with <span class='mn'>??</span> or <span class='mn'>help()</span></span>"
   ]
  },
  {
   "cell_type": "code",
   "execution_count": 4,
   "metadata": {},
   "outputs": [
    {
     "data": {
      "text/plain": [
       "\u001b[1;31mDocstring:\u001b[0m\n",
       "print(value, ..., sep=' ', end='\\n', file=sys.stdout, flush=False)\n",
       "\n",
       "Prints the values to a stream, or to sys.stdout by default.\n",
       "Optional keyword arguments:\n",
       "file:  a file-like object (stream); defaults to the current sys.stdout.\n",
       "sep:   string inserted between values, default a space.\n",
       "end:   string appended after the last value, default a newline.\n",
       "flush: whether to forcibly flush the stream.\n",
       "\u001b[1;31mType:\u001b[0m      builtin_function_or_method\n"
      ]
     },
     "metadata": {},
     "output_type": "display_data"
    }
   ],
   "source": [
    "print??"
   ]
  },
  {
   "cell_type": "code",
   "execution_count": 5,
   "metadata": {},
   "outputs": [
    {
     "name": "stdout",
     "output_type": "stream",
     "text": [
      "Help on built-in function print in module builtins:\n",
      "\n",
      "print(...)\n",
      "    print(value, ..., sep=' ', end='\\n', file=sys.stdout, flush=False)\n",
      "    \n",
      "    Prints the values to a stream, or to sys.stdout by default.\n",
      "    Optional keyword arguments:\n",
      "    file:  a file-like object (stream); defaults to the current sys.stdout.\n",
      "    sep:   string inserted between values, default a space.\n",
      "    end:   string appended after the last value, default a newline.\n",
      "    flush: whether to forcibly flush the stream.\n",
      "\n"
     ]
    }
   ],
   "source": [
    "help(print)"
   ]
  },
  {
   "cell_type": "markdown",
   "metadata": {},
   "source": [
    "<span class='ex'>Example: UTF-8 characters, physical and logical lines and <span class='mn'>print()</span></span>"
   ]
  },
  {
   "cell_type": "code",
   "execution_count": 7,
   "metadata": {},
   "outputs": [
    {
     "name": "stdout",
     "output_type": "stream",
     "text": [
      "Hello, Hi!\n",
      "Annyong haseyo!\n",
      "こんにちは!\n",
      "\n",
      "Hello, Hi!\n",
      "Annyong haseyo!\n",
      "こんにちは!\n",
      "\n",
      "Hello, Hi!\n",
      "Annyong haseyo!\n",
      "こんにちは!\n",
      "\n"
     ]
    }
   ],
   "source": [
    "# This is a comment\n",
    "print('Hello, Hi!\\nAnnyong haseyo!\\nこんにちは!\\n') # A logical line with UTF-8 characters\n",
    "\n",
    "# 2 physical line joined by '\\' to form a logical line\n",
    "print('\\\n",
    "Hello, Hi!\\n\\\n",
    "Annyong haseyo!\\n\\\n",
    "こんにちは!\\n')\n",
    "\n",
    "# Use ''' or \"\"\" to quote multiline string\n",
    "# Note: ''' on itself constitute a line\n",
    "print('''Hello, Hi!\n",
    "Annyong haseyo!\n",
    "こんにちは!\n",
    "'''\n",
    ")"
   ]
  },
  {
   "cell_type": "markdown",
   "metadata": {},
   "source": [
    "<span class='ex'>Example: <span class='mn'>input()</span>, indentation and <span class='mn'>if ... elif ... else</span></span>"
   ]
  },
  {
   "cell_type": "code",
   "execution_count": null,
   "metadata": {},
   "outputs": [],
   "source": [
    "data = input('Enter a number:')\n",
    "\n",
    "# input() return a string even if you enter a number\n",
    "# Use int() to convert a string-coded integer into number\n",
    "data = int(data)\n",
    "\n",
    "if (data > 0):\n",
    "    print(data, 'is positive.')\n",
    "elif (data < 0):\n",
    "    print(data, 'is negative.')\n",
    "else:\n",
    "    print(data, 'is zero.')"
   ]
  },
  {
   "cell_type": "markdown",
   "metadata": {},
   "source": [
    "<span class='ex'>Example: Valid variable names</span>"
   ]
  },
  {
   "cell_type": "code",
   "execution_count": null,
   "metadata": {},
   "outputs": [],
   "source": [
    "x     = 12          # An integer\n",
    "X     = 12.0        # A float\n",
    "\n",
    "x1    = 2 + 3j      # A complex number\n",
    "x2    = 1 - 2j      # A complex number\n",
    "\n",
    "s1    = 'Reserved'  # A string in single quotes\n",
    "s2    = \"Reserved\"  # A string in double quotes\n",
    "\n",
    "d     = 10/3        # A division which may result a float\n",
    "q     = 10//3       # A division but return quotient\n",
    "r     = 10%3        # A division but return remainder\n",
    "\n",
    "_val_ = '1234'      # A string. Avoid using variable with '_'\n",
    "\n",
    "问候  = '你好!'      # A string but variable name is encoded in Chinese charset\n",
    "\n",
    "print('x =', x)\n",
    "print('X =', X)\n",
    "print('-'*50)\n",
    "print('x1 =', x1)\n",
    "print('x2 =', x2)\n",
    "print('x1 * x2 =', x1*x2)\n",
    "print('-'*50)\n",
    "print(s1+s2)\n",
    "print('-'*50)\n",
    "print(\"10/3 = \", d)\n",
    "print(\"10//3 = \", q)\n",
    "print(\"10%3 = \", r)\n",
    "print('-'*50)\n",
    "print(_val_)\n",
    "print('-'*50)\n",
    "print((问候 + '! ') * 5, '\\n')"
   ]
  },
  {
   "cell_type": "markdown",
   "metadata": {},
   "source": [
    "<span class='ex'>Example: Invalid variable names</span>"
   ]
  },
  {
   "cell_type": "code",
   "execution_count": null,
   "metadata": {},
   "outputs": [],
   "source": [
    "1x  = 123        # Cannot start with numeric ASCII character\n",
    "$n  = \"Name\"     # Cannot start with punctuation characters"
   ]
  }
 ],
 "metadata": {
  "kernelspec": {
   "display_name": "Python 3",
   "language": "python",
   "name": "python3"
  },
  "language_info": {
   "codemirror_mode": {
    "name": "ipython",
    "version": 3
   },
   "file_extension": ".py",
   "mimetype": "text/x-python",
   "name": "python",
   "nbconvert_exporter": "python",
   "pygments_lexer": "ipython3",
   "version": "3.7.4"
  }
 },
 "nbformat": 4,
 "nbformat_minor": 4
}
