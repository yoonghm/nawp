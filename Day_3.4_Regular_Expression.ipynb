{
 "cells": [
  {
   "cell_type": "code",
   "execution_count": null,
   "metadata": {
    "jupyter": {
     "source_hidden": true
    },
    "slideshow": {
     "slide_type": "skip"
    }
   },
   "outputs": [],
   "source": [
    "%%html\n",
    "<style>\n",
    "h1, h2, h3, h4, h5 {\n",
    "    color: darkblue;\n",
    "    font-weight: bold !important;\n",
    "}\n",
    "h2 {\n",
    "    border-bottom: 8px solid darkblue !important;\n",
    "    padding-bottom: 8px;\n",
    "}\n",
    "h3 {\n",
    "    border-bottom: 2px solid darkblue !important;\n",
    "    padding-bottom: 6px;\n",
    "}\n",
    ".info, .success, .warning, .error {\n",
    "    border: 1px solid;\n",
    "    margin: 10px 0px;\n",
    "    padding:15px 10px;\n",
    "}\n",
    ".info {\n",
    "    color: #00529b;\n",
    "    background-color: #bde5f8;\n",
    "}\n",
    ".success {\n",
    "    color: #4f8a10;\n",
    "    background-color: #dff2bf;\n",
    "}\n",
    ".warning {\n",
    "    color: #9f6000;\n",
    "    background-color: #FEEFB3;\n",
    "}\n",
    ".error {\n",
    "    color: #D8000C;\n",
    "    background-color: #FFBABA;\n",
    "}\n",
    ".language-bash {\n",
    "    font-weight: 900;\n",
    "}\n",
    ".ex {\n",
    "    font-weight: 900;\n",
    "    color: rgba(27,27,255,0.87) !important;\n",
    "}\n",
    ".mn {\n",
    "    font-family: Menlo, Consolas, \"DejaVu Sans Mono\", monospace\n",
    "}\n",
    "table {\n",
    "    margin-left: 0 !important;}\n",
    "</style>"
   ]
  },
  {
   "cell_type": "markdown",
   "metadata": {},
   "source": [
    "# Day 3: Up and Running with Python"
   ]
  },
  {
   "cell_type": "markdown",
   "metadata": {},
   "source": [
    "## 3.4 Regular Expression"
   ]
  },
  {
   "cell_type": "markdown",
   "metadata": {},
   "source": [
    "-   Regular expression is a syntax to search, extract and manipulate string patterns from a large text.\n",
    "\n",
    "\n",
    "-   Regular expression is used in text validation, natural language processing (NLP) and text mining.\n",
    "\n",
    "\n",
    "-   Regular expression is implemented by the standard module `re`.\n",
    "\n",
    "\n",
    "-   There are two parts in using `re`:\n",
    "    -   Define a regular expression pattern (aka *pattern*) to match other large text\n",
    "    -   Apply a regular expression method using the pattern on a large text \n",
    "\n",
    "\n",
    "-   Online regular expression tester https://regex101.com/"
   ]
  },
  {
   "cell_type": "code",
   "execution_count": null,
   "metadata": {},
   "outputs": [],
   "source": [
    "import re\n",
    "print(dir(re))"
   ]
  },
  {
   "cell_type": "code",
   "execution_count": null,
   "metadata": {},
   "outputs": [],
   "source": [
    "import re\n",
    "re.search??"
   ]
  },
  {
   "cell_type": "code",
   "execution_count": null,
   "metadata": {},
   "outputs": [],
   "source": [
    "import re\n",
    "re.match??"
   ]
  },
  {
   "cell_type": "code",
   "execution_count": null,
   "metadata": {},
   "outputs": [],
   "source": [
    "import re\n",
    "re.findall??"
   ]
  },
  {
   "cell_type": "code",
   "execution_count": null,
   "metadata": {},
   "outputs": [],
   "source": [
    "import re\n",
    "re.finditer??"
   ]
  },
  {
   "cell_type": "code",
   "execution_count": null,
   "metadata": {},
   "outputs": [],
   "source": [
    "import re\n",
    "re.split??"
   ]
  },
  {
   "cell_type": "code",
   "execution_count": null,
   "metadata": {},
   "outputs": [],
   "source": [
    "import re\n",
    "re.sub??"
   ]
  },
  {
   "cell_type": "code",
   "execution_count": null,
   "metadata": {},
   "outputs": [],
   "source": [
    "import re\n",
    "re.subn??"
   ]
  },
  {
   "cell_type": "markdown",
   "metadata": {},
   "source": [
    "## Basic and quantifiers used in regular expressions\n",
    "\n",
    "| **Syntax** | **Meaning**                                                                     |\n",
    "|:-----------|:--------------------------------------------------------------------------------|\n",
    "| `.`        | Match any character except newline (`\\n`)                                       |\n",
    "| `^`        | Match *start* of string (if `MULTILINE`, also match right after newline (`\\n`)  |\n",
    "| `$`        | Match *end* of string (if `MULTILINE`, also match right before newline (`\\n`)   |\n",
    "| `*`        | Match 0 or more cases of the previous RE; greedy (as many as possible)          |\n",
    "| `+`        | Match 1 or more cases of the previous RE; greedy (as many as possible)          |\n",
    "| `?`        | Match 0 or 1 case of the previous RE; greedy (match one if possible)            |\n",
    "| `*?`       | Non-greedy version of `*` (match as few as possible)                            |\n",
    "| `+?`       | Non-greedy version of `+` respectively (match as few as possible)               |\n",
    "| `??`       | Non-greedy version of `?` respectively (match as few as possible)               |\n",
    "| `{m}`      | Match exactly `m` cases of the previous RE (greedy)                             |\n",
    "| `{m, n}`   | Match between `m` and `n` cases of the previous RE (greedy)                     |\n",
    "| `{m, n}?`  | Match between `m` and `n` cases of the previous RE (non-greedy)                 |\n",
    "| `[...]`    | Match any **one** of a set of characters contained within the brackets          |\n",
    "| `[^...]`   | Match one character *not* contained within the brackets after the caret (`^`)   |\n",
    "| `\\|`       | Match either the preceding RE or the following RE                               |\n",
    "\n",
    "\n",
    "| **Pattern**    | **Meaning**                                                                  |\n",
    "|:---------------|:-----------------------------------------------------------------------------|\n",
    "| `a`            | Match the character `a`                                                      |\n",
    "| `ab`           | Match the string `ab`                                                        |\n",
    "| `a\\|b`         | Match `a` or `b`                                                             |\n",
    "| `a*`           | Match 0 or more `a`'s                                                        |\n",
    "| `a+`           | Match 1 or more `a`'s                                                        |\n",
    "| `a?`           | Match 0 or 1 `a`                                                             |\n",
    "| `a{2}`         | Match exactly 2 `a`'s                                                        |\n",
    "| `a{2,5}`       | Match between 2 and 5 `a`'s                                                  |\n",
    "| `a{2,}`        | Match 2 or more `a`'s                                                        |\n",
    "| `a{,5}`        | Match up to 5 `a`'s                                                          |"
   ]
  },
  {
   "cell_type": "code",
   "execution_count": null,
   "metadata": {},
   "outputs": [],
   "source": [
    "import re\n",
    "\n",
    "text = 'aaaa'\n",
    "print(re.search('a', text))\n",
    "print(re.search('a*', text))\n",
    "print(re.search('a+', text))\n",
    "print(re.search('a?', text))\n",
    "print()\n",
    "print(re.match('a', text))\n",
    "print(re.match('a*', text))\n",
    "print(re.match('a+', text))\n",
    "print(re.match('a?', text))\n",
    "print()\n",
    "print(re.findall('a', text))\n",
    "print(re.findall('a*', text))\n",
    "print(re.findall('a+', text))\n",
    "print(re.findall('a?', text))"
   ]
  },
  {
   "cell_type": "markdown",
   "metadata": {},
   "source": [
    "<span class='ex'>Example: <span class='mn'>re.findall()</span></span>"
   ]
  },
  {
   "cell_type": "code",
   "execution_count": null,
   "metadata": {},
   "outputs": [],
   "source": [
    "import re\n",
    "\n",
    "text ='a bcada'\n",
    "print(re.findall('.', text))  # Find all occurence of any character except newline\n",
    "print(re.findall('a', text))  # Find all occurence of \"a\"\n",
    "print(re.findall('^a', text)) # Find all occurrence of \"a\" in the beginning of a text\n",
    "print(re.findall('a$', text)) # Find all occurrence of \"a\" in the end of a text"
   ]
  },
  {
   "cell_type": "code",
   "execution_count": null,
   "metadata": {},
   "outputs": [],
   "source": [
    "import re\n",
    "\n",
    "text ='$1.00 $'\n",
    "print(re.findall(r'\\$$', text))   # Find \"$\"'s at the end of a string\n",
    "print(re.findall(r'^\\$', text))   # Find all \"$\"'s at the beginning of a string\n",
    "print(re.findall(r'\\$', text))    # Find all \"$\"'s in a string"
   ]
  },
  {
   "cell_type": "code",
   "execution_count": null,
   "metadata": {},
   "outputs": [],
   "source": [
    "import re\n",
    "\n",
    "text = 'aabc aaaabb aaabbaaaa'\n",
    "print(re.findall(r'a{2,3}', text))  # Greedy, i.e., try to match 'aaa' over 'aa'\n",
    "print(re.findall(r'a{2,3}?', text)) # Non-greedy, i.e., try to match 'aa' over 'aaa'"
   ]
  },
  {
   "cell_type": "markdown",
   "metadata": {},
   "source": [
    "<span class='ex'>Example: <span class='mn'>re.search()</span></span>"
   ]
  },
  {
   "cell_type": "code",
   "execution_count": null,
   "metadata": {},
   "outputs": [],
   "source": [
    "import re\n",
    "\n",
    "text = r'a';       print(re.search('aa*', text)[0])   # a* is greedy\n",
    "text = r'aa';      print(re.search('aa*', text)[0])   # a* is greedy\n",
    "text = r'aaaa';    print(re.search('aa*', text)[0])   # a* is greedy\n",
    "text = r'a';       print(re.search('aa+', text))      # \n",
    "text = r'a';       print(re.search('a?' , text))\n",
    "text = r'a';       print(re.search('a'  , text))"
   ]
  },
  {
   "cell_type": "markdown",
   "metadata": {},
   "source": [
    "## Regular Expression Examples on Basic and Quantifiers"
   ]
  },
  {
   "cell_type": "markdown",
   "metadata": {},
   "source": [
    "<span class='ex'>Example: Quantifiers</span>"
   ]
  },
  {
   "cell_type": "code",
   "execution_count": null,
   "metadata": {},
   "outputs": [],
   "source": [
    "import re\n",
    "m = re.search(r'aa', 'aaaa')  # First the first match only\n",
    "print(m)\n",
    "print(m[0])"
   ]
  },
  {
   "cell_type": "code",
   "execution_count": null,
   "metadata": {},
   "outputs": [],
   "source": [
    "import re\n",
    "\n",
    "text = 'aaaa'\n",
    "\n",
    "def print_search(pattern):\n",
    "    m = re.search(pattern, text)\n",
    "    if m is None:\n",
    "        print(f'{pattern:>8} -> No match')\n",
    "    else:\n",
    "        print(f'{pattern:>8} -> {m[0]}')\n",
    "\n",
    "print_search('a')      # Find exactly 'a'\n",
    "print_search('b')      # Find exactly 'b\n",
    "print_search('a?')     # Find 0 or 1 'a'    (Greedy)\n",
    "print_search('a+')     # Find 1 or more 'a' (Greedy)\n",
    "print_search('a*')     # Find 0 or more 'a' (Greedy)\n",
    "print_search('a+?')    # Find 1 or more 'a' (Non-greedy)\n",
    "print_search('a*?')    # Find 0 or more 'a' (Non-greedy)\n",
    "print_search('a|b')    # Find 'a' or 'b'\n",
    "print_search('a{2}')   # Find 'aa'\n",
    "print_search('a{2,5}') # Find 2 to 5 'a'\n",
    "print_search('a{,4}')  # Find up to 4 'a'\n",
    "print_search('a{2,}')  # Find at least 2 'a'\n",
    "print_search('a{5}')   # Find exactly 5 'a'"
   ]
  },
  {
   "cell_type": "markdown",
   "metadata": {},
   "source": [
    "## `Match` vs `Search`\n",
    "\n",
    "-   `r'box'` matches strings such as `'box'` and `'boxes'` but not `'inbox'`.  \n",
    "    In other words, an RE match is implicitly anchored at the start of the target string, as if the RE's pattern started with `\\A`."
   ]
  },
  {
   "cell_type": "markdown",
   "metadata": {},
   "source": [
    "<span class='ex'>Example: <span class='mn'>re.match()</span> vs <span class='mn'>re.search()</span></span>"
   ]
  },
  {
   "cell_type": "code",
   "execution_count": null,
   "metadata": {},
   "outputs": [],
   "source": [
    "import re\n",
    "print(re.match(r'box', 'boxes'))\n",
    "print(re.match(r'box', 'inbox'))\n",
    "print(re.search(r'box', 'boxes'))\n",
    "print(re.search(r'box', 'inbox'))\n",
    "print(re.search(r'^box', 'inbox'))"
   ]
  },
  {
   "cell_type": "code",
   "execution_count": null,
   "metadata": {},
   "outputs": [],
   "source": [
    "import re\n",
    "\n",
    "print('match  \"box\"  in \"inbox\" -> ', end='')\n",
    "if re.match(r'box', 'inbox'): # Search 'box' from the beginning\n",
    "    print('succeeds')\n",
    "else:\n",
    "    print('fails') # prints: match fails\n",
    "\n",
    "print('search \"box\"  in \"inbox\" -> ', end='')\n",
    "if re.search(r'box', 'inbox'): # Search 'box'\n",
    "    print('succeeds') # prints: search succeeds\n",
    "else:\n",
    "    print('fails')\n",
    "    \n",
    "print('search \"^box\" in \"inbox\" -> ', end='')\n",
    "if re.search(r'^box', 'inbox'): # Search 'box' from the beginning\n",
    "    print('succeeds') # prints: search succeeds\n",
    "else:\n",
    "    print('fails')"
   ]
  },
  {
   "cell_type": "markdown",
   "metadata": {},
   "source": [
    "## Cheatsheet - Character Classes\n",
    "\n",
    "| **Syntax** | **Meaning**                                                      |\n",
    "|:-----------|:-----------------------------------------------------------------|\n",
    "| `[a-e]`    | Match one character of a, b, c, d and e                          |\n",
    "| `[^a-e] `  | Match one character except a, b, c, d and e                      |\n",
    "| `[\\b]`     | Match blackspace character (ASCII 8)                             |\n",
    "| `[\\t]`     | Match tab character (ASCII 9)                                    |\n",
    "| `[\\n]`     | Match newline character (ASCII 10)                               |\n",
    "| `[\\r]`     | Match carriage return character (ASCII 13)                       |\n",
    "| `\\A`       | Match an empty string, but only at the start of the whole string |\n",
    "| `\\b`       | Match an empty string, but only at the start or end of a word    |\n",
    "| `\\B`       | Match an empty string, but not at the start or end of a word     |\n",
    "| `\\d`       | Match one digit (equal to [0-9])                                 |\n",
    "| `\\D`       | Match one non-digit (equal to [^0-9]                             |\n",
    "| `\\s`       | Match one whitespace (equal to [\\r\\n\\t\\f\\v ])                    |\n",
    "| `\\S`       | Match one non-whitespace (equal to [^\\r\\n\\t\\f\\v ])               |\n",
    "| `\\w`       | Match one word character (equal to [a-zA-Z0-9_])                 |\n",
    "| `\\W`       | Match one non-word character (equal to [^a-zA-Z0-9_])            |\n",
    "| `\\Z`       | Match an empty string, but only at the end of the whole string   |\n",
    "| `\\\\`       | Match one backslash character                                     |"
   ]
  },
  {
   "cell_type": "markdown",
   "metadata": {},
   "source": [
    "<span class='ex'>Example: Character Classes</span>"
   ]
  },
  {
   "cell_type": "code",
   "execution_count": null,
   "metadata": {},
   "outputs": [],
   "source": [
    "import re\n",
    "\n",
    "def print_search(pattern):\n",
    "    m = re.findall(pattern, text)\n",
    "    if not m:\n",
    "        print('{:>8} -> No match'.format(pattern))\n",
    "    else:\n",
    "        print('{:>8} -> {}'.format(pattern, m))\n",
    "\n",
    "text = 'Abc abc   1234 To-be Hello01 __doc__'\n",
    "\n",
    "print_search('[abc]+')\n",
    "print_search('[1]+')\n",
    "print_search('\\s+')\n",
    "print_search('\\S+')\n",
    "print_search('\\w+')\n",
    "print_search('\\W+')\n",
    "print_search('\\d+')\n",
    "print_search('\\d{2}')\n",
    "print_search('0\\d{1}')\n",
    "print_search('\\D+')"
   ]
  },
  {
   "cell_type": "markdown",
   "metadata": {},
   "source": [
    "## Exercises\n",
    "\n",
    "Retrieve valid mobile phone numbers from a text. Valid phone mumbers consist of 8 digits, optionally separated by hyphen (-) and start with '9' or '8'.\n",
    "\n",
    "text = \"9812-1234 88882323 8800=2323 00001234 12345678\""
   ]
  },
  {
   "cell_type": "code",
   "execution_count": null,
   "metadata": {},
   "outputs": [],
   "source": [
    "import re\n",
    "\n",
    "pat = r'[89][0-9]{3}[-]?[0-9]{4}'\n",
    "\n",
    "text = \"9812-1234 88882323 8800=2323 00001234 12345678\"\n",
    "\n",
    "mm = re.findall(pat, text)\n",
    "for m in mm:\n",
    "    print(m)"
   ]
  },
  {
   "cell_type": "markdown",
   "metadata": {},
   "source": [
    "## Exercises\n",
    "\n",
    "Retrieve valid IPv4 addresses phone numbers from a text.\n",
    "\n",
    "text = \"255.255.255.0 300.129.182.0 0.0.0.0 192.168.9.0 -192.11.341.2\""
   ]
  },
  {
   "cell_type": "code",
   "execution_count": null,
   "metadata": {},
   "outputs": [],
   "source": [
    "text = \"255.255.255.0 300.129.182.0 0.0.0.0 192.168.9.0 -192.11.341.2\"\n",
    "\n",
    "ips = text.split()\n",
    "for ip in ips:\n",
    "    octs = ip.split('.')\n",
    "    bad = [-1 < int(i) < 256 for i in octs]\n",
    "    if False in bad:\n",
    "        continue\n",
    "    else:\n",
    "        print(ip, end=' - ')"
   ]
  },
  {
   "cell_type": "markdown",
   "metadata": {},
   "source": [
    "## Cheatsheet - Capturing Groups\n",
    "\n",
    "| **Syntax**   | **Meaning**                                                        |\n",
    "|:-------------|:-------------------------------------------------------------------|\n",
    "| `(...)`      | Matches the RE within the parentheses and indicates a group        |\n",
    "| `(?iLmsux)`  | Alternate way to set optional flags; no effect on match<sup>1</sup>|\n",
    "| `(?:...)`    | Like `(...)` but does not indicate a group                         |\n",
    "| `(?P<id>...)`| Like `(...)` but the group also gets the name `id`                 |\n",
    "| `(?P=id)`    | Matches whatever was previously matched by group named `id`        |\n",
    "| `(?#...)`    | Content of parentheses is just a comment; no effect on match       |\n",
    "| `(?=...)`    | Positive lookahead assertion: matches if `...` matches what comes next, but does not consume any part of the string|\n",
    "| `(?!...)`    | Negative lookahead assertion: matches if `...` does not match what comes next, and does not consume any part of the string |\n",
    "| `(?<=...)`   | Positive lookbehind assertion: matches if there is a match ending at the current position for `...` (`...` must match a fixed length) |\n",
    "| `(?<!...)`   | Negative lookbehind assertion: matches if there is no match ending at the current position for `...` (`...` must match a fixed length) |\n",
    "\n",
    "<sup>1</sup>:  Always place the `(?...)` construct, if any, at the start of the pattern, for readability; since 3.6, placing it elsewhere causes a `DeprecationWarning`.\n",
    "-  **i**:  Ignore case\n",
    "-  **L**:  Cause `\\w`, `\\W`, `\\b`, `\\B` matches to depend on what the current locale deems alphanumeric; depreciated in Python 3.\n",
    "-  **m**:  Make the special characters `^` and `$` match at the start and end of each line (i.e., right after/before a newline), as well as at the start and end of the whole string (`\\A` and `\\Z` always match only the start and end of the whole string)\n",
    "-  **s**:  Cause the special character `.` to match any character, including a newline\n",
    "-  **u**:  Make `\\w`, `\\W`, `\\b` and `\\B` match depend on what Unicode deems alphanumeric; depreciated in Python 3.\n",
    "-  **v**:  Cause whitespace in the pattern to be ignored, except when escaped or in a character set, and makes a `#` character in the pattern begin a comment that lasts until the end of the line"
   ]
  },
  {
   "cell_type": "markdown",
   "metadata": {},
   "source": [
    "<span class='ex'>Example: Retrieve \"destination network\" and \"gateway\" from \"route add\" commands</span>"
   ]
  },
  {
   "cell_type": "code",
   "execution_count": null,
   "metadata": {},
   "outputs": [],
   "source": [
    "import re\n",
    "\n",
    "texts = [\n",
    "    \"route add 192.168.99.0 mask 255.255.255.0 192.168.10.11\",  # This is valid\n",
    "    \"route add 0.0.0.0      mask 0.0.0.0\",                      # This is invalid\n",
    "    \"route add 192.168.10.0 mask\",                              # This is invalid\n",
    "    \"          192.168.90.0      255.255.255.0 192.168.10.11\",  # This is invalid\n",
    "    ]\n",
    "\n",
    "pattern  = r'route\\s+add\\s+(\\d{1,3}\\.\\d{1,3}\\.\\d{1,3}\\.\\d{1,3})\\s+'\n",
    "pattern += r'mask\\s+\\d{1,3}\\.\\d{1,3}\\.\\d{1,3}\\.\\d{1,3}\\s+'\n",
    "pattern += r'(\\d{1,3}\\.\\d{1,3}\\.\\d{1,3}\\.\\d{1,3})'\n",
    "\n",
    "r1 = re.compile(pattern)\n",
    "for t in texts:\n",
    "    m = r1.findall(t)\n",
    "    if m:\n",
    "        print(m)\n",
    "        print(f'Destination={m[0][0]}, Gateway={m[0][1]}')"
   ]
  },
  {
   "cell_type": "markdown",
   "metadata": {},
   "source": [
    "<span class='ex'>Example: Search based on lookahead condition</span>"
   ]
  },
  {
   "cell_type": "code",
   "execution_count": null,
   "metadata": {},
   "outputs": [],
   "source": [
    "import re\n",
    "\n",
    "texts = '''\\\n",
    "Isaac Isaac Isaac\n",
    "Isaac Newton\n",
    "Isaac Asimov\\\n",
    "'''\n",
    "\n",
    "def print_search(pattern):\n",
    "    for t in texts.split('\\n'):\n",
    "        m = re.findall(pattern, t)\n",
    "        if not m:\n",
    "            print('\"{:<20}\" - {:<20} -> No match'.format(t, pattern))\n",
    "        else:\n",
    "            print('\"{:<20}\" - {:<20} -> {}'.format(t, pattern, m))\n",
    "    print('-'*70)\n",
    "\n",
    "print_search('(Isaac)')\n",
    "print_search('(?:Isaac)')\n",
    "print_search('Isaac (?=Asimov)')\n",
    "print_search('Isaac (?!Asimov)')"
   ]
  },
  {
   "cell_type": "markdown",
   "metadata": {},
   "source": [
    "<span class='ex'>Example: Search based on lookbehind condition</span>"
   ]
  },
  {
   "cell_type": "code",
   "execution_count": null,
   "metadata": {},
   "outputs": [],
   "source": [
    "import re\n",
    "\n",
    "texts = '''\\\n",
    "12   Isaac\n",
    "222  Newton\n",
    "2122 Asimov\\\n",
    "'''\n",
    "\n",
    "def print_search(pattern):\n",
    "    for t in texts.split('\\n'):\n",
    "        m = re.findall(pattern, t)\n",
    "        if not m:\n",
    "            print('\"{:<15}\" - {:<20} -> No match'.format(t, pattern))\n",
    "        else:\n",
    "            print('\"{:<15}\" - {:<20} -> {}'.format(t, pattern, m))\n",
    "    print('-'*70)\n",
    "\n",
    "print_search('(?<=[2]{3})\\s+(\\w+)')"
   ]
  },
  {
   "cell_type": "markdown",
   "metadata": {},
   "source": [
    "## Exercise\n",
    "\n",
    "Retrieve DIDs from a text with the central number **`6460`**. For example, retrieve `6717` from 64606717. Phone numbers all have 8 digits and optionally separated by hyphen in the middle:\n",
    "\n",
    "text = \"6460-6717 64603232 66667777 4312-0000\""
   ]
  },
  {
   "cell_type": "code",
   "execution_count": null,
   "metadata": {},
   "outputs": [],
   "source": [
    "import re\n",
    "\n",
    "text = \"6460-6717 64603232 66667777 4312-0000\"\n",
    "\n",
    "patt = r'6460[-]?([0-9]{4})'\n",
    "\n",
    "r1 = re.compile(patt)\n",
    "\n",
    "mm = r1.findall(text)\n",
    "for m in mm:\n",
    "    print(m)"
   ]
  },
  {
   "cell_type": "markdown",
   "metadata": {},
   "source": [
    "<span class='ex'>Example: Netmiko with regular expression</span>"
   ]
  },
  {
   "cell_type": "code",
   "execution_count": null,
   "metadata": {},
   "outputs": [],
   "source": [
    "%%file ./cisco_devices.txt\n",
    "192.168.99.3\n",
    "192.168.99.4"
   ]
  },
  {
   "cell_type": "code",
   "execution_count": null,
   "metadata": {},
   "outputs": [],
   "source": [
    "from netmiko import Netmiko\n",
    "import time\n",
    "import re\n",
    "\n",
    "ipfile = './cisco_devices.txt'\n",
    "\n",
    "pattern = re.compile(r'hostname\\s+(\\w+)')\n",
    "\n",
    "my_device = {\n",
    "    \"ip\": \"192.168.99.2\",\n",
    "    \"username\": \"admin\",\n",
    "    \"password\": \"class\",\n",
    "    \"device_type\": \"cisco_ios\",\n",
    "    \"secret\": \"class\",\n",
    "    \"global_delay_factor\": 2    \n",
    "}\n",
    "\n",
    "####################################################\n",
    "start_time = time.time()\n",
    "####################################################\n",
    "with open(ipfile) as f:\n",
    "    ips = f.read().splitlines() # ips is a list of IPs\n",
    "    \n",
    "for ip in ips:\n",
    "    my_device['ip'] = ip\n",
    "    device = Netmiko(**my_device)\n",
    "    device.enable()\n",
    "    output = device.send_command(\"show run\")\n",
    "    device.disconnect()\n",
    "    m = pattern.search(output)\n",
    "    if m:\n",
    "        #print(m)\n",
    "        print(f'{ip} - {m[1]}')\n",
    "####################################################\n",
    "end_time = time.time()\n",
    "####################################################\n",
    "print(f'Time taken: {end_time - start_time:.2f} seconds')"
   ]
  },
  {
   "cell_type": "markdown",
   "metadata": {},
   "source": [
    "<span class='ex'>Example: Find out network device ports with errors</span>"
   ]
  },
  {
   "cell_type": "code",
   "execution_count": null,
   "metadata": {},
   "outputs": [],
   "source": [
    "from netmiko import Netmiko\n",
    "import time\n",
    "import re\n",
    "\n",
    "ipfile = './cisco_devices.txt'\n",
    "\n",
    "pattern = re.compile(r'error?\\s+(\\w+)')\n",
    "\n",
    "my_device = {\n",
    "    \"ip\": \"192.168.99.2\",\n",
    "    \"username\": \"admin\",\n",
    "    \"password\": \"class\",\n",
    "    \"device_type\": \"cisco_ios\",\n",
    "    \"secret\": \"class\"\n",
    "}\n",
    "\n",
    "####################################################\n",
    "start_time = time.time()\n",
    "####################################################\n",
    "with open(ipfile) as f:\n",
    "    ips = f.read().splitlines()\n",
    "\n",
    "tofile = ''\n",
    "for ip in ips:\n",
    "    my_device['ip'] = ip\n",
    "    device = Netmiko(**my_device)\n",
    "    device.enable()\n",
    "    output = device.send_command(\"show int\")\n",
    "    tofile += output\n",
    "    device.disconnect()\n",
    "    m = pattern.search(output)\n",
    "    if m:\n",
    "        print(f'{ip} - {m[1]}')\n",
    "####################################################\n",
    "end_time = time.time()\n",
    "####################################################\n",
    "print(f'Time taken: {end_time - start_time:.2f} seconds')"
   ]
  },
  {
   "cell_type": "markdown",
   "metadata": {},
   "source": [
    "<span class='ex'>Example: Using Multithreading to find out network device ports with errors</span>"
   ]
  },
  {
   "cell_type": "code",
   "execution_count": null,
   "metadata": {},
   "outputs": [],
   "source": [
    "from netmiko import Netmiko\n",
    "import threading\n",
    "import time\n",
    "import re\n",
    "\n",
    "ipfile = './cisco_devices.txt'\n",
    "\n",
    "pattern = re.compile(r'error?\\s+(\\w+)')\n",
    "\n",
    "my_device = {\n",
    "    \"ip\": \"192.168.99.2\",\n",
    "    \"username\": \"admin\",\n",
    "    \"password\": \"class\",\n",
    "    \"device_type\": \"cisco_ios\",\n",
    "    \"secret\": \"class\"\n",
    "}\n",
    "\n",
    "def gethostname(devdict):\n",
    "    device = Netmiko(**my_device)\n",
    "    device.enable()\n",
    "    output = device.send_command(\"show int\")\n",
    "    with open(device['ip']+'txt', 'w') as f:\n",
    "        f.write(output)\n",
    "    device.disconnect()\n",
    "    m = pattern.search(output)\n",
    "    if m:\n",
    "        data.append([ip, m[1]])\n",
    "\n",
    "####################################################\n",
    "start_time = time.time()\n",
    "####################################################\n",
    "with open(ipfile) as f:\n",
    "    ips = f.read().splitlines()\n",
    "\n",
    "threads = []\n",
    "data = []\n",
    "for ip in ips:\n",
    "    my_device['ip'] = ip\n",
    "    t = threading.Thread(target=gethostname, args=(my_device,))\n",
    "    threads.append(t)\n",
    "    t.start()\n",
    "                        \n",
    "for t in threads:\n",
    "    t.join()\n",
    "\n",
    "for d in data:\n",
    "    print(d)\n",
    "\n",
    "####################################################\n",
    "end_time = time.time()\n",
    "####################################################\n",
    "print(f'Time taken: {end_time - start_time:.2f} seconds')"
   ]
  }
 ],
 "metadata": {
  "kernelspec": {
   "display_name": "Python 3",
   "language": "python",
   "name": "python3"
  },
  "language_info": {
   "codemirror_mode": {
    "name": "ipython",
    "version": 3
   },
   "file_extension": ".py",
   "mimetype": "text/x-python",
   "name": "python",
   "nbconvert_exporter": "python",
   "pygments_lexer": "ipython3",
   "version": "3.7.6"
  }
 },
 "nbformat": 4,
 "nbformat_minor": 4
}
