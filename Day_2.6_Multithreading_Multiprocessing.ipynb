{
 "cells": [
  {
   "cell_type": "code",
   "execution_count": null,
   "metadata": {
    "jupyter": {
     "source_hidden": true
    },
    "slideshow": {
     "slide_type": "skip"
    }
   },
   "outputs": [],
   "source": [
    "%%html\n",
    "<style>\n",
    "h1, h2, h3, h4, h5 {\n",
    "    color: darkblue;\n",
    "    font-weight: bold !important;\n",
    "}\n",
    "h2 {\n",
    "    border-bottom: 8px solid darkblue !important;\n",
    "    padding-bottom: 8px;\n",
    "}\n",
    "h3 {\n",
    "    border-bottom: 2px solid darkblue !important;\n",
    "    padding-bottom: 6px;\n",
    "}\n",
    ".info, .success, .warning, .error {\n",
    "    border: 1px solid;\n",
    "    margin: 10px 0px;\n",
    "    padding:15px 10px;\n",
    "}\n",
    ".info {\n",
    "    color: #00529b;\n",
    "    background-color: #bde5f8;\n",
    "}\n",
    ".success {\n",
    "    color: #4f8a10;\n",
    "    background-color: #dff2bf;\n",
    "}\n",
    ".warning {\n",
    "    color: #9f6000;\n",
    "    background-color: #FEEFB3;\n",
    "}\n",
    ".error {\n",
    "    color: #D8000C;\n",
    "    background-color: #FFBABA;\n",
    "}\n",
    ".language-bash {\n",
    "    font-weight: 900;\n",
    "}\n",
    ".ex {\n",
    "    font-weight: 900;\n",
    "    color: rgba(27,27,255,0.87) !important;\n",
    "}\n",
    ".mn {\n",
    "    font-family: Menlo, Consolas, \"DejaVu Sans Mono\", monospace\n",
    "}\n",
    "table {\n",
    "    margin-left: 0 !important;}\n",
    "</style>"
   ]
  },
  {
   "cell_type": "markdown",
   "metadata": {},
   "source": [
    "# Day 2: Up and Running with Python"
   ]
  },
  {
   "cell_type": "markdown",
   "metadata": {},
   "source": [
    "## 2.6 Multithreading and Multiprocessing"
   ]
  },
  {
   "cell_type": "markdown",
   "metadata": {},
   "source": [
    "### Sequential Execution"
   ]
  },
  {
   "cell_type": "markdown",
   "metadata": {},
   "source": [
    "-   Threads can provide concurrency, even if they're not truly parallel."
   ]
  },
  {
   "cell_type": "markdown",
   "metadata": {},
   "source": [
    "<span class='ex'>Example: Sequential</span>"
   ]
  },
  {
   "cell_type": "code",
   "execution_count": null,
   "metadata": {},
   "outputs": [],
   "source": [
    "%%file ./sequential_1.py\n",
    "import time\n",
    "import requests\n",
    "\n",
    "def cpu_task(number):\n",
    "    for i in range(1000):\n",
    "        sqr = number*number\n",
    "    global squares\n",
    "    squares.append(sqr)\n",
    "\n",
    "def io_task(url):\n",
    "    response = requests.get(url)\n",
    "    global length\n",
    "    length[url] = len(response.content)\n",
    "\n",
    "########################\n",
    "start_time = time.time()\n",
    "\n",
    "squares = []\n",
    "for n in list(range(1,11)):\n",
    "    cpu_task(n)\n",
    "\n",
    "end_time = time.time()\n",
    "print(f'squares={squares}.\\n Total time = {end_time-start_time}')\n",
    "######################\n",
    "\n",
    "\n",
    "########################\n",
    "start_time = time.time()\n",
    "\n",
    "urls = ['http://LinuxJournal.com',\n",
    "        'http://en.wikipedia.org',\n",
    "        'http://Facebook.com',\n",
    "        'http://NYTimes.com',\n",
    "        'http://thetech.com',\n",
    "        'http://news.ycombinator.com',\n",
    "        'http://WashingtonPost.com',\n",
    "        'http://thetech.com',\n",
    "        'http://Haaretz.co.il',\n",
    "        'http://lerner.co.il'\n",
    "       ]\n",
    "length = {}\n",
    "for url in urls:\n",
    "    io_task(url)\n",
    "\n",
    "end_time = time.time()\n",
    "print(f'length={length}.\\n Total time = {end_time-start_time}')\n",
    "######################"
   ]
  },
  {
   "cell_type": "code",
   "execution_count": null,
   "metadata": {},
   "outputs": [],
   "source": [
    "!python ./sequential_1.py"
   ]
  },
  {
   "cell_type": "markdown",
   "metadata": {},
   "source": [
    "### Multithreading"
   ]
  },
  {
   "cell_type": "markdown",
   "metadata": {},
   "source": [
    "<span class='ex'>Example: Multithreading</span>"
   ]
  },
  {
   "cell_type": "code",
   "execution_count": null,
   "metadata": {},
   "outputs": [],
   "source": [
    "%%file ./thread_1.py\n",
    "import time\n",
    "import requests\n",
    "import threading\n",
    "\n",
    "def cpu_task(number):\n",
    "    for i in range(100):\n",
    "        sqr = number*number\n",
    "    global squares\n",
    "    squares.append(sqr)\n",
    "\n",
    "def io_task(url):\n",
    "    response = requests.get(url)\n",
    "    global length\n",
    "    length[url] = len(response.content)\n",
    "    \n",
    "########################\n",
    "start_time = time.time()\n",
    "\n",
    "squares = []\n",
    "threads = []\n",
    "\n",
    "for n in range(1,11):\n",
    "    t = threading.Thread(target=cpu_task, args=(n,))\n",
    "    threads.append(t)\n",
    "    t.start()\n",
    "\n",
    "for t in threads:\n",
    "    t.join()\n",
    "\n",
    "end_time = time.time()\n",
    "print(f'squares={squares}.\\n Total time = {end_time-start_time}')\n",
    "######################\n",
    "\n",
    "\n",
    "########################\n",
    "start_time = time.time()\n",
    "\n",
    "urls = ['http://LinuxJournal.com',\n",
    "        'http://en.wikipedia.org',\n",
    "        'http://Facebook.com',\n",
    "        'http://NYTimes.com',\n",
    "        'http://thetech.com',\n",
    "        'http://news.ycombinator.com',\n",
    "        'http://WashingtonPost.com',\n",
    "        'http://thetech.com',\n",
    "        'http://Haaretz.co.il',\n",
    "        'http://lerner.co.il'\n",
    "       ]\n",
    "length = {}\n",
    "threads = []\n",
    "\n",
    "for url in urls:\n",
    "    t = threading.Thread(target=io_task, args=(url,))\n",
    "    threads.append(t)\n",
    "    t.start()\n",
    "\n",
    "for t in threads:\n",
    "    t.join()\n",
    "\n",
    "end_time = time.time()\n",
    "print(f'length={length}.\\n Total time = {end_time-start_time}')\n",
    "######################"
   ]
  },
  {
   "cell_type": "code",
   "execution_count": null,
   "metadata": {},
   "outputs": [],
   "source": [
    "!python ./thread_1.py"
   ]
  },
  {
   "cell_type": "markdown",
   "metadata": {},
   "source": [
    "#### It is noticed that\n",
    "-   The multithreading program performs faster then the task is IO-bound but not CPU-bound.\n",
    "-   There is a race condition in updating shared resources: `square` and `length`."
   ]
  },
  {
   "cell_type": "markdown",
   "metadata": {},
   "source": [
    "### Communication among Threads with Queue"
   ]
  },
  {
   "cell_type": "markdown",
   "metadata": {},
   "source": [
    "<span class='ex'>Example: Communication among thread using queue</span>"
   ]
  },
  {
   "cell_type": "code",
   "execution_count": null,
   "metadata": {},
   "outputs": [],
   "source": [
    "%%file ./thread_2.py\n",
    "import time\n",
    "import requests\n",
    "import threading\n",
    "from queue import Queue\n",
    "\n",
    "def cpu_task(number):\n",
    "    for i in range(100):\n",
    "        sqr = number*number\n",
    "    global queue\n",
    "    queue.put(sqr)\n",
    "\n",
    "def io_task(url):\n",
    "    response = requests.get(url)\n",
    "    global queue\n",
    "    queue.put((url,len(response.content)))\n",
    "\n",
    "########################\n",
    "start_time = time.time()\n",
    "\n",
    "threads = []\n",
    "queue = Queue()\n",
    "\n",
    "for n in list(range(1,11)):\n",
    "    t = threading.Thread(target=cpu_task, args=(n,))\n",
    "    threads.append(t)\n",
    "    t.start()\n",
    "\n",
    "for t in threads:\n",
    "    t.join()\n",
    "\n",
    "end_time = time.time()\n",
    "\n",
    "mylist= []\n",
    "while not queue.empty():\n",
    "    mylist.append(queue.get())\n",
    "\n",
    "print(f'squares={mylist}.\\n Total time = {end_time-start_time}')\n",
    "######################\n",
    "\n",
    "\n",
    "########################\n",
    "start_time = time.time()\n",
    "\n",
    "urls = ['http://LinuxJournal.com',\n",
    "        'http://en.wikipedia.org',\n",
    "        'http://Facebook.com',\n",
    "        'http://NYTimes.com',\n",
    "        'http://thetech.com',\n",
    "        'http://news.ycombinator.com',\n",
    "        'http://WashingtonPost.com',\n",
    "        'http://thetech.com',\n",
    "        'http://Haaretz.co.il',\n",
    "        'http://lerner.co.il'\n",
    "       ]\n",
    "queue = Queue()\n",
    "\n",
    "for url in urls:\n",
    "    t = threading.Thread(target=io_task, args=(url,))\n",
    "    threads.append(t)\n",
    "    t.start()\n",
    "\n",
    "for t in threads:\n",
    "    t.join()\n",
    "    \n",
    "end_time = time.time()\n",
    "\n",
    "mylist= []\n",
    "while not queue.empty():\n",
    "    mylist.append(queue.get())\n",
    "\n",
    "print(f'length={mylist}.\\n Total time = {end_time-start_time}')\n",
    "######################"
   ]
  },
  {
   "cell_type": "code",
   "execution_count": null,
   "metadata": {},
   "outputs": [],
   "source": [
    "!python ./thread_2.py"
   ]
  },
  {
   "cell_type": "markdown",
   "metadata": {},
   "source": [
    "### Multiprocessing\n",
    "-   Python's \"multiprocessing\" module feels like threads, but actually launches processes."
   ]
  },
  {
   "cell_type": "markdown",
   "metadata": {},
   "source": [
    "<span class=\"ex\">Example: Multiprocessing</span>"
   ]
  },
  {
   "cell_type": "code",
   "execution_count": null,
   "metadata": {},
   "outputs": [],
   "source": [
    "%%file ./multiprocessing_1.py\n",
    "import time\n",
    "import requests\n",
    "import multiprocessing as mp\n",
    "\n",
    "def cpu_task(queue, number):\n",
    "    for i in range(100):\n",
    "        sqr = number*number\n",
    "    queue.put(sqr)\n",
    "\n",
    "def io_task(queue, url):\n",
    "    response = requests.get(url)\n",
    "    queue.put((url,len(response.content)))\n",
    "\n",
    "\n",
    "if __name__ == '__main__':\n",
    "\n",
    "    ########################\n",
    "    start_time = time.time()\n",
    "\n",
    "    processes = []\n",
    "    queue = mp.Queue()\n",
    "\n",
    "    for n in list(range(1,11)):\n",
    "        p = mp.Process(target=cpu_task, args=(queue, n))\n",
    "        processes.append(p)\n",
    "        p.start()\n",
    "\n",
    "    for p in processes:\n",
    "        p.join()\n",
    "\n",
    "    mylist= []\n",
    "    while not queue.empty():\n",
    "        mylist.append(queue.get())\n",
    "        \n",
    "    end_time = time.time()\n",
    "    print(f'squares={mylist}.\\n Total time = {end_time-start_time}')\n",
    "    ######################\n",
    "\n",
    "\n",
    "    ########################\n",
    "    start_time = time.time()\n",
    "\n",
    "    urls = ['http://LinuxJournal.com',\n",
    "            'http://en.wikipedia.org',\n",
    "            'http://Facebook.com',\n",
    "            'http://NYTimes.com',\n",
    "            'http://thetech.com',\n",
    "            'http://news.ycombinator.com',\n",
    "            'http://WashingtonPost.com',\n",
    "            'http://thetech.com',\n",
    "            'http://Haaretz.co.il',\n",
    "            'http://lerner.co.il'\n",
    "           ]\n",
    "\n",
    "    for url in urls:\n",
    "        p = mp.Process(target=io_task, args=(queue, url))\n",
    "        processes.append(p)\n",
    "        p.start()\n",
    "\n",
    "    for p in processes:\n",
    "        p.join()\n",
    "    \n",
    "    mylist= []\n",
    "    while not queue.empty():\n",
    "        mylist.append(queue.get())\n",
    "\n",
    "    end_time = time.time()\n",
    "    print(f'length={mylist}.\\n Total time = {end_time-start_time}')\n",
    "    ######################"
   ]
  },
  {
   "cell_type": "code",
   "execution_count": null,
   "metadata": {},
   "outputs": [],
   "source": [
    "!python ./multiprocessing_1.py"
   ]
  }
 ],
 "metadata": {
  "kernelspec": {
   "display_name": "Python 3",
   "language": "python",
   "name": "python3"
  },
  "language_info": {
   "codemirror_mode": {
    "name": "ipython",
    "version": 3
   },
   "file_extension": ".py",
   "mimetype": "text/x-python",
   "name": "python",
   "nbconvert_exporter": "python",
   "pygments_lexer": "ipython3",
   "version": "3.7.4"
  }
 },
 "nbformat": 4,
 "nbformat_minor": 4
}
