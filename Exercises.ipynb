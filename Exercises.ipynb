{
 "cells": [
  {
   "cell_type": "markdown",
   "metadata": {},
   "source": [
    "# Day 1"
   ]
  },
  {
   "cell_type": "markdown",
   "metadata": {},
   "source": [
    "Find out the "
   ]
  },
  {
   "cell_type": "markdown",
   "metadata": {},
   "source": [
    "# Day 2"
   ]
  },
  {
   "cell_type": "markdown",
   "metadata": {},
   "source": [
    "### Q2.1 Tell me more\n",
    "\n",
    "Generate 1000 random integers between 0 to 100, inclusively, and print out the following statistics from the random numbers:\n",
    "-   Sum\n",
    "-   Average\n",
    "-   Frequency distribution\n",
    "\n",
    "You can use the following method to generate one random number between 0 and 100:\n",
    "\n",
    "```Python\n",
    "import random\n",
    "random.randint(0, 100)\n",
    "```\n",
    "\n",
    "We could set a random number seed so that `random.randint(0, 100)` could give the same set of random numbers:\n",
    "\n",
    "```Python\n",
    "random.seed(1234)  # We can other number too\n",
    "```"
   ]
  },
  {
   "cell_type": "markdown",
   "metadata": {},
   "source": [
    "### S2.1 Solution for \"Tell me more\""
   ]
  },
  {
   "cell_type": "code",
   "execution_count": null,
   "metadata": {},
   "outputs": [],
   "source": [
    "import random\n",
    "\n",
    "random_list = []\n",
    "\n",
    "random.seed(1234)\n",
    "for x in range(0, 1000):\n",
    "    random_list.append(random.randint(0,100))\n",
    "    \n",
    "total = sum(random_list)\n",
    "size  = len(random_list)\n",
    "\n",
    "print(total)\n",
    "print(total/size,'\\n')\n",
    "\n",
    "freq = {}\n",
    "for n in random_list:\n",
    "    if n in freq:\n",
    "        freq[n] += 1\n",
    "    else:\n",
    "        freq[n] = 1\n",
    "\n",
    "# Sort a dictionary by key\n",
    "sorted_freq = dict(sorted(freq.items()))\n",
    "\n",
    "for key, value in sorted_freq.items():\n",
    "    print(f'{key:<2}-> {value}')"
   ]
  },
  {
   "cell_type": "code",
   "execution_count": null,
   "metadata": {},
   "outputs": [],
   "source": []
  }
 ],
 "metadata": {
  "kernelspec": {
   "display_name": "Python 3",
   "language": "python",
   "name": "python3"
  },
  "language_info": {
   "codemirror_mode": {
    "name": "ipython",
    "version": 3
   },
   "file_extension": ".py",
   "mimetype": "text/x-python",
   "name": "python",
   "nbconvert_exporter": "python",
   "pygments_lexer": "ipython3",
   "version": "3.7.6"
  }
 },
 "nbformat": 4,
 "nbformat_minor": 4
}
