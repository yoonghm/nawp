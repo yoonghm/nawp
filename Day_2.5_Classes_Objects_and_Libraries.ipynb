{
 "cells": [
  {
   "cell_type": "code",
   "execution_count": null,
   "metadata": {
    "jupyter": {
     "source_hidden": true
    },
    "slideshow": {
     "slide_type": "skip"
    }
   },
   "outputs": [],
   "source": [
    "%%html\n",
    "<style>\n",
    "h1, h2, h3, h4, h5 {\n",
    "    color: darkblue;\n",
    "    font-weight: bold !important;\n",
    "}\n",
    "h2 {\n",
    "    border-bottom: 8px solid darkblue !important;\n",
    "    padding-bottom: 8px;\n",
    "}\n",
    "h3 {\n",
    "    border-bottom: 2px solid darkblue !important;\n",
    "    padding-bottom: 6px;\n",
    "}\n",
    ".info, .success, .warning, .error {\n",
    "    border: 1px solid;\n",
    "    margin: 10px 0px;\n",
    "    padding:15px 10px;\n",
    "}\n",
    ".info {\n",
    "    color: #00529b;\n",
    "    background-color: #bde5f8;\n",
    "}\n",
    ".success {\n",
    "    color: #4f8a10;\n",
    "    background-color: #dff2bf;\n",
    "}\n",
    ".warning {\n",
    "    color: #9f6000;\n",
    "    background-color: #FEEFB3;\n",
    "}\n",
    ".error {\n",
    "    color: #D8000C;\n",
    "    background-color: #FFBABA;\n",
    "}\n",
    ".language-bash {\n",
    "    font-weight: 900;\n",
    "}\n",
    ".ex {\n",
    "    font-weight: 900;\n",
    "    color: rgba(27,27,255,0.87) !important;\n",
    "}\n",
    ".mn {\n",
    "    font-family: Menlo, Consolas, \"DejaVu Sans Mono\", monospace\n",
    "}\n",
    "table {\n",
    "    margin-left: 0 !important;}\n",
    "</style>"
   ]
  },
  {
   "cell_type": "markdown",
   "metadata": {},
   "source": [
    "# Day 2: Up and Running with Python"
   ]
  },
  {
   "cell_type": "markdown",
   "metadata": {},
   "source": [
    "## 2.5 Classes, Objects and Libraries"
   ]
  },
  {
   "cell_type": "markdown",
   "metadata": {},
   "source": [
    "### Global Variables in Python"
   ]
  },
  {
   "cell_type": "markdown",
   "metadata": {},
   "source": [
    "If we need to reference a global variable from a local scope (such as within a function), we could use `global` before the variable name. If we do not do this, Python will assume that we are creating a new variable."
   ]
  },
  {
   "cell_type": "code",
   "execution_count": null,
   "metadata": {},
   "outputs": [],
   "source": [
    "a = 123\n",
    "\n",
    "def myfunc(b):\n",
    "    return b+a  # a refers to a global variable\n",
    "\n",
    "def myfunc2(b):\n",
    "    a = 0  # Create a local variable which is not related to the global a\n",
    "    return a+100\n",
    "\n",
    "def myfunc3(b):\n",
    "    global a\n",
    "    a = 999\n",
    "    return a+100\n",
    "\n",
    "print(myfunc(100))\n",
    "print(myfunc2(100))\n",
    "print(a)\n",
    "print(myfunc3(100))\n",
    "print(a)"
   ]
  },
  {
   "cell_type": "markdown",
   "metadata": {},
   "source": [
    "### Classes and Objects\n",
    "-   Classes are blueprints/template for objects. They define the **structure** and **behavior** of objects. \n",
    "\n",
    "\n",
    "-   Python is highly object-oriented but it does not enforce us to use it until you need them. \n",
    "\n",
    "\n",
    "-   Creating a new object is called `instantiation`. An **object** of a class is also called **instance** of that class.\n",
    "\n",
    "\n",
    "-   Multiple objects can be created from the same class.\n",
    "\n",
    "\n",
    "-   Classes are defined using the `class` keyword followed by a name which is normally in camel case.\n",
    "\n",
    "\n",
    "-   Class instances are created by calling the class as if it is a function.\n",
    "\n",
    "\n",
    "-   When you print an instance, Python shows its class and its memory location.  We could implement `__repr__` method to print information that we need."
   ]
  },
  {
   "cell_type": "markdown",
   "metadata": {},
   "source": [
    "<span class=\"ex\">Example 1</span>"
   ]
  },
  {
   "cell_type": "code",
   "execution_count": null,
   "metadata": {},
   "outputs": [],
   "source": [
    "!mkdir ncsnet"
   ]
  },
  {
   "cell_type": "code",
   "execution_count": null,
   "metadata": {},
   "outputs": [],
   "source": [
    "%%file ./ncsnet/netd.py\n",
    "class NetDevice:\n",
    "    '''\n",
    "    NetDevice models network equipment in an network\n",
    "    '''\n",
    "    def __init__(self, hostname, ipaddress, netmask='255.255.255.0', *, gateway='0.0.0.0'):\n",
    "        '''\n",
    "        Create an instance of network device. \n",
    "        param:\n",
    "          @hostname (string): hostname of a network device, less than 16 characters\n",
    "          @ipaddress (string): ip address of the network device\n",
    "        '''\n",
    "        self.hostname = hostname\n",
    "        self.ipaddress = ipaddress\n",
    "        self.netmask = netmask\n",
    "        self.gateway = gateway\n",
    "    def __repr__(self):\n",
    "        return f'{self.hostname}:{self.ipaddress}'\n",
    "    def desc(self):\n",
    "        '''\n",
    "        Return various attributes of the network device.\n",
    "        '''\n",
    "        return f'{self.hostname}:{self.ipaddress}:{self.netmask}:{self.gateway}'"
   ]
  },
  {
   "cell_type": "code",
   "execution_count": null,
   "metadata": {},
   "outputs": [],
   "source": [
    "%%file ./ncsnet/__init__.py\n",
    "# Empty file"
   ]
  },
  {
   "cell_type": "code",
   "execution_count": null,
   "metadata": {},
   "outputs": [],
   "source": [
    "from ncsnet.netd import NetDevice"
   ]
  },
  {
   "cell_type": "code",
   "execution_count": null,
   "metadata": {},
   "outputs": [],
   "source": [
    "a = NetDevice('web01', '192.168.2.1')\n",
    "print(a)\n",
    "print(a.desc())"
   ]
  },
  {
   "cell_type": "code",
   "execution_count": null,
   "metadata": {},
   "outputs": [],
   "source": [
    "b = NetDevice('web02', '192.168.2.2','255.255.0.0',gateway='8.8.8.8')\n",
    "print(b)\n",
    "print(b.desc())"
   ]
  },
  {
   "cell_type": "code",
   "execution_count": null,
   "metadata": {},
   "outputs": [],
   "source": [
    "NetDevice??"
   ]
  },
  {
   "cell_type": "code",
   "execution_count": null,
   "metadata": {},
   "outputs": [],
   "source": [
    "NetDevice.desc??"
   ]
  },
  {
   "cell_type": "markdown",
   "metadata": {},
   "source": [
    "Let's use the NetDevice class."
   ]
  },
  {
   "cell_type": "markdown",
   "metadata": {},
   "source": [
    "<span class=\"ex\">Example 2</span>"
   ]
  },
  {
   "cell_type": "code",
   "execution_count": null,
   "metadata": {},
   "outputs": [],
   "source": [
    "class Student:\n",
    "    def __init__(self, name, height, grade):\n",
    "        self.name = name\n",
    "        self.height = height\n",
    "        self.grade = grade\n",
    "    def __repr__(self):\n",
    "        return repr((self.name, self.height, self.grade))\n",
    "    def special(self): \n",
    "        # Sum of ord() for each character of the name and multiply with height\n",
    "        return sum(ord(c) for c in self.name) * self.height"
   ]
  },
  {
   "cell_type": "code",
   "execution_count": null,
   "metadata": {},
   "outputs": [],
   "source": [
    "sorted??"
   ]
  },
  {
   "cell_type": "code",
   "execution_count": null,
   "metadata": {},
   "outputs": [],
   "source": [
    "students = [\n",
    "    Student('Mary',  1.71,   'A'),\n",
    "    Student('John',  1.76,   'B'),\n",
    "    Student('Pete',  1.71,   'B'),\n",
    "    Student('Jane',  1.76,   'A'),\n",
    "]\n",
    "\n",
    "from operator import itemgetter, attrgetter, methodcaller\n",
    "print('Sort according to grade in descending order and followed by name')\n",
    "print(sorted(students, key=attrgetter('grade', 'name')))\n",
    "print()\n",
    "\n",
    "for s in students:\n",
    "    print(s.name, s.special())\n",
    "\n",
    "print()\n",
    "print('Sort according to special function in descending orer')\n",
    "print(sorted(students, key=methodcaller('special'), reverse=True))"
   ]
  },
  {
   "cell_type": "markdown",
   "metadata": {},
   "source": [
    "### Libraries"
   ]
  },
  {
   "cell_type": "markdown",
   "metadata": {},
   "source": [
    "-   Use **`import`** to import one or more modules (libraries) from a Python standard directory.\n",
    "-   Python use `sys.path` to look for modules"
   ]
  },
  {
   "cell_type": "code",
   "execution_count": null,
   "metadata": {},
   "outputs": [],
   "source": [
    "import sys\n",
    "\n",
    "for p in sys.path:\n",
    "    print(p)"
   ]
  },
  {
   "cell_type": "markdown",
   "metadata": {},
   "source": [
    "Let's import `test` module and see where it is loaded from."
   ]
  },
  {
   "cell_type": "code",
   "execution_count": null,
   "metadata": {},
   "outputs": [],
   "source": [
    "import test\n",
    "\n",
    "print(test.__file__)"
   ]
  },
  {
   "cell_type": "markdown",
   "metadata": {},
   "source": [
    "Let's see the content of the directory."
   ]
  },
  {
   "cell_type": "code",
   "execution_count": null,
   "metadata": {},
   "outputs": [],
   "source": [
    "!dir C:\\home\\Anaconda3\\lib\\test\\"
   ]
  },
  {
   "cell_type": "markdown",
   "metadata": {},
   "source": [
    "As the library is already converted to byte code, you see only `__pycache__` folder and `__init__.py` file.\n",
    "\n",
    "We need the latter to tell Python that it is a module.  You can put in initialization code to tell Python how to load other modules for the library."
   ]
  },
  {
   "cell_type": "markdown",
   "metadata": {},
   "source": [
    "#### Let's create our own module"
   ]
  },
  {
   "cell_type": "markdown",
   "metadata": {},
   "source": [
    "-   Any Python source file is a module\n",
    "\n",
    "\n",
    "-   You use **`import`** to execute and access it\n",
    "\n",
    "\n",
    "-   Each modules is its own isolated world\n",
    "\n",
    "\n",
    "-   When a module is imported, all of the statements in the module are executed one after another until the end of the file.\n",
    "\n",
    "\n",
    "-   The contents of the module namespaces are all of the global names that are still defined at the end of the execution process.\n",
    "\n",
    "\n",
    "-   If there are scripting statements that carry out tasks in the global scope (printing, creating files, etc.), you will them run on import.\n",
    "\n",
    "\n",
    "-   Module naming conventions\n",
    "    -   Module name should be in all small letters\n",
    "    -   Module name should not be one of the reserved words\n",
    "    -   Module name should not use non-ASCII characters\n",
    "    -   Module name begins with '_' are meant for private or internal use\n",
    "\n",
    "\n",
    "-   Do not use implicit relative path for imports, use absolute or explicit relative path instead"
   ]
  },
  {
   "cell_type": "code",
   "execution_count": null,
   "metadata": {},
   "outputs": [],
   "source": [
    "!mkdir examples"
   ]
  },
  {
   "cell_type": "code",
   "execution_count": null,
   "metadata": {},
   "outputs": [],
   "source": [
    "%%file ./examples/module_spam.py\n",
    "\"\"\"This is module spam\"\"\"\n",
    "val = 42\n",
    "\n",
    "print(f'Module spam: val = {val}')\n",
    "\n",
    "def grok(x):\n",
    "  \"\"\"I am grok\"\"\"\n",
    "  global val\n",
    "  val += 10\n",
    "  return f'grok({x}) = {val}'\n",
    "\n",
    "def blah(x):\n",
    "  \"\"\"I am blah\"\"\"\n",
    "  global val\n",
    "  val += 10\n",
    "  return f'blah({x}) = {val}'\n",
    "\n",
    "if __name__ == '__main__':\n",
    "  print(grok(\"main\"))\n",
    "  print(blah(\"main\"))"
   ]
  },
  {
   "cell_type": "markdown",
   "metadata": {},
   "source": [
    "We can run the script:"
   ]
  },
  {
   "cell_type": "code",
   "execution_count": null,
   "metadata": {
    "scrolled": true
   },
   "outputs": [],
   "source": [
    "!python ./examples/module_spam.py"
   ]
  },
  {
   "cell_type": "markdown",
   "metadata": {},
   "source": [
    "Alternatively, we could run"
   ]
  },
  {
   "cell_type": "code",
   "execution_count": null,
   "metadata": {},
   "outputs": [],
   "source": [
    "!python -m examples.module_spam"
   ]
  },
  {
   "cell_type": "code",
   "execution_count": null,
   "metadata": {},
   "outputs": [],
   "source": [
    "%%file ./examples/module_eggs.py\n",
    "\"\"\"This is module eggs\"\"\"\n",
    "val = 999\n",
    "\n",
    "print(f'Module eggs: val = {val}')\n",
    "\n",
    "def foo(x):\n",
    "  \"\"\"I am foo\"\"\"\n",
    "  global val\n",
    "  val += 10\n",
    "  return f'foo({x}) = {val}'\n",
    "\n",
    "def bar(x):\n",
    "  \"\"\"I am bar\"\"\"\n",
    "  global val\n",
    "  val += 10\n",
    "  return f'bar({x}) = {val}'\n",
    "\n",
    "if __name__ == '__main__':\n",
    "  print(foo(\"main\"))\n",
    "  print(bar(\"main\"))"
   ]
  },
  {
   "cell_type": "markdown",
   "metadata": {},
   "source": [
    "Can run this one too:"
   ]
  },
  {
   "cell_type": "code",
   "execution_count": null,
   "metadata": {},
   "outputs": [],
   "source": [
    "!python ./examples/module_eggs.py"
   ]
  },
  {
   "cell_type": "code",
   "execution_count": null,
   "metadata": {},
   "outputs": [],
   "source": [
    "%%file ./examples/module_main.py\n",
    "import module_spam\n",
    "import module_eggs as eggs\n",
    "\n",
    "print('\\n')\n",
    "print(f'imported: {module_spam.__name__}')\n",
    "print(f'{module_spam.__doc__}')\n",
    "\n",
    "print('\\n')\n",
    "print(f'imported: {eggs.__name__}')\n",
    "print(f'{eggs.__doc__}')\n",
    "\n",
    "a = module_spam.grok('hello')\n",
    "b = module_spam.blah('world')\n",
    "c = eggs.foo('hi')\n",
    "d = eggs.bar('howdy')\n",
    "\n",
    "print('\\n')\n",
    "print(a)\n",
    "print(b)\n",
    "print(c)\n",
    "print(d)"
   ]
  },
  {
   "cell_type": "code",
   "execution_count": null,
   "metadata": {
    "scrolled": true
   },
   "outputs": [],
   "source": [
    "!python ./examples/module_main.py"
   ]
  },
  {
   "cell_type": "markdown",
   "metadata": {},
   "source": [
    "####  Package\n",
    "\n",
    "We could organize larger collection of code by putting modules into hierarchy.\n",
    "\n",
    "```\n",
    "spam/\n",
    "  __init__.py\n",
    "  grok.py\n",
    "  blah.py\n",
    "  eggs/\n",
    "    __init__.py\n",
    "    foo.py\n",
    "    bar.py\n",
    "```\n",
    "\n",
    "`__init__.py` files are required to make Python treat the directories as containing packages; this is done to prevent directories with a common name, such as `string`, from unintentionally hiding valid modules that occur later (deeper) on the module search path.\n",
    "\n",
    "`__init.py` can just be an empty file, but it can also execute initialization code for the package or set the `__all__` and any variable at the package level."
   ]
  },
  {
   "cell_type": "markdown",
   "metadata": {},
   "source": [
    "#### Explicit Relative Imports"
   ]
  },
  {
   "cell_type": "markdown",
   "metadata": {},
   "source": [
    "**Consider the hierarchy**\n",
    "\n",
    "```\n",
    "spam/\n",
    "  __init__.py\n",
    "  grok.py\n",
    "  blur\n",
    "    __init__.py\n",
    "    blah.py\n",
    "  eggs/\n",
    "    __init__.py\n",
    "    foo.py\n",
    "    bar.py\n",
    "```\n",
    "\n",
    "**In `foo.py`**\n",
    "```\n",
    "from . import bar         # Load  ./bar.py\n",
    "from .. import grok       # Load ../grok.py\n",
    "from ..blur import blah   # Load ../blur/blah.py\n",
    "```"
   ]
  }
 ],
 "metadata": {
  "kernelspec": {
   "display_name": "Python 3",
   "language": "python",
   "name": "python3"
  },
  "language_info": {
   "codemirror_mode": {
    "name": "ipython",
    "version": 3
   },
   "file_extension": ".py",
   "mimetype": "text/x-python",
   "name": "python",
   "nbconvert_exporter": "python",
   "pygments_lexer": "ipython3",
   "version": "3.7.4"
  }
 },
 "nbformat": 4,
 "nbformat_minor": 4
}
