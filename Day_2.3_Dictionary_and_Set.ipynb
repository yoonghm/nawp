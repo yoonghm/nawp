{
 "cells": [
  {
   "cell_type": "code",
   "execution_count": 1,
   "metadata": {
    "jupyter": {
     "source_hidden": true
    },
    "slideshow": {
     "slide_type": "skip"
    }
   },
   "outputs": [
    {
     "data": {
      "text/html": [
       "<style>\n",
       "h1, h2, h3, h4, h5 {\n",
       "    color: darkblue;\n",
       "    font-weight: bold !important;\n",
       "}\n",
       "h2 {\n",
       "    border-bottom: 8px solid darkblue !important;\n",
       "    padding-bottom: 8px;\n",
       "}\n",
       "h3 {\n",
       "    border-bottom: 2px solid darkblue !important;\n",
       "    padding-bottom: 6px;\n",
       "}\n",
       ".info, .success, .warning, .error {\n",
       "    border: 1px solid;\n",
       "    margin: 10px 0px;\n",
       "    padding:15px 10px;\n",
       "}\n",
       ".info {\n",
       "    color: #00529b;\n",
       "    background-color: #bde5f8;\n",
       "}\n",
       ".success {\n",
       "    color: #4f8a10;\n",
       "    background-color: #dff2bf;\n",
       "}\n",
       ".warning {\n",
       "    color: #9f6000;\n",
       "    background-color: #FEEFB3;\n",
       "}\n",
       ".error {\n",
       "    color: #D8000C;\n",
       "    background-color: #FFBABA;\n",
       "}\n",
       ".language-bash {\n",
       "    font-weight: 900;\n",
       "}\n",
       ".ex {\n",
       "    font-weight: 900;\n",
       "    color: rgba(27,27,255,0.87) !important;\n",
       "}\n",
       ".mn {\n",
       "    font-family: Menlo, Consolas, \"DejaVu Sans Mono\", monospace\n",
       "}\n",
       "table {\n",
       "    margin-left: 0 !important;}\n",
       "</style>\n"
      ],
      "text/plain": [
       "<IPython.core.display.HTML object>"
      ]
     },
     "metadata": {},
     "output_type": "display_data"
    }
   ],
   "source": [
    "%%html\n",
    "<style>\n",
    "h1, h2, h3, h4, h5 {\n",
    "    color: darkblue;\n",
    "    font-weight: bold !important;\n",
    "}\n",
    "h2 {\n",
    "    border-bottom: 8px solid darkblue !important;\n",
    "    padding-bottom: 8px;\n",
    "}\n",
    "h3 {\n",
    "    border-bottom: 2px solid darkblue !important;\n",
    "    padding-bottom: 6px;\n",
    "}\n",
    ".info, .success, .warning, .error {\n",
    "    border: 1px solid;\n",
    "    margin: 10px 0px;\n",
    "    padding:15px 10px;\n",
    "}\n",
    ".info {\n",
    "    color: #00529b;\n",
    "    background-color: #bde5f8;\n",
    "}\n",
    ".success {\n",
    "    color: #4f8a10;\n",
    "    background-color: #dff2bf;\n",
    "}\n",
    ".warning {\n",
    "    color: #9f6000;\n",
    "    background-color: #FEEFB3;\n",
    "}\n",
    ".error {\n",
    "    color: #D8000C;\n",
    "    background-color: #FFBABA;\n",
    "}\n",
    ".language-bash {\n",
    "    font-weight: 900;\n",
    "}\n",
    ".ex {\n",
    "    font-weight: 900;\n",
    "    color: rgba(27,27,255,0.87) !important;\n",
    "}\n",
    ".mn {\n",
    "    font-family: Menlo, Consolas, \"DejaVu Sans Mono\", monospace\n",
    "}\n",
    "table {\n",
    "    margin-left: 0 !important;}\n",
    "</style>"
   ]
  },
  {
   "cell_type": "markdown",
   "metadata": {},
   "source": [
    "# Day 2: Up and Running with Python"
   ]
  },
  {
   "cell_type": "markdown",
   "metadata": {},
   "source": [
    "## 2.3 Dictionary and Set"
   ]
  },
  {
   "cell_type": "markdown",
   "metadata": {},
   "source": [
    "### Dictionary\n",
    "\n",
    "-   A dictionary keeps key-value pairs\n",
    "\n",
    "\n",
    "-   We use key to look up value\n",
    "\n",
    "\n",
    "-   All the keys in a dictionary must be unique\n",
    "\n",
    "\n",
    "-   Since Python 3.6, the insertion order of key-value pairs into a dictionary is always perserved"
   ]
  },
  {
   "cell_type": "markdown",
   "metadata": {},
   "source": [
    "<span class='ex'>Example: Attributes and methods in <span class='mn'>dict</span></span>"
   ]
  },
  {
   "cell_type": "code",
   "execution_count": null,
   "metadata": {},
   "outputs": [],
   "source": [
    "print(dir(dict))"
   ]
  },
  {
   "cell_type": "markdown",
   "metadata": {},
   "source": [
    "<span class='ex'>Example: Create empty dictionary</span>"
   ]
  },
  {
   "cell_type": "code",
   "execution_count": null,
   "metadata": {},
   "outputs": [],
   "source": [
    "a = {}      # Create an empty dictionary\n",
    "print(a)\n",
    "print(type(a))\n",
    "\n",
    "a = dict()  # Create an empty dictionary\n",
    "print(a)\n",
    "print(type(a))"
   ]
  },
  {
   "cell_type": "markdown",
   "metadata": {},
   "source": [
    "<span class='ex'>Example: Keys in a dictionary must be unique</span>"
   ]
  },
  {
   "cell_type": "code",
   "execution_count": null,
   "metadata": {},
   "outputs": [],
   "source": [
    "# The second tuple overrides the first tuple\n",
    "a = dict(\n",
    "    (('a',1),\n",
    "     ('a',2)\n",
    "    )\n",
    ")\n",
    "print(a)"
   ]
  },
  {
   "cell_type": "markdown",
   "metadata": {},
   "source": [
    "<span class='ex'>Example: Creating dictionary from lists and tuples</span>"
   ]
  },
  {
   "cell_type": "code",
   "execution_count": null,
   "metadata": {},
   "outputs": [],
   "source": [
    "# Create a dictionary from list of lists\n",
    "a = dict(\n",
    "    [['a', 1],\n",
    "     ['b', 2],\n",
    "     ['c', 3]\n",
    "    ]\n",
    ")  \n",
    "print(a)\n",
    "\n",
    "# Create a dictionary from tuple of tuples\n",
    "a = dict(\n",
    "    ((1, 'a'),\n",
    "     (2, 'b'),\n",
    "     (3, 'c')\n",
    "    )\n",
    ")  \n",
    "print(a)\n",
    "\n",
    "# Create a dictionary from list of tuples\n",
    "a = dict(\n",
    "    [('a', 'apple'),\n",
    "     ('b', 'banana')\n",
    "    ]\n",
    ")\n",
    "print(a)\n",
    "\n",
    "# Create a dictionary from tuple of lists\n",
    "d = dict(\n",
    "    ([1.1, 'float'],\n",
    "     [2, 'int']\n",
    "    )\n",
    ")\n",
    "print(a)"
   ]
  },
  {
   "cell_type": "markdown",
   "metadata": {},
   "source": [
    "<span class='ex'>Example: <span class='mn'>dict.keys()</span>, <span class='mn'>dict.values()</span> and <span class='mn'>dict.items()</span></span>"
   ]
  },
  {
   "cell_type": "code",
   "execution_count": null,
   "metadata": {},
   "outputs": [],
   "source": [
    "a = dict(\n",
    "    [('a', 'apple'),\n",
    "     ('b', 'banana'),\n",
    "     ('c', 'carrot')\n",
    "    ]\n",
    ")\n",
    "\n",
    "for k in a.keys():\n",
    "    print(f'key = {k}')\n",
    "print('\\n')\n",
    "\n",
    "for v in a.values():\n",
    "    print(f'value = {v}')\n",
    "print('\\n')\n",
    "\n",
    "for k, v in a.items():\n",
    "    print(f'{k} -> {v}')\n",
    "print('\\n')\n"
   ]
  },
  {
   "cell_type": "markdown",
   "metadata": {},
   "source": [
    "<span class='ex'>Example: Update values in a dictionary</span>"
   ]
  },
  {
   "cell_type": "code",
   "execution_count": null,
   "metadata": {},
   "outputs": [],
   "source": [
    "a = dict(\n",
    "    [('a', 'apple'),\n",
    "     ('b', 'banana'),\n",
    "     ('c', 'carrot')\n",
    "    ]\n",
    ")\n",
    "\n",
    "a['a'] = 'apricot'              # Explicitly set value for an existing key\n",
    "a.setdefault('b', 'blueberry')  # Create a key-value pair if it is not present - no effect\n",
    "a.setdefault('e', 'eggfruit')   # Create a key-value pair if it is not present\n",
    "a.update({'c': 'cherry'})       # Set value for key 'c' which is present - no effect\n",
    "a.update({'d': 'durian'})       # Set value for key 'd' which is absent\n",
    "\n",
    "for k, v in a.items():\n",
    "    print(f'{k} -> {v}')"
   ]
  },
  {
   "cell_type": "markdown",
   "metadata": {},
   "source": [
    "<span class='ex'>Example: Use <span class='mn'>dict.fromkeys()</span> to create dictionary from keys using the same value</span>"
   ]
  },
  {
   "cell_type": "code",
   "execution_count": null,
   "metadata": {},
   "outputs": [],
   "source": [
    "parent_mobile = dict.fromkeys(['Mary', 'John'], {'father':'9111-1111', 'mother':'9222-222'}) \n",
    "\n",
    "for k,v in parent_mobile.items():\n",
    "    print(f'{k} -> {v}, id(v)={id(v)}')\n",
    "\n",
    "# Just change father's mobile number for Mary\n",
    "parent_mobile['Mary']['father'] = '8888-8888'\n",
    "\n",
    "print('\\n')\n",
    "for k,v in parent_mobile.items():\n",
    "    print(f'{k} -> {v}')"
   ]
  },
  {
   "cell_type": "markdown",
   "metadata": {},
   "source": [
    "<span class='ex'>Example: Use dictionary comprehension to create dictionary from keys with different value</span>"
   ]
  },
  {
   "cell_type": "code",
   "execution_count": null,
   "metadata": {},
   "outputs": [],
   "source": [
    "parent_mobile = {key:{'father':'', 'mother':''} for key in ['Mary', 'John']}\n",
    "\n",
    "for k,v in parent_mobile.items():\n",
    "    print(f'{k} -> {v}, id(v)={id(v)}')\n",
    "    \n",
    "# Just change father's mobile number for Mary\n",
    "parent_mobile['Mary']['father'] = '8888-8888'\n",
    "\n",
    "print('\\n')\n",
    "for k,v in parent_mobile.items():\n",
    "    print(f'{k} -> {v}') "
   ]
  },
  {
   "cell_type": "markdown",
   "metadata": {},
   "source": [
    "<span class='ex'>Example: Use <span class='mn'>dict.get()</span> to return value of a given key</span>"
   ]
  },
  {
   "cell_type": "code",
   "execution_count": null,
   "metadata": {},
   "outputs": [],
   "source": [
    "a = dict(\n",
    "    [('a', 'apple'),\n",
    "     ('b', 'banana'),\n",
    "     ('c', 'carrot')\n",
    "    ]\n",
    ")\n",
    "\n",
    "print(a.get('a'))\n",
    "\n",
    "print(z.get('d'))\n",
    "\n",
    "if z.get('d') == None:\n",
    "    print('There is no fruit name start with \\'d\\'')\n",
    "    \n",
    "print(z.get('san02', 'Not found.'))"
   ]
  },
  {
   "cell_type": "markdown",
   "metadata": {},
   "source": [
    "<span class='ex'>Example: Use <span class='mn'>dict.pop()</span> to remove and return value of a given key</span>"
   ]
  },
  {
   "cell_type": "code",
   "execution_count": null,
   "metadata": {},
   "outputs": [],
   "source": [
    "a = dict(\n",
    "    [('a', 'apple'),\n",
    "     ('b', 'banana'),\n",
    "     ('c', 'carrot')\n",
    "    ]\n",
    ")\n",
    "print(a, '\\n')\n",
    "\n",
    "t = a.pop('a')\n",
    "print(f'{t}')\n",
    "\n",
    "print(f'\\n{a}\\n')"
   ]
  },
  {
   "cell_type": "markdown",
   "metadata": {},
   "source": [
    "<span class='ex'>Example: Use <span class='mn'>dict.items()</span> to iterate tuple of key-value pair from a dictionary</span>"
   ]
  },
  {
   "cell_type": "code",
   "execution_count": null,
   "metadata": {},
   "outputs": [],
   "source": [
    "a = dict(\n",
    "    [('a', 'apple'),\n",
    "     ('b', 'banana'),\n",
    "     ('c', 'carrot')\n",
    "    ]\n",
    ")\n",
    "print(a, '\\n')\n",
    "\n",
    "for k, v in a.items():\n",
    "    print(f'{k} -> {v}')\n",
    "\n",
    "print(f'\\n{a}\\n')"
   ]
  },
  {
   "cell_type": "markdown",
   "metadata": {},
   "source": [
    "<span class='ex'>Example: Use <span class='mn'>dict.popitem()</span> to remove and return the right-most key-value pair from a dictionary</span>"
   ]
  },
  {
   "cell_type": "code",
   "execution_count": null,
   "metadata": {},
   "outputs": [],
   "source": [
    "a = dict(\n",
    "    [('a', 'apple'),\n",
    "     ('b', 'banana'),\n",
    "     ('c', 'carrot')\n",
    "    ]\n",
    ")\n",
    "print(a, '\\n')\n",
    "\n",
    "while True:\n",
    "    if a:  # If dictionary a is not empty\n",
    "        k, v = a.popitem()\n",
    "        print(f'{k} -> {v}')\n",
    "    else:\n",
    "        break\n",
    "\n",
    "print(f'\\n{a}\\n')"
   ]
  },
  {
   "cell_type": "markdown",
   "metadata": {},
   "source": [
    "### Set"
   ]
  },
  {
   "cell_type": "markdown",
   "metadata": {},
   "source": [
    "-   A set keeps unordered unique items"
   ]
  },
  {
   "cell_type": "markdown",
   "metadata": {},
   "source": [
    "<span class='ex'>Example: Attributes and methods in <span class='mn'>set</span></span>"
   ]
  },
  {
   "cell_type": "code",
   "execution_count": null,
   "metadata": {},
   "outputs": [],
   "source": [
    "print(dir(set))"
   ]
  },
  {
   "cell_type": "markdown",
   "metadata": {},
   "source": [
    "<span class='ex'>Example: Create empty set</span>"
   ]
  },
  {
   "cell_type": "code",
   "execution_count": null,
   "metadata": {},
   "outputs": [],
   "source": [
    "a = set()  # Create an empty set\n",
    "print(a)\n",
    "print(type(a))"
   ]
  },
  {
   "cell_type": "markdown",
   "metadata": {},
   "source": [
    "<span class='ex'>Example: Add items to a set</span>"
   ]
  },
  {
   "cell_type": "code",
   "execution_count": null,
   "metadata": {},
   "outputs": [],
   "source": [
    "a = set()\n",
    "\n",
    "a.add(1)\n",
    "a.add(2)\n",
    "a.add(3)\n",
    "a.add(3)\n",
    "print(a)"
   ]
  },
  {
   "cell_type": "markdown",
   "metadata": {},
   "source": [
    "<span class='ex'>Example: Union set</span>"
   ]
  },
  {
   "cell_type": "code",
   "execution_count": null,
   "metadata": {},
   "outputs": [],
   "source": [
    "a = {1, 2, 3}\n",
    "b = {1, 4, 5}\n",
    "print(a.union(b))\n",
    "print(a)"
   ]
  },
  {
   "cell_type": "markdown",
   "metadata": {},
   "source": [
    "<span class='ex'>Example: Update a set with union of itself and others</span>"
   ]
  },
  {
   "cell_type": "code",
   "execution_count": null,
   "metadata": {},
   "outputs": [],
   "source": [
    "a = {1, 2, 3}\n",
    "a.update((1, 4, 5))\n",
    "print(a)"
   ]
  },
  {
   "cell_type": "markdown",
   "metadata": {},
   "source": [
    "<span class='ex'>Example: Common set</span>"
   ]
  },
  {
   "cell_type": "code",
   "execution_count": null,
   "metadata": {},
   "outputs": [],
   "source": [
    "a = {1, 2, 3}\n",
    "b = {1, 4, 5}\n",
    "print(a.intersection(b))"
   ]
  },
  {
   "cell_type": "markdown",
   "metadata": {},
   "source": [
    "<span class='ex'>Example: Check a set is subset of another set</span>"
   ]
  },
  {
   "cell_type": "code",
   "execution_count": null,
   "metadata": {},
   "outputs": [],
   "source": [
    "a = {1, 2, 3}\n",
    "{1}.issubset(a)"
   ]
  },
  {
   "cell_type": "markdown",
   "metadata": {},
   "source": [
    "# Exercise\n",
    "\n",
    "Create a program to accept input from command line. Each line consist of the following information separated by whitespaces:\n",
    "\n",
    "-  hostname\n",
    "-  ip address\n",
    "-  netmask\n",
    "-  gateway\n",
    "\n",
    "The input is terminated when `-1` is encountered.\n",
    "\n",
    "Store these records into a dictionary and print it to a console alphatically using keys of the dictionary\n",
    "\n",
    "**For example**:\n",
    "```\n",
    "web02  192.168.2.71 255.255.255.1 192.168.2.1\n",
    "san01  192.168.2.72 255.255.255.1 192.168.2.1\n",
    "dba01  192.168.2.73 255.255.255.1 192.168.2.1\n",
    "web01  192.168.2.70 255.255.255.0 192.168.2.1\n",
    "-1\n",
    "```\n",
    "\n",
    "The program prints\n",
    "```\n",
    "{\n",
    "    'dba01': {'ip':'192.168.2.73', 'netmask':'255.255.255.0', 'gateway': '192.168.2.1'},\n",
    "    'san01': {'ip':'192.168.2.72', 'netmask':'255.255.255.0', 'gateway': '192.168.2.1'}\n",
    "    'web01': {'ip':'192.168.2.70', 'netmask':'255.255.255.0', 'gateway': '192.168.2.1'},\n",
    "    'web02': {'ip':'192.168.2.71', 'netmask':'255.255.255.0', 'gateway': '192.168.2.1'}\n",
    "}\n",
    "```"
   ]
  },
  {
   "cell_type": "markdown",
   "metadata": {},
   "source": [
    "## Solution"
   ]
  },
  {
   "cell_type": "code",
   "execution_count": null,
   "metadata": {},
   "outputs": [],
   "source": []
  }
 ],
 "metadata": {
  "kernelspec": {
   "display_name": "Python 3",
   "language": "python",
   "name": "python3"
  },
  "language_info": {
   "codemirror_mode": {
    "name": "ipython",
    "version": 3
   },
   "file_extension": ".py",
   "mimetype": "text/x-python",
   "name": "python",
   "nbconvert_exporter": "python",
   "pygments_lexer": "ipython3",
   "version": "3.7.4"
  }
 },
 "nbformat": 4,
 "nbformat_minor": 4
}
