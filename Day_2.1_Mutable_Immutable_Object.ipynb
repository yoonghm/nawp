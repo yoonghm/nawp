{
 "cells": [
  {
   "cell_type": "code",
   "execution_count": null,
   "metadata": {
    "jupyter": {
     "source_hidden": true
    },
    "slideshow": {
     "slide_type": "skip"
    }
   },
   "outputs": [],
   "source": [
    "%%html\n",
    "<style>\n",
    "h1, h2, h3, h4, h5 {\n",
    "    color: darkblue;\n",
    "    font-weight: bold !important;\n",
    "}\n",
    "h2 {\n",
    "    border-bottom: 8px solid darkblue !important;\n",
    "    padding-bottom: 8px;\n",
    "}\n",
    "h3 {\n",
    "    border-bottom: 2px solid darkblue !important;\n",
    "    padding-bottom: 6px;\n",
    "}\n",
    ".info, .success, .warning, .error {\n",
    "    border: 1px solid;\n",
    "    margin: 10px 0px;\n",
    "    padding:15px 10px;\n",
    "}\n",
    ".info {\n",
    "    color: #00529b;\n",
    "    background-color: #bde5f8;\n",
    "}\n",
    ".success {\n",
    "    color: #4f8a10;\n",
    "    background-color: #dff2bf;\n",
    "}\n",
    ".warning {\n",
    "    color: #9f6000;\n",
    "    background-color: #FEEFB3;\n",
    "}\n",
    ".error {\n",
    "    color: #D8000C;\n",
    "    background-color: #FFBABA;\n",
    "}\n",
    ".language-bash {\n",
    "    font-weight: 900;\n",
    "}\n",
    ".ex {\n",
    "    font-weight: 900;\n",
    "    color: rgba(27,27,255,0.87) !important;\n",
    "}\n",
    ".mn {\n",
    "    font-family: Menlo, Consolas, \"DejaVu Sans Mono\", monospace\n",
    "}\n",
    "table {\n",
    "    margin-left: 0 !important;}\n",
    "</style>"
   ]
  },
  {
   "cell_type": "markdown",
   "metadata": {},
   "source": [
    "# Day 2: Up and Running with Python"
   ]
  },
  {
   "cell_type": "markdown",
   "metadata": {},
   "source": [
    "## 2.1 Hashability and Mutability\n",
    "\n",
    "### Hashable\n",
    "\n",
    "-   An object is [hashable](https://docs.python.org/3.8/glossary.html#term-hashable) if\n",
    "    -   it has a hash value which never changes during its lifetime (it needs a `__hash__()` method,\n",
    "    -   it can be compared to other objects (it needs an `__eq__()` method).\n",
    "\n",
    "\n",
    "-   Hashable objects which compare equal must have the same hash value.\n",
    "\n",
    "\n",
    "-   Hashability makes an object usable as a dictionary key and a set member, because these data structures use the hash value internally.\n",
    "\n",
    "\n",
    "-   Most of Python's immutable built-in objects are hashable.  Mutable containers (such as lists or dictionaries) are not hashable.  Immutable containers (such as tuples and frozensets) are only hashable if their elements are hashable.\n",
    "\n",
    "\n",
    "-   Objects which are instances of user-defined classes are hashable by default.  They all compare unequal (except with themselves), and their hash value is derived from their `id()`.\n",
    "\n",
    "\n",
    "### Mutability\n",
    "\n",
    "-   Immutable objects include numbers (`int`, `float`, `bool`), strings and tuples, which has a fixed value that cannot be altered.  A new object has to be created if a different value value has to be stored.\n",
    "\n",
    "\n",
    "### Summary\n",
    "\n",
    "-   See https://stackoverflow.com/questions/24245324/about-the-changing-id-of-an-immutable-string\n",
    "\n",
    "\n",
    "-   When Python encounters this statement: `varname = value1`,\n",
    "\n",
    "    -   Python *may* create an object of a suitable class if it could not find a similar one with the same `hash(value1)` from its existing memory.\n",
    "\n",
    "    -   Python then creates an identifier `varname` and link it to the memory having `value1`.\n",
    "\n",
    "\n",
    "-   Later on, when Python encounters another statememnt: `varname = value2`,\n",
    "\n",
    "    -   Python *may* creates an object of a suitable class if it could not find a similar one with the same `hash(value2)` from its existing memory.\n",
    "\n",
    "    -   Python then delinks the memory having `value1` from `varname`\n",
    "    -   Python then creates link the identifier `varname` to the memory having `value2`.\n",
    "    \n",
    "-   After some times, the unreferenced memory having `value1` will be claimed by Python for other use via a memory garbage collection process"
   ]
  },
  {
   "cell_type": "markdown",
   "metadata": {},
   "source": [
    "<span class='ex'>Example: <span class='mn'>hashability</span></span>"
   ]
  },
  {
   "cell_type": "code",
   "execution_count": null,
   "metadata": {},
   "outputs": [],
   "source": [
    "for t in [int, float, str, bool, tuple, list, dict, set]:\n",
    "    print(f'{str(t):<15} is hasable: {t.__hash__ != None}')"
   ]
  },
  {
   "cell_type": "markdown",
   "metadata": {},
   "source": [
    "<span class='ex'>Example: <span class='mn'>hash()</span> and <span class='mn'>id()</span> for <span class='mn'>int</span> objects</span>"
   ]
  },
  {
   "cell_type": "code",
   "execution_count": null,
   "metadata": {},
   "outputs": [],
   "source": [
    "a = 123 \n",
    "b = 123\n",
    "c = 999\n",
    "d = 999\n",
    "print(id(a))\n",
    "print(id(b))\n",
    "print(id(c))\n",
    "print(id(d))\n",
    "print(hash(a))\n",
    "print(hash(b))\n",
    "print(hash(c))\n",
    "print(hash(d))"
   ]
  },
  {
   "cell_type": "markdown",
   "metadata": {},
   "source": [
    "<span class='ex'>Example: <span class='mn'>hash()</span> and <span class='mn'>id()</span> for <span class='mn'>float</span> objects</span>"
   ]
  },
  {
   "cell_type": "code",
   "execution_count": null,
   "metadata": {},
   "outputs": [],
   "source": [
    "a = 0.1\n",
    "b = 0.1\n",
    "c = 1.2 \n",
    "d = 1.2\n",
    "print(id(a))\n",
    "print(id(b))\n",
    "print(id(c))\n",
    "print(id(d))\n",
    "print(hash(a))\n",
    "print(hash(b))\n",
    "print(hash(c))\n",
    "print(hash(d))"
   ]
  },
  {
   "cell_type": "markdown",
   "metadata": {},
   "source": [
    "<span class='ex'>Example: <span class='mn'>hash()</span> and <span class='mn'>id()</span> for <span class='mn'>str</span> objects</span>"
   ]
  },
  {
   "cell_type": "code",
   "execution_count": null,
   "metadata": {},
   "outputs": [],
   "source": [
    "a = 'hi'\n",
    "b = 'hi'\n",
    "c = 'hi '\n",
    "d = 'hi '\n",
    "print(id(a))\n",
    "print(id(b))\n",
    "print(id(c))\n",
    "print(id(d))\n",
    "print(hash(a))\n",
    "print(hash(b))\n",
    "print(hash(c))\n",
    "print(hash(d))"
   ]
  },
  {
   "cell_type": "markdown",
   "metadata": {},
   "source": [
    "<span class='ex'>Example: <span class='mn'>hash()</span> and <span class='mn'>id()</span> for <span class='mn'>bool</span> objects</span>"
   ]
  },
  {
   "cell_type": "code",
   "execution_count": null,
   "metadata": {},
   "outputs": [],
   "source": [
    "a = True\n",
    "b = True\n",
    "c = False\n",
    "d = False\n",
    "print(id(a))\n",
    "print(id(b))\n",
    "print(id(c))\n",
    "print(id(d))\n",
    "print(hash(a))\n",
    "print(hash(b))\n",
    "print(hash(c))\n",
    "print(hash(d))"
   ]
  },
  {
   "cell_type": "markdown",
   "metadata": {},
   "source": [
    "<span class='ex'>Example: <span class='mn'>hash()</span> and <span class='mn'>id()</span> for <span class='mn'>tuple</span> objects</span>"
   ]
  },
  {
   "cell_type": "code",
   "execution_count": null,
   "metadata": {},
   "outputs": [],
   "source": [
    "a = (1, 2)\n",
    "b = (1, 2)\n",
    "c = (0.1, 0.2)\n",
    "d = (0.1, 0.2)\n",
    "print(id(a))\n",
    "print(id(b))\n",
    "print(id(c))\n",
    "print(id(d))\n",
    "print(hash(a))\n",
    "print(hash(b))\n",
    "print(hash(c))\n",
    "print(hash(d))"
   ]
  },
  {
   "cell_type": "code",
   "execution_count": null,
   "metadata": {},
   "outputs": [],
   "source": [
    "a = ((1,), (2,))\n",
    "b = ((1,), (2,))\n",
    "c = ([0, 1], [2, 3])\n",
    "d = ([0, 1], [2, 3])\n",
    "print(id(a))\n",
    "print(id(b))\n",
    "print(id(c))\n",
    "print(id(d))\n",
    "print(hash(a))\n",
    "print(hash(b))\n",
    "print(hash(c))\n",
    "print(hash(d))"
   ]
  },
  {
   "cell_type": "code",
   "execution_count": null,
   "metadata": {},
   "outputs": [],
   "source": []
  }
 ],
 "metadata": {
  "kernelspec": {
   "display_name": "Python 3",
   "language": "python",
   "name": "python3"
  },
  "language_info": {
   "codemirror_mode": {
    "name": "ipython",
    "version": 3
   },
   "file_extension": ".py",
   "mimetype": "text/x-python",
   "name": "python",
   "nbconvert_exporter": "python",
   "pygments_lexer": "ipython3",
   "version": "3.7.4"
  }
 },
 "nbformat": 4,
 "nbformat_minor": 4
}
