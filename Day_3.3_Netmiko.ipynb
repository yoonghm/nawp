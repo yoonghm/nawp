{
 "cells": [
  {
   "cell_type": "code",
   "execution_count": null,
   "metadata": {
    "slideshow": {
     "slide_type": "skip"
    }
   },
   "outputs": [],
   "source": [
    "%%html\n",
    "<style>\n",
    "h1, h2, h3, h4, h5 {\n",
    "    color: darkblue;\n",
    "    font-weight: bold !important;\n",
    "}\n",
    "h2 {\n",
    "    border-bottom: 8px solid darkblue !important;\n",
    "    padding-bottom: 8px;\n",
    "}\n",
    "h3 {\n",
    "    border-bottom: 2px solid darkblue !important;\n",
    "    padding-bottom: 6px;\n",
    "}\n",
    ".info, .success, .warning, .error {\n",
    "    border: 1px solid;\n",
    "    margin: 10px 0px;\n",
    "    padding:15px 10px;\n",
    "}\n",
    ".info {\n",
    "    color: #00529b;\n",
    "    background-color: #bde5f8;\n",
    "}\n",
    ".success {\n",
    "    color: #4f8a10;\n",
    "    background-color: #dff2bf;\n",
    "}\n",
    ".warning {\n",
    "    color: #9f6000;\n",
    "    background-color: #FEEFB3;\n",
    "}\n",
    ".error {\n",
    "    color: #D8000C;\n",
    "    background-color: #FFBABA;\n",
    "}\n",
    ".language-bash {\n",
    "    font-weight: 900;\n",
    "}\n",
    ".ex {\n",
    "    font-weight: 900;\n",
    "    color: rgba(27,27,255,0.87) !important;\n",
    "}\n",
    ".mn {\n",
    "    font-family: Menlo, Consolas, \"DejaVu Sans Mono\", monospace\n",
    "}\n",
    "table {\n",
    "    margin-left: 0 !important;}\n",
    "</style>"
   ]
  },
  {
   "cell_type": "markdown",
   "metadata": {},
   "source": [
    "# Day 3: Up and Running with Python"
   ]
  },
  {
   "cell_type": "markdown",
   "metadata": {},
   "source": [
    "## 3.3 Netmiko"
   ]
  },
  {
   "cell_type": "markdown",
   "metadata": {},
   "source": [
    "-   Most modern network devices support REST APIs but there are still many legacy network devices that could not be replaced easily.  Network engineers have to use CLI via SSH, telnet or serial interfaces to connect to those devices.  Netmiko is an open source library to automatate interface via CLI, telnet or serial[<sup>1</sup>](#fn1) to those devices.\n",
    "\n",
    "-   Netmiko is a multi-vendor network automation library for Python.\n",
    "-   It support SSH (via Paramiko library) and Telnet connection\n",
    "-   It provides the following features:\n",
    "    -   Establish SSH/Telnet connection to network device(s)\n",
    "    -   Establish SSH connection via proxy SSH server\n",
    "    -   Execution of show commands and retrieval of output data\n",
    "    -   Execution of configuration commands\n",
    "    \n",
    "<span id=\"fn1\">**1**:</span> Telnet and serial are not available in some more popular network devices.\n",
    "    \n",
    "### Installation\n",
    "\n",
    "```bash\n",
    "pip install netmiko\n",
    "python -c \"import netmiko; print(netmiko.__version__)\"\n",
    "```"
   ]
  },
  {
   "cell_type": "code",
   "execution_count": null,
   "metadata": {},
   "outputs": [],
   "source": [
    "!python -c \"import netmiko; print(netmiko.__version__)\""
   ]
  },
  {
   "cell_type": "code",
   "execution_count": null,
   "metadata": {},
   "outputs": [],
   "source": [
    "import netmiko\n",
    "\n",
    "netmiko.Netmiko??"
   ]
  },
  {
   "cell_type": "code",
   "execution_count": null,
   "metadata": {},
   "outputs": [],
   "source": [
    "netmiko.BaseConnection??"
   ]
  },
  {
   "cell_type": "markdown",
   "metadata": {},
   "source": [
    "### Documentation\n",
    "\n",
    "-   There are many parameters and new ones may be added in the later release. We normally only need a few of them. Do read the docstring to find out more about the parameters.\n",
    "\n",
    "\n",
    "-   **`device_type`** indicates the type of network device types that Netmiko is connected to.\n",
    "    The list of supported device types are found in [`ssh_dispatcher.py`](https://github.com/ktbyers/netmiko/blob/e4669fa7b73660c1ecb2874ee2f66c71cf840691/netmiko/ssh_dispatcher.py).\n",
    "    -   Common device types supporting ssh login include:\n",
    "        -   `arista_eos`\n",
    "        -   `cisco_saos`, `cisco_asa`, `cisco_ios`, `cisco_nxos`, `cisco_s300`, `cisco_tp`, `cisco_tp`, `cisco_wlc`, `cisco_xe`, `cisco_xr`\n",
    "        -   `f5_ltm`, `f5_tmsh`, `f5_linux`\n",
    "        -   `fortinet`\n",
    "        -   `hp_comware`, `hp_procurve`\n",
    "        -   `huawei`, `huawei_vrpv8`,\n",
    "        -   `juniper`, `juniper_junos`\n",
    "    -   Common device types supporting file transfer include:\n",
    "        -   `arista_eos`\n",
    "        -   `cisco_asa`, `cisco_ios`, `cisco_nxos`, `cisco_xe`, `cisco_xr`\n",
    "        -   `juniper_junos`\n",
    "        -   `linux`\n",
    "    -   Common device types supporting telnet include:\n",
    "        -   `apresia_aeos_telnet`\n",
    "        -   `arista_eos_telnet`\n",
    "        -   `cisco_ios_telnet`\n",
    "        -   `hp_procurve_telnet`, `hp_comware_telnet`\n",
    "        -   `juniper_junos_telnet`\n",
    "        -   `huawei_telnet`\n",
    "    -   Common device types supporting serial include:\n",
    "        -   `cisco_ios_serial`\n",
    "    -   Common device types supporting ssh terminal server include:\n",
    "        -   `terminal_server`\n",
    "        -   `autodetect`"
   ]
  },
  {
   "cell_type": "markdown",
   "metadata": {},
   "source": [
    "<span class=\"ex\">Example: <span class='mn'>send_command()</span></span>"
   ]
  },
  {
   "cell_type": "code",
   "execution_count": null,
   "metadata": {},
   "outputs": [],
   "source": [
    "from netmiko import Netmiko\n",
    "from getpass import getpass\n",
    "\n",
    "device = Netmiko(\n",
    "    #ip=input('Enter IP address: '),  # 192.168.99.3\n",
    "    ip='192.168.88.3',\n",
    "    username='admin',\n",
    "    #password=getpass('Password: '),  # cisco\n",
    "    password='cisco',\n",
    "    device_type='cisco_ios',\n",
    "    verbose=True,\n",
    "    secret='cisco'\n",
    ")\n",
    "\n",
    "output = device.send_command(\"show ip int brief\")\n",
    "print(output)"
   ]
  },
  {
   "cell_type": "markdown",
   "metadata": {},
   "source": [
    "**Available commands from device**"
   ]
  },
  {
   "cell_type": "code",
   "execution_count": null,
   "metadata": {},
   "outputs": [],
   "source": [
    "print(dir(device))"
   ]
  },
  {
   "cell_type": "markdown",
   "metadata": {},
   "source": [
    "### Unexpected Command Prompt"
   ]
  },
  {
   "cell_type": "markdown",
   "metadata": {},
   "source": [
    "The above command works because the command prompt after execution of the command is expected.\n",
    "\n",
    "However, when the command asks for input or generate other non-expected text, the missing \"expected-prompt\" will cause the function `send_command()` fails.\n",
    "\n",
    "For example, if we executes the following command via `send_command()`:\n",
    "\n",
    "<pre>\n",
    "<span class='ex'>copy flash:/c880data-universalk9-mz.154-2.T1.bin flash:/test1.bin</span>\n",
    "</pre>\n",
    "\n",
    "The output of this command looks as follows (on the router's CLI):\n",
    "\n",
    "<pre>\n",
    "<span class='ex'>\n",
    "# copy flash:/c880data-universalk9-mz.154-2.T1.bin flash:/test1.bin\n",
    "Destination filename [test1.bin]? \n",
    "Copy in progress...CCCCCCCCCCCCCCCCCCCC\n",
    "...   [large number of C's omitted]\n",
    "CCCCCCCCCCCCCCCCCCCCCCCCCCCCCCCCCCCCCCCCC\n",
    "42628912 bytes copied in 143.676 secs (296702 bytes/sec)\n",
    "</span>\n",
    "</pre>\n",
    "\n",
    "In this case, we could use the `'expect_string'` argument to `send_command()`, which tells Netmiko what to look for in the output."
   ]
  },
  {
   "cell_type": "markdown",
   "metadata": {},
   "source": [
    "<span class='ex'>Example: Use <span class='mn'>expect_string</span> to end expected command completion</span>"
   ]
  },
  {
   "cell_type": "code",
   "execution_count": null,
   "metadata": {},
   "outputs": [],
   "source": [
    "from netmiko import Netmiko\n",
    "from getpass import getpass\n",
    "\n",
    "device = Netmiko(\n",
    "    #ip=input('Enter IP address: '),  # 192.168.99.2\n",
    "    ip='192.168.88.3',\n",
    "    username='admin',\n",
    "    password='cisco',\n",
    "    device_type='cisco_ios',\n",
    "    verbose=True,\n",
    "    secret='cisco'\n",
    ")\n",
    "device.enable()\n",
    "\n",
    "cmd = 'copy flash:/c880data-universalk9-mz.154-2.T1.bin flash:/test1.bin'\n",
    "\n",
    "output = device.send_command(\n",
    "    cmd,\n",
    "    expect_string=r'Destination filename' \n",
    "    # Remote expects input from users via this prompt\n",
    ")\n",
    "try:\n",
    "    output += device.send_command('\\n', expect_string=r'#')\n",
    "except:\n",
    "    pass\n",
    "finally:\n",
    "    device.disconnect()\n",
    "    print(output)"
   ]
  },
  {
   "cell_type": "markdown",
   "metadata": {},
   "source": [
    "### Longer Command Response Time\n",
    "\n",
    "-   Some commands may take longer to return. We could use `delay_factor` to let Netmiko to wait longer.\n",
    "\n",
    "\n",
    "-   `delay_factor` is an argument to `send_command()`, which multiple existing timeout."
   ]
  },
  {
   "cell_type": "markdown",
   "metadata": {},
   "source": [
    "<span class='ex'>Example: Use <span class='mn'>delay_factor</span> to increase command response time</span>"
   ]
  },
  {
   "cell_type": "code",
   "execution_count": null,
   "metadata": {},
   "outputs": [],
   "source": [
    "from netmiko import Netmiko\n",
    "from getpass import getpass\n",
    "\n",
    "device = Netmiko(\n",
    "    ip='192.168.88.3',\n",
    "    username='admin',\n",
    "    password='cisco',\n",
    "    device_type='cisco_ios',\n",
    "    verbose=False,\n",
    "    secret='class'\n",
    ")\n",
    "\n",
    "output = device.send_command(\n",
    "    \"show ip int brief\",\n",
    "    delay_factor=2\n",
    ")\n",
    "device.disconnect()\n",
    "print(output)"
   ]
  },
  {
   "cell_type": "markdown",
   "metadata": {},
   "source": [
    "-   We could also use `global_delay_factor` which multiple **ALL** timeout."
   ]
  },
  {
   "cell_type": "markdown",
   "metadata": {},
   "source": [
    "<span class='ex'>Example: Use <span class='mn'>global_delay_factor</span> to increase all response time</span>"
   ]
  },
  {
   "cell_type": "code",
   "execution_count": null,
   "metadata": {},
   "outputs": [],
   "source": [
    "from netmiko import Netmiko\n",
    "from getpass import getpass\n",
    "\n",
    "device = Netmiko(\n",
    "    #ip=input('Enter IP address: '),  # 192.168.99.2\n",
    "    ip='192.168.88.3',\n",
    "    username='admin',\n",
    "    password='cisco',\n",
    "    device_type='cisco_ios',\n",
    "    verbose=False,\n",
    "    secret='cisco',\n",
    "    global_delay_factor=2\n",
    ")\n",
    "device.enable()\n",
    "\n",
    "output = device.send_command(\"show run\")\n",
    "device.disconnect()\n",
    "print(output)"
   ]
  },
  {
   "cell_type": "markdown",
   "metadata": {},
   "source": [
    "<span class='ex'>Example: Save command output to file</span>"
   ]
  },
  {
   "cell_type": "code",
   "execution_count": null,
   "metadata": {},
   "outputs": [],
   "source": [
    "from netmiko import Netmiko\n",
    "from getpass import getpass\n",
    "\n",
    "outputfile = 'cisco.log'\n",
    "\n",
    "device = Netmiko(\n",
    "    #ip=input('Enter IP address: '),  # 192.168.99.2\n",
    "    ip='192.168.88.3',\n",
    "    username='admin',\n",
    "    password='cisco',\n",
    "    device_type='cisco_ios',\n",
    "    secret='cisco',                  # privilege password\n",
    "    verbose=False,\n",
    "    global_delay_factor=1,\n",
    ")\n",
    "\n",
    "cmds = [\n",
    "    'show run',\n",
    "    'show int',\n",
    "    'show ip int'\n",
    "]\n",
    "\n",
    "with open(outputfile, 'w') as f:\n",
    "    for cmd in cmds:\n",
    "        f.write(device.send_command(cmd))\n",
    "\n",
    "device.disconnect()"
   ]
  },
  {
   "cell_type": "markdown",
   "metadata": {},
   "source": [
    "<span class='ex'>Example: Use <span class='mn'>send_config_set()</span> to send configuration commands</span>"
   ]
  },
  {
   "cell_type": "code",
   "execution_count": null,
   "metadata": {},
   "outputs": [],
   "source": [
    "from netmiko import Netmiko\n",
    "from getpass import getpass\n",
    "\n",
    "outputfile = 'cisco.log'\n",
    "\n",
    "device = Netmiko(\n",
    "    #ip=input('Enter IP address: '),  # 192.168.99.2\n",
    "    ip='192.168.88.3',\n",
    "    username='admin',\n",
    "    password='cisco',\n",
    "    device_type='cisco_ios',\n",
    "    secret='cisco',                  # privilege password\n",
    "    verbose=True,\n",
    "    global_delay_factor=1,\n",
    ")\n",
    "device.enable()\n",
    "\n",
    "cfg_commands = [\n",
    "    'no logging console',              # Disable console logging\n",
    "    'logging buffered 64000',          # Configure 64 kb logging buffer\n",
    "    'logging buffered informational',  # Access-list violation logging    \n",
    "]\n",
    "\n",
    "output = device.send_config_set(cfg_commands)\n",
    "\n",
    "device.disconnect()\n",
    "\n",
    "with open(outputfile, 'w') as f:\n",
    "    f.write(output)"
   ]
  },
  {
   "cell_type": "markdown",
   "metadata": {},
   "source": [
    "<span class='ex'>Example: Use <span class='mn'>send_config_from_file()</span> to send configuration commands from file</span>"
   ]
  },
  {
   "cell_type": "code",
   "execution_count": null,
   "metadata": {},
   "outputs": [],
   "source": [
    "%%file ./console_logging.txt\n",
    "logging buffered 8000\n",
    "logging console"
   ]
  },
  {
   "cell_type": "code",
   "execution_count": null,
   "metadata": {},
   "outputs": [],
   "source": [
    "from netmiko import Netmiko\n",
    "from getpass import getpass\n",
    "\n",
    "output = 'cisco.log'\n",
    "config = 'console_logging.txt'\n",
    "\n",
    "devcfg = {\n",
    "    'ip'                 : input('Enter IP address: '),  # 192.168.99.3\n",
    "    'username'           : 'admin',\n",
    "    'password'           : getpass(),\n",
    "    'device_type'        : 'cisco_ios',\n",
    "    'secret'             : 'class',\n",
    "    'verbose'            : False,\n",
    "    'global_delay_factor': 1\n",
    "}\n",
    "\n",
    "device = Netmiko(**devcfg)\n",
    "device.enable()\n",
    "\n",
    "cfg_commands = {\n",
    "    'no logging console',              # Disable console logging\n",
    "    'logging buffered 64000',          # Configure 64 kb logging buffer\n",
    "    'logging buffered informational',  # Access-list violation logging    \n",
    "}\n",
    "\n",
    "output = device.send_config_from_file(config)\n",
    "\n",
    "device.disconnect()\n",
    "\n",
    "with open(outputfile, 'w') as f:\n",
    "    f.write(output)"
   ]
  },
  {
   "cell_type": "markdown",
   "metadata": {},
   "source": [
    "## netmiko_tools\n",
    "\n",
    "-   The author of netmiko has written [3 scripts](\n",
    "https://github.com/ktbyers/netmiko_tools/tree/master/netmiko_tools) to faclitate common network automation commands, without writing any Python code:\n",
    "\n",
    "    1.  `netmiko-show`\n",
    "    1.  `netmiko-grep`\n",
    "    1.  `netmiko-cfg`\n",
    "\n",
    "-   These scripts uses GNU grep.  You may download a Windows binary from [here](http://gnuwin32.sourceforge.net/packages/grep.htm).  *You may want to use a virus scanner to scan for virus or trojan house in these binaries. I normally use [Virus Total].(https://www.virustotal.com/#/home/upload)*\n",
    "\n",
    "\n",
    "-   You may modify these scripts to refer to a local copy of `./grep.exe`\n",
    "\n",
    "```Bash\n",
    "GREP = '/bin/grep'\n",
    "if os.name == 'nt':\n",
    "    GREP = r'C:\\MyLesson\\NAWP\\netmiko_tools\\grep.exe'\n",
    "elif not os.path.exists(GREP):\n",
    "    GREP = '/usr/bin/grep'\n",
    "NETMIKO_BASE_DIR = '~/.netmiko'\n",
    "ERROR_PATTERN = \"%%%failed%%%\"\n",
    "__version__ = '0.1.0'\n",
    "```\n",
    "\n",
    "\n",
    "-   A working copy of grep.exe, scripts may be available inside `.\\netmiko_tools`.\n",
    "\n",
    "\n",
    "-   These scripts will look for `.netmiko.yml` in the current directory or user's home directory for network devices.\n",
    "\n",
    "\n",
    "-   A sample of `.netmiko.yml` is shown below."
   ]
  },
  {
   "cell_type": "code",
   "execution_count": null,
   "metadata": {},
   "outputs": [],
   "source": [
    "%%file .netmiko.yml\n",
    "---\n",
    "# Device connection information\n",
    "web01:\n",
    "    ip         : 192.168.99.2\n",
    "    username   : admin\n",
    "    password   : class\n",
    "    device_type: cisco_ios\n",
    "    secret     : class\n",
    "\n",
    "web02:\n",
    "    ip         : 192.168.99.3\n",
    "    username   : admin\n",
    "    password   : class\n",
    "    device_type: cisco_ios\n",
    "    secret     : class\n",
    "\n",
    "web03:\n",
    "    ip         : 192.168.99.4\n",
    "    username   : admin\n",
    "    password   : class\n",
    "    device_type: cisco_ios\n",
    "    secret     : class\n",
    "        \n",
    "# Lists of groups of devices:\n",
    "cisco:\n",
    "    - web01\n",
    "    - web02\n",
    "\n",
    "san:\n",
    "    - web02\n",
    "    - web03\n",
    "    \n",
    "all:\n",
    "    - web01\n",
    "    - web02\n",
    "    - web03"
   ]
  },
  {
   "cell_type": "markdown",
   "metadata": {},
   "source": [
    "<span class='ex'>Example: <span class='mn'>netmiko-show.py</span></span>"
   ]
  },
  {
   "cell_type": "code",
   "execution_count": null,
   "metadata": {},
   "outputs": [],
   "source": [
    "!python ./netmiko_tools/netmiko-show.py --cmd \"sh ver\" cisco"
   ]
  },
  {
   "cell_type": "code",
   "execution_count": null,
   "metadata": {},
   "outputs": [],
   "source": [
    "!python ./netmiko_tools/netmiko-show.py --cmd \"sh ver\" web02"
   ]
  },
  {
   "cell_type": "code",
   "execution_count": null,
   "metadata": {},
   "outputs": [],
   "source": [
    "!python ./netmiko_tools/netmiko-grep.py --cmd \"sh ip int\" \"administratively down\" web02"
   ]
  },
  {
   "cell_type": "code",
   "execution_count": null,
   "metadata": {},
   "outputs": [],
   "source": [
    "!python ./netmiko_tools/netmiko-cfg.py --cmd \"logging buffered 64000\" web02"
   ]
  }
 ],
 "metadata": {
  "kernelspec": {
   "display_name": "Python 3",
   "language": "python",
   "name": "python3"
  },
  "language_info": {
   "codemirror_mode": {
    "name": "ipython",
    "version": 3
   },
   "file_extension": ".py",
   "mimetype": "text/x-python",
   "name": "python",
   "nbconvert_exporter": "python",
   "pygments_lexer": "ipython3",
   "version": "3.7.6"
  }
 },
 "nbformat": 4,
 "nbformat_minor": 4
}
