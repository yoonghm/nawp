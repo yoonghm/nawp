{
 "cells": [
  {
   "cell_type": "code",
   "execution_count": 1,
   "metadata": {
    "slideshow": {
     "slide_type": "skip"
    }
   },
   "outputs": [
    {
     "data": {
      "text/html": [
       "<style>\n",
       "h1, h2, h3, h4, h5 {\n",
       "    color: darkblue;\n",
       "    font-weight: bold !important;\n",
       "}\n",
       "h2 {\n",
       "    border-bottom: 8px solid darkblue !important;\n",
       "    padding-bottom: 8px;\n",
       "}\n",
       "h3 {\n",
       "    border-bottom: 2px solid darkblue !important;\n",
       "    padding-bottom: 6px;\n",
       "}\n",
       ".info, .success, .warning, .error {\n",
       "    border: 1px solid;\n",
       "    margin: 10px 0px;\n",
       "    padding:15px 10px;\n",
       "}\n",
       ".info {\n",
       "    color: #00529b;\n",
       "    background-color: #bde5f8;\n",
       "}\n",
       ".success {\n",
       "    color: #4f8a10;\n",
       "    background-color: #dff2bf;\n",
       "}\n",
       ".warning {\n",
       "    color: #9f6000;\n",
       "    background-color: #FEEFB3;\n",
       "}\n",
       ".error {\n",
       "    color: #D8000C;\n",
       "    background-color: #FFBABA;\n",
       "}\n",
       ".language-bash {\n",
       "    font-weight: 900;\n",
       "}\n",
       ".ex {\n",
       "    font-weight: 900;\n",
       "    color: rgba(27,27,255,0.87) !important;\n",
       "}\n",
       ".mn {\n",
       "    font-family: Menlo, Consolas, \"DejaVu Sans Mono\", monospace\n",
       "}\n",
       "table {\n",
       "    margin-left: 0 !important;}\n",
       "</style>\n"
      ],
      "text/plain": [
       "<IPython.core.display.HTML object>"
      ]
     },
     "metadata": {},
     "output_type": "display_data"
    }
   ],
   "source": [
    "%%html\n",
    "<style>\n",
    "h1, h2, h3, h4, h5 {\n",
    "    color: darkblue;\n",
    "    font-weight: bold !important;\n",
    "}\n",
    "h2 {\n",
    "    border-bottom: 8px solid darkblue !important;\n",
    "    padding-bottom: 8px;\n",
    "}\n",
    "h3 {\n",
    "    border-bottom: 2px solid darkblue !important;\n",
    "    padding-bottom: 6px;\n",
    "}\n",
    ".info, .success, .warning, .error {\n",
    "    border: 1px solid;\n",
    "    margin: 10px 0px;\n",
    "    padding:15px 10px;\n",
    "}\n",
    ".info {\n",
    "    color: #00529b;\n",
    "    background-color: #bde5f8;\n",
    "}\n",
    ".success {\n",
    "    color: #4f8a10;\n",
    "    background-color: #dff2bf;\n",
    "}\n",
    ".warning {\n",
    "    color: #9f6000;\n",
    "    background-color: #FEEFB3;\n",
    "}\n",
    ".error {\n",
    "    color: #D8000C;\n",
    "    background-color: #FFBABA;\n",
    "}\n",
    ".language-bash {\n",
    "    font-weight: 900;\n",
    "}\n",
    ".ex {\n",
    "    font-weight: 900;\n",
    "    color: rgba(27,27,255,0.87) !important;\n",
    "}\n",
    ".mn {\n",
    "    font-family: Menlo, Consolas, \"DejaVu Sans Mono\", monospace\n",
    "}\n",
    "table {\n",
    "    margin-left: 0 !important;}\n",
    "</style>"
   ]
  },
  {
   "cell_type": "markdown",
   "metadata": {},
   "source": [
    "# Day 2: Up and Running with Python"
   ]
  },
  {
   "cell_type": "markdown",
   "metadata": {},
   "source": [
    "## 2.3 Dictionary and Set"
   ]
  },
  {
   "cell_type": "markdown",
   "metadata": {},
   "source": [
    "### Dictionary\n",
    "\n",
    "-   A dictionary keeps key-value pairs\n",
    "\n",
    "\n",
    "-   We use key to look up value\n",
    "\n",
    "\n",
    "-   All the keys in a dictionary must be unique\n",
    "\n",
    "\n",
    "-   Since Python 3.6, the insertion order of key-value pairs into a dictionary is always perserved\n",
    "\n",
    "\n",
    "-   Consider that we have two corresponding lists: \n",
    "```Python\n",
    "alphas = ['a', 'b', 'c']\n",
    "fruits = ['apple', 'banana', 'carrot']\n",
    "```   \n",
    "    \n",
    "    \n",
    "    We want to find an item in list `fruits` by a given item in `alphas`.  \n",
    "    Let's say we are given the value `'b'` and we would like to find the corresponding value in `fruits`:\n",
    "    \n",
    "```Python\n",
    "fruit = fruits[alpha.index('b')]\n",
    "```\n",
    "\n",
    "    Dictionary allows us to this efficiently."
   ]
  },
  {
   "cell_type": "markdown",
   "metadata": {},
   "source": [
    "<span class='ex'>Example: Attributes and methods in <span class='mn'>dict</span></span>"
   ]
  },
  {
   "cell_type": "code",
   "execution_count": 1,
   "metadata": {},
   "outputs": [
    {
     "name": "stdout",
     "output_type": "stream",
     "text": [
      "['__class__', '__contains__', '__delattr__', '__delitem__', '__dir__', '__doc__', '__eq__', '__format__', '__ge__', '__getattribute__', '__getitem__', '__gt__', '__hash__', '__init__', '__init_subclass__', '__iter__', '__le__', '__len__', '__lt__', '__ne__', '__new__', '__reduce__', '__reduce_ex__', '__repr__', '__setattr__', '__setitem__', '__sizeof__', '__str__', '__subclasshook__', 'clear', 'copy', 'fromkeys', 'get', 'items', 'keys', 'pop', 'popitem', 'setdefault', 'update', 'values']\n"
     ]
    }
   ],
   "source": [
    "print(dir(dict))"
   ]
  },
  {
   "cell_type": "markdown",
   "metadata": {},
   "source": [
    "<span class='ex'>Example: Create empty dictionary</span>"
   ]
  },
  {
   "cell_type": "code",
   "execution_count": 2,
   "metadata": {},
   "outputs": [
    {
     "name": "stdout",
     "output_type": "stream",
     "text": [
      "{}\n",
      "<class 'dict'>\n",
      "{}\n",
      "<class 'dict'>\n"
     ]
    }
   ],
   "source": [
    "a = {}      # Create an empty dictionary\n",
    "print(a)\n",
    "print(type(a))\n",
    "\n",
    "a = dict()  # Create an empty dictionary\n",
    "print(a)\n",
    "print(type(a))"
   ]
  },
  {
   "cell_type": "markdown",
   "metadata": {},
   "source": [
    "<span class='ex'>Example: Merging two lists into one</span>"
   ]
  },
  {
   "cell_type": "code",
   "execution_count": 12,
   "metadata": {},
   "outputs": [
    {
     "name": "stdout",
     "output_type": "stream",
     "text": [
      "[('a', 1), ('b', 2), ('c', 3)]\n",
      "[(1, 'a'), (2, 'b'), (3, 'c')]\n"
     ]
    }
   ],
   "source": [
    "a = ['a', 'b', 'c']\n",
    "b = [1, 2, 3]\n",
    "\n",
    "c = list(zip(a, b))\n",
    "d = list(zip(b, a))\n",
    "print(c)\n",
    "print(d)"
   ]
  },
  {
   "cell_type": "markdown",
   "metadata": {},
   "source": [
    "<span class='ex'>Example: Creating dictionary from lists and tuples</span>"
   ]
  },
  {
   "cell_type": "code",
   "execution_count": 3,
   "metadata": {},
   "outputs": [
    {
     "name": "stdout",
     "output_type": "stream",
     "text": [
      "{'a': 1, 'b': 2, 'c': 3}\n",
      "{1: 'a', 2: 'b', 3: 'c'}\n",
      "{'a': 'apple', 'b': 'banana'}\n",
      "{'a': 'apple', 'b': 'banana'}\n"
     ]
    }
   ],
   "source": [
    "# Create a dictionary from list of lists\n",
    "a = dict(\n",
    "    [['a', 1],\n",
    "     ['b', 2],\n",
    "     ['c', 3]\n",
    "    ]\n",
    ")  \n",
    "print(a)\n",
    "\n",
    "# Create a dictionary from tuple of tuples\n",
    "a = dict(\n",
    "    ((1, 'a'),\n",
    "     (2, 'b'),\n",
    "     (3, 'c')\n",
    "    )\n",
    ")  \n",
    "print(a)\n",
    "\n",
    "# Create a dictionary from list of tuples\n",
    "a = dict(\n",
    "    [('a', 'apple'),\n",
    "     ('b', 'banana')\n",
    "    ]\n",
    ")\n",
    "print(a)\n",
    "\n",
    "# Create a dictionary from tuple of lists\n",
    "d = dict(\n",
    "    ([1.1, 'float'],\n",
    "     [2, 'int']\n",
    "    )\n",
    ")\n",
    "print(a)"
   ]
  },
  {
   "cell_type": "markdown",
   "metadata": {},
   "source": [
    "<span class='ex'>Example: Keys in a dictionary must be unique</span>"
   ]
  },
  {
   "cell_type": "code",
   "execution_count": 7,
   "metadata": {},
   "outputs": [
    {
     "name": "stdout",
     "output_type": "stream",
     "text": [
      "{'a': 2}\n"
     ]
    }
   ],
   "source": [
    "# The second tuple overrides the first tuple\n",
    "a = dict(\n",
    "    (('a',1),\n",
    "     ('a',2)\n",
    "    )\n",
    ")\n",
    "print(a)"
   ]
  },
  {
   "cell_type": "markdown",
   "metadata": {},
   "source": [
    "<span class='ex'>Example: <span class='mn'>dict.keys()</span>, <span class='mn'>dict.values()</span> and <span class='mn'>dict.items()</span></span>"
   ]
  },
  {
   "cell_type": "code",
   "execution_count": 8,
   "metadata": {},
   "outputs": [
    {
     "name": "stdout",
     "output_type": "stream",
     "text": [
      "key = a\n",
      "key = b\n",
      "key = c\n",
      "\n",
      "\n",
      "value = apple\n",
      "value = banana\n",
      "value = carrot\n",
      "\n",
      "\n",
      "a -> apple\n",
      "b -> banana\n",
      "c -> carrot\n",
      "\n",
      "\n"
     ]
    }
   ],
   "source": [
    "a = dict(\n",
    "    [('a', 'apple'),\n",
    "     ('b', 'banana'),\n",
    "     ('c', 'carrot')\n",
    "    ]\n",
    ")\n",
    "\n",
    "for k in a.keys():\n",
    "    print(f'key = {k}')\n",
    "print('\\n')\n",
    "\n",
    "for v in a.values():\n",
    "    print(f'value = {v}')\n",
    "print('\\n')\n",
    "\n",
    "for k, v in a.items():\n",
    "    print(f'{k} -> {v}')\n",
    "print('\\n')\n"
   ]
  },
  {
   "cell_type": "markdown",
   "metadata": {},
   "source": [
    "<span class='ex'>Example: Update values in a dictionary</span>"
   ]
  },
  {
   "cell_type": "code",
   "execution_count": 9,
   "metadata": {},
   "outputs": [
    {
     "name": "stdout",
     "output_type": "stream",
     "text": [
      "a -> apricot\n",
      "b -> banana\n",
      "c -> cherry\n",
      "e -> eggfruit\n",
      "d -> durian\n"
     ]
    }
   ],
   "source": [
    "a = dict(\n",
    "    [('a', 'apple'),\n",
    "     ('b', 'banana'),\n",
    "     ('c', 'carrot')\n",
    "    ]\n",
    ")\n",
    "\n",
    "a['a'] = 'apricot'              # Explicitly set value for an existing key\n",
    "a.setdefault('b', 'blueberry')  # Create a key-value pair if it is not present - no effect\n",
    "a.setdefault('e', 'eggfruit')   # Create a key-value pair if it is not present\n",
    "a.update({'c': 'cherry'})       # Set value for key 'c' which is present - no effect\n",
    "a.update({'d': 'durian'})       # Set value for key 'd' which is absent\n",
    "\n",
    "for k, v in a.items():\n",
    "    print(f'{k} -> {v}')"
   ]
  },
  {
   "cell_type": "markdown",
   "metadata": {},
   "source": [
    "<span class='ex'>Example: Use <span class='mn'>dict.fromkeys()</span> to create dictionary from keys using the same value</span>"
   ]
  },
  {
   "cell_type": "code",
   "execution_count": 10,
   "metadata": {},
   "outputs": [
    {
     "name": "stdout",
     "output_type": "stream",
     "text": [
      "Mary -> {'father': '9111-1111', 'mother': '9222-222'}, id(v)=1848735247000\n",
      "John -> {'father': '9111-1111', 'mother': '9222-222'}, id(v)=1848735247000\n",
      "\n",
      "\n",
      "Mary -> {'father': '8888-8888', 'mother': '9222-222'}\n",
      "John -> {'father': '8888-8888', 'mother': '9222-222'}\n"
     ]
    }
   ],
   "source": [
    "parent_mobile = dict.fromkeys(\n",
    "    ['Mary', 'John'],       # Keys in a list\n",
    "    {'father':'9111-1111',  # Value, happened to be a dict               \n",
    "     'mother':'9222-222'\n",
    "    }\n",
    ") \n",
    "\n",
    "for k,v in parent_mobile.items():\n",
    "    print(f'{k} -> {v}, id(v)={id(v)}')\n",
    "\n",
    "# Just change father's mobile number for Mary\n",
    "parent_mobile['Mary']['father'] = '8888-8888'\n",
    "\n",
    "print('\\n')\n",
    "for k,v in parent_mobile.items():\n",
    "    print(f'{k} -> {v}')"
   ]
  },
  {
   "cell_type": "markdown",
   "metadata": {},
   "source": [
    "<span class='ex'>Example: Use dictionary comprehension to create dictionary from keys with different value</span>"
   ]
  },
  {
   "cell_type": "code",
   "execution_count": 11,
   "metadata": {},
   "outputs": [
    {
     "name": "stdout",
     "output_type": "stream",
     "text": [
      "Mary -> {'father': '', 'mother': ''}, id(v)=1848735529064\n",
      "John -> {'father': '', 'mother': ''}, id(v)=1848735529464\n",
      "\n",
      "\n",
      "Mary -> {'father': '8888-8888', 'mother': ''}\n",
      "John -> {'father': '', 'mother': ''}\n"
     ]
    }
   ],
   "source": [
    "parent_mobile = {key:{'father':'', 'mother':''} for key in ['Mary', 'John']}\n",
    "\n",
    "for k,v in parent_mobile.items():\n",
    "    print(f'{k} -> {v}, id(v)={id(v)}')\n",
    "    \n",
    "# Just change father's mobile number for Mary\n",
    "parent_mobile['Mary']['father'] = '8888-8888'\n",
    "\n",
    "print('\\n')\n",
    "for k,v in parent_mobile.items():\n",
    "    print(f'{k} -> {v}') "
   ]
  },
  {
   "cell_type": "markdown",
   "metadata": {},
   "source": [
    "<span class='ex'>Example: Use <span class='mn'>dict.get()</span> to return value of a given key</span>"
   ]
  },
  {
   "cell_type": "code",
   "execution_count": 36,
   "metadata": {},
   "outputs": [
    {
     "name": "stdout",
     "output_type": "stream",
     "text": [
      "apple\n",
      "None\n",
      "There is no fruit name starts with 'd'\n",
      "Not found.\n"
     ]
    }
   ],
   "source": [
    "a = dict(\n",
    "    [('a', 'apple'),\n",
    "     ('b', 'banana'),\n",
    "     ('c', 'carrot')\n",
    "    ]\n",
    ")\n",
    "\n",
    "print(a.get('a'))\n",
    "\n",
    "print(a.get('d'))\n",
    "\n",
    "if a.get('d') == None:\n",
    "    print('There is no fruit name starts with \\'d\\'')\n",
    "    \n",
    "print(a.get('orange', 'Not found.'))"
   ]
  },
  {
   "cell_type": "markdown",
   "metadata": {},
   "source": [
    "<span class='ex'>Example: Use <span class='mn'>dict.pop()</span> to remove and return value of a given key</span>"
   ]
  },
  {
   "cell_type": "code",
   "execution_count": 37,
   "metadata": {},
   "outputs": [
    {
     "name": "stdout",
     "output_type": "stream",
     "text": [
      "{'a': 'apple', 'b': 'banana', 'c': 'carrot'} \n",
      "\n",
      "apple\n",
      "\n",
      "{'b': 'banana', 'c': 'carrot'}\n",
      "\n"
     ]
    }
   ],
   "source": [
    "a = dict(\n",
    "    [('a', 'apple'),\n",
    "     ('b', 'banana'),\n",
    "     ('c', 'carrot')\n",
    "    ]\n",
    ")\n",
    "print(a, '\\n')\n",
    "\n",
    "t = a.pop('a')\n",
    "print(f'{t}')\n",
    "\n",
    "print(f'\\n{a}\\n')"
   ]
  },
  {
   "cell_type": "markdown",
   "metadata": {},
   "source": [
    "<span class='ex'>Example: Use <span class='mn'>dict.items()</span> to iterate tuple of key-value pair from a dictionary</span>"
   ]
  },
  {
   "cell_type": "code",
   "execution_count": 38,
   "metadata": {},
   "outputs": [
    {
     "name": "stdout",
     "output_type": "stream",
     "text": [
      "{'a': 'apple', 'b': 'banana', 'c': 'carrot'} \n",
      "\n",
      "a -> apple\n",
      "b -> banana\n",
      "c -> carrot\n",
      "\n",
      "{'a': 'apple', 'b': 'banana', 'c': 'carrot'}\n",
      "\n"
     ]
    }
   ],
   "source": [
    "a = dict(\n",
    "    [('a', 'apple'),\n",
    "     ('b', 'banana'),\n",
    "     ('c', 'carrot')\n",
    "    ]\n",
    ")\n",
    "print(a, '\\n')\n",
    "\n",
    "for k, v in a.items():\n",
    "    print(f'{k} -> {v}')\n",
    "\n",
    "print(f'\\n{a}\\n')"
   ]
  },
  {
   "cell_type": "markdown",
   "metadata": {},
   "source": [
    "<span class='ex'>Example: Use <span class='mn'>dict.popitem()</span> to remove and return the right-most key-value pair from a dictionary</span>"
   ]
  },
  {
   "cell_type": "code",
   "execution_count": 39,
   "metadata": {},
   "outputs": [
    {
     "name": "stdout",
     "output_type": "stream",
     "text": [
      "{'a': 'apple', 'b': 'banana', 'c': 'carrot'} \n",
      "\n",
      "c -> carrot\n",
      "b -> banana\n",
      "a -> apple\n",
      "\n",
      "{}\n",
      "\n"
     ]
    }
   ],
   "source": [
    "a = dict(\n",
    "    [('a', 'apple'),\n",
    "     ('b', 'banana'),\n",
    "     ('c', 'carrot')\n",
    "    ]\n",
    ")\n",
    "print(a, '\\n')\n",
    "\n",
    "while True:\n",
    "    if a:  # If dictionary a is not empty\n",
    "        k, v = a.popitem()\n",
    "        print(f'{k} -> {v}')\n",
    "    else:\n",
    "        break\n",
    "\n",
    "print(f'\\n{a}\\n')"
   ]
  },
  {
   "cell_type": "markdown",
   "metadata": {},
   "source": [
    "<span class='ex'>Example: Concatenate dictionaries using <span class='mn'>dict.update()</span> or <span class='mn'>**</span></span>"
   ]
  },
  {
   "cell_type": "code",
   "execution_count": 49,
   "metadata": {},
   "outputs": [
    {
     "name": "stdout",
     "output_type": "stream",
     "text": [
      "{'a': 'apple', 'b': 'banana', 'c': 'carrot', 'd': 'durian', 'e': 'eggfruit', 'g': 'grapes'}\n",
      "{'a': 'apple', 'b': 'banana', 'c': 'carrot', 'd': 'durian', 'e': 'eggfruit', 'g': 'grapes'}\n"
     ]
    }
   ],
   "source": [
    "fruit1 = {'a': 'apple',\n",
    "          'b': 'banana'\n",
    "         }\n",
    "\n",
    "fruit2 = {'c': 'carrot',\n",
    "          'd': 'durian'\n",
    "         }\n",
    "\n",
    "fruit3 = {'e': 'eggfruit',\n",
    "          'g': 'grapes'\n",
    "         }\n",
    "\n",
    "fruits = dict()\n",
    "for d in [fruit1, fruit2, fruit3]:\n",
    "    fruits.update(d)\n",
    "else:\n",
    "    print(fruits)\n",
    "\n",
    "# The following method cannot be done programatically\n",
    "fruits = {**fruit1, **fruit2, **fruit3}\n",
    "print(fruits)"
   ]
  },
  {
   "cell_type": "markdown",
   "metadata": {},
   "source": [
    "<span class='ex'>Example: Using <span class='mn'>**</span> as keyword argument</span>"
   ]
  },
  {
   "cell_type": "code",
   "execution_count": 57,
   "metadata": {},
   "outputs": [
    {
     "name": "stdout",
     "output_type": "stream",
     "text": [
      "a---b---c==="
     ]
    }
   ],
   "source": [
    "opt = {'sep': '---', 'end': '==='}\n",
    "print('a','b','c',**opt)"
   ]
  },
  {
   "cell_type": "markdown",
   "metadata": {},
   "source": [
    "# Exercise"
   ]
  },
  {
   "cell_type": "markdown",
   "metadata": {},
   "source": [
    "Use the following code to download the file from https://raw.githubusercontent.com/yoonghm/nawp/master/The_dumb_man.txt\n",
    "\n",
    "```Python\n",
    "import requests\n",
    "\n",
    "url = 'https://raw.githubusercontent.com/yoonghm/nawp/master/The_dumb_man.txt'\n",
    "\n",
    "data = requests.get(url).text\n",
    "print(data)\n",
    "```\n",
    "\n",
    "Write a python program to \n",
    "1.  Display the word and its number of occurrences that is used most frequently in the book\n",
    "2.  Display total number of words\n",
    "\n",
    "Please ignore all punctuation marks.\n"
   ]
  },
  {
   "cell_type": "markdown",
   "metadata": {},
   "source": [
    "### Solution"
   ]
  },
  {
   "cell_type": "code",
   "execution_count": 66,
   "metadata": {},
   "outputs": [
    {
     "name": "stdout",
     "output_type": "stream",
     "text": [
      "44 the 547\n"
     ]
    }
   ],
   "source": [
    "import requests\n",
    "\n",
    "url = 'https://raw.githubusercontent.com/yoonghm/nawp/master/The_dumb_man.txt'\n",
    "data = requests.get(url).text\n",
    "\n",
    "punctuation = ['\"', \"'\", ',', '.', '!', '-', ':', '(', ')', '[', ']']\n",
    "for p in punctuation:\n",
    "    data = data.replace(p, '')\n",
    "\n",
    "data = data.lower()  # Replace all characters to lower case\n",
    "words = data.split()  # Split the data into list of words\n",
    "freq = {}  # A dictionary to count occurrences of words\n",
    "maxcount = 0\n",
    "maxword = ''\n",
    "\n",
    "for w in words:\n",
    "    freq[w] = freq.get(w, 0) + 1\n",
    "    if freq[w] > maxcount:\n",
    "        maxcount = freq[w]\n",
    "        maxword = w\n",
    "print(maxcount, maxword, len(words))\n"
   ]
  },
  {
   "cell_type": "markdown",
   "metadata": {},
   "source": [
    "### Set"
   ]
  },
  {
   "cell_type": "markdown",
   "metadata": {},
   "source": [
    "-   A set keeps unordered unique items"
   ]
  },
  {
   "cell_type": "markdown",
   "metadata": {},
   "source": [
    "<span class='ex'>Example: Attributes and methods in <span class='mn'>set</span></span>"
   ]
  },
  {
   "cell_type": "code",
   "execution_count": 67,
   "metadata": {},
   "outputs": [
    {
     "name": "stdout",
     "output_type": "stream",
     "text": [
      "['__and__', '__class__', '__contains__', '__delattr__', '__dir__', '__doc__', '__eq__', '__format__', '__ge__', '__getattribute__', '__gt__', '__hash__', '__iand__', '__init__', '__init_subclass__', '__ior__', '__isub__', '__iter__', '__ixor__', '__le__', '__len__', '__lt__', '__ne__', '__new__', '__or__', '__rand__', '__reduce__', '__reduce_ex__', '__repr__', '__ror__', '__rsub__', '__rxor__', '__setattr__', '__sizeof__', '__str__', '__sub__', '__subclasshook__', '__xor__', 'add', 'clear', 'copy', 'difference', 'difference_update', 'discard', 'intersection', 'intersection_update', 'isdisjoint', 'issubset', 'issuperset', 'pop', 'remove', 'symmetric_difference', 'symmetric_difference_update', 'union', 'update']\n"
     ]
    }
   ],
   "source": [
    "print(dir(set))"
   ]
  },
  {
   "cell_type": "markdown",
   "metadata": {},
   "source": [
    "<span class='ex'>Example: Create empty set</span>"
   ]
  },
  {
   "cell_type": "code",
   "execution_count": 68,
   "metadata": {},
   "outputs": [
    {
     "name": "stdout",
     "output_type": "stream",
     "text": [
      "set()\n",
      "<class 'set'>\n"
     ]
    }
   ],
   "source": [
    "a = set()  # Create an empty set\n",
    "print(a)\n",
    "print(type(a))"
   ]
  },
  {
   "cell_type": "markdown",
   "metadata": {},
   "source": [
    "<span class='ex'>Example: Add items to a set</span>"
   ]
  },
  {
   "cell_type": "code",
   "execution_count": 78,
   "metadata": {},
   "outputs": [
    {
     "name": "stdout",
     "output_type": "stream",
     "text": [
      "{1, 2, 3}\n"
     ]
    }
   ],
   "source": [
    "a = set()\n",
    "\n",
    "a.add(2)\n",
    "a.add(3)\n",
    "a.add(1)\n",
    "a.add(3)\n",
    "print(a)"
   ]
  },
  {
   "cell_type": "markdown",
   "metadata": {},
   "source": [
    "<span class='ex'>Example: Union set</span>"
   ]
  },
  {
   "cell_type": "code",
   "execution_count": 79,
   "metadata": {},
   "outputs": [
    {
     "name": "stdout",
     "output_type": "stream",
     "text": [
      "{1, 2, 3, 4, 5}\n",
      "{1, 2, 3}\n"
     ]
    }
   ],
   "source": [
    "a = {1, 2, 3}\n",
    "b = {1, 4, 5}\n",
    "print(a.union(b))\n",
    "print(a)"
   ]
  },
  {
   "cell_type": "markdown",
   "metadata": {},
   "source": [
    "<span class='ex'>Example: Update a set with union of itself and others</span>"
   ]
  },
  {
   "cell_type": "code",
   "execution_count": 80,
   "metadata": {},
   "outputs": [
    {
     "name": "stdout",
     "output_type": "stream",
     "text": [
      "{1, 2, 3, 4, 5}\n"
     ]
    }
   ],
   "source": [
    "a = {1, 2, 3}\n",
    "a.update((1, 4, 5))\n",
    "print(a)"
   ]
  },
  {
   "cell_type": "markdown",
   "metadata": {},
   "source": [
    "<span class='ex'>Example: Common set</span>"
   ]
  },
  {
   "cell_type": "code",
   "execution_count": 81,
   "metadata": {},
   "outputs": [
    {
     "name": "stdout",
     "output_type": "stream",
     "text": [
      "{1}\n"
     ]
    }
   ],
   "source": [
    "a = {1, 2, 3}\n",
    "b = {1, 4, 5}\n",
    "print(a.intersection(b))"
   ]
  },
  {
   "cell_type": "markdown",
   "metadata": {},
   "source": [
    "<span class='ex'>Example: Check a set is subset of another set</span>"
   ]
  },
  {
   "cell_type": "code",
   "execution_count": 82,
   "metadata": {},
   "outputs": [
    {
     "data": {
      "text/plain": [
       "True"
      ]
     },
     "execution_count": 82,
     "metadata": {},
     "output_type": "execute_result"
    }
   ],
   "source": [
    "a = {1, 2, 3}\n",
    "{1}.issubset(a)"
   ]
  },
  {
   "cell_type": "markdown",
   "metadata": {},
   "source": [
    "# Exercise\n",
    "\n",
    "Create a program to accept input from command line. Each line consist of the following information separated by whitespaces:\n",
    "\n",
    "-  hostname\n",
    "-  ip address\n",
    "-  netmask\n",
    "-  gateway\n",
    "\n",
    "The input is terminated when `-1` is encountered.\n",
    "\n",
    "Store these records into a dictionary and print it to a console alphatically using keys of the dictionary\n",
    "\n",
    "**For example**:\n",
    "```\n",
    "web02  192.168.2.71 255.255.255.1 192.168.2.1\n",
    "san01  192.168.2.72 255.255.255.1 192.168.2.1\n",
    "dba01  192.168.2.73 255.255.255.1 192.168.2.1\n",
    "web01  192.168.2.70 255.255.255.0 192.168.2.1\n",
    "-1\n",
    "```\n",
    "\n",
    "The program prints\n",
    "```\n",
    "{\n",
    "    'dba01': {'ip':'192.168.2.73', 'netmask':'255.255.255.0', 'gateway': '192.168.2.1'},\n",
    "    'san01': {'ip':'192.168.2.72', 'netmask':'255.255.255.0', 'gateway': '192.168.2.1'}\n",
    "    'web01': {'ip':'192.168.2.70', 'netmask':'255.255.255.0', 'gateway': '192.168.2.1'},\n",
    "    'web02': {'ip':'192.168.2.71', 'netmask':'255.255.255.0', 'gateway': '192.168.2.1'}\n",
    "}\n",
    "```"
   ]
  },
  {
   "cell_type": "markdown",
   "metadata": {},
   "source": [
    "## Solution"
   ]
  },
  {
   "cell_type": "code",
   "execution_count": null,
   "metadata": {},
   "outputs": [],
   "source": []
  }
 ],
 "metadata": {
  "kernelspec": {
   "display_name": "Python 3",
   "language": "python",
   "name": "python3"
  },
  "language_info": {
   "codemirror_mode": {
    "name": "ipython",
    "version": 3
   },
   "file_extension": ".py",
   "mimetype": "text/x-python",
   "name": "python",
   "nbconvert_exporter": "python",
   "pygments_lexer": "ipython3",
   "version": "3.7.4"
  }
 },
 "nbformat": 4,
 "nbformat_minor": 4
}
