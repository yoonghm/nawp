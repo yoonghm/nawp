{
 "cells": [
  {
   "cell_type": "code",
   "execution_count": null,
   "metadata": {
    "jupyter": {
     "source_hidden": true
    },
    "slideshow": {
     "slide_type": "skip"
    }
   },
   "outputs": [],
   "source": [
    "%%html\n",
    "<style>\n",
    "h1, h2, h3, h4, h5 {\n",
    "    color: darkblue;\n",
    "    font-weight: bold !important;\n",
    "}\n",
    "h2 {\n",
    "    border-bottom: 8px solid darkblue !important;\n",
    "    padding-bottom: 8px;\n",
    "}\n",
    "h3 {\n",
    "    border-bottom: 2px solid darkblue !important;\n",
    "    padding-bottom: 6px;\n",
    "}\n",
    ".info, .success, .warning, .error {\n",
    "    border: 1px solid;\n",
    "    margin: 10px 0px;\n",
    "    padding:15px 10px;\n",
    "}\n",
    ".info {\n",
    "    color: #00529b;\n",
    "    background-color: #bde5f8;\n",
    "}\n",
    ".success {\n",
    "    color: #4f8a10;\n",
    "    background-color: #dff2bf;\n",
    "}\n",
    ".warning {\n",
    "    color: #9f6000;\n",
    "    background-color: #FEEFB3;\n",
    "}\n",
    ".error {\n",
    "    color: #D8000C;\n",
    "    background-color: #FFBABA;\n",
    "}\n",
    ".language-bash {\n",
    "    font-weight: 900;\n",
    "}\n",
    ".ex {\n",
    "    font-weight: 900;\n",
    "    color: rgba(27,27,255,0.87) !important;\n",
    "}\n",
    ".mn {\n",
    "    font-family: Menlo, Consolas, \"DejaVu Sans Mono\", monospace\n",
    "}\n",
    "table {\n",
    "    margin-left: 0 !important;}\n",
    "</style>"
   ]
  },
  {
   "cell_type": "markdown",
   "metadata": {},
   "source": [
    "# Day 2: Up and Running with Python"
   ]
  },
  {
   "cell_type": "markdown",
   "metadata": {},
   "source": [
    "## 2.4 Iterables, Comprehension and Generator Expression"
   ]
  },
  {
   "cell_type": "markdown",
   "metadata": {},
   "source": [
    "### Iterables\n",
    "\n",
    "-   An iterable is an object that \n",
    "    -   has an `__iter__()` method which returns an iterator, or\n",
    "    -   has a `__getitem__()` method that can take sequential indexes starting from zero (and raises an `IndexError` when the indexes are no longer valid). \n",
    "\n",
    "\n",
    "-   Whenever we use a `for...in` loop, a `map()` or a list comprehension, the `__next__()` method is called automatically to get each item from the iterator.\n",
    "\n",
    "\n",
    "-   List, tuple and dictionary are iterable.\n",
    "\n",
    "\n",
    "-   Set is iterable but it does not support selection via index as it does not have `__getitem__()`.\n",
    "\n",
    "\n",
    "-   A comprehension is a short and concise way to construct new sequences (list, tuple, set, dictionary) using sequences which have been already defined:\n",
    "    -   A **list comprehension** transforms any iterable into a new list\n",
    "    -   A **tuple comprehension** transforms any iterable into a new tuple\n",
    "    -   A **dictionary comprehension** transforms any iterable into a new dictionary\n",
    "    -   A **set comprehension** transforms any iterable into a new set"
   ]
  },
  {
   "cell_type": "markdown",
   "metadata": {},
   "source": [
    "### Comprehension"
   ]
  },
  {
   "cell_type": "markdown",
   "metadata": {},
   "source": [
    "Comprehension means generate something. It always have the basic syntax:\n",
    "\n",
    "```Python\n",
    "for x in iterable\n",
    "```"
   ]
  },
  {
   "cell_type": "markdown",
   "metadata": {},
   "source": [
    "#### List Comprehension "
   ]
  },
  {
   "cell_type": "code",
   "execution_count": null,
   "metadata": {},
   "outputs": [],
   "source": [
    "# Generate a list consists of squares of a sequence (list)\n",
    "\n",
    "alist = [i*i for i in [1, 2, 3, 4]]\n",
    "print(alist)"
   ]
  },
  {
   "cell_type": "code",
   "execution_count": null,
   "metadata": {},
   "outputs": [],
   "source": [
    "# Generate a list consists of squares of odd values of a sequence (list)\n",
    "\n",
    "alist = [i*i for i in [1, 2, 3, 4] if i%2 == 1]\n",
    "print(alist)"
   ]
  },
  {
   "cell_type": "code",
   "execution_count": null,
   "metadata": {},
   "outputs": [],
   "source": [
    "# Generate a list consists of squares of odd values of a sequence (range)\n",
    "\n",
    "alist = [i*i for i in range(10) if i%2 == 1]\n",
    "print(alist)"
   ]
  },
  {
   "cell_type": "code",
   "execution_count": null,
   "metadata": {},
   "outputs": [],
   "source": [
    "# Generate a list from a matrix\n",
    "\n",
    "matrix = [[1, 2, 3], [4, 5, 6], [7, 8, 9]]\n",
    "alist = [i for row in matrix for i in row]\n",
    "print(alist)"
   ]
  },
  {
   "cell_type": "markdown",
   "metadata": {},
   "source": [
    "#### Tuple Comprehension "
   ]
  },
  {
   "cell_type": "code",
   "execution_count": null,
   "metadata": {},
   "outputs": [],
   "source": [
    "# Generate a tuple consists of squares of a sequence (list)\n",
    "# However, we do not really use this\n",
    "\n",
    "atuple = tuple(i*i for i in [1, 2, 3, 4])\n",
    "print(atuple)"
   ]
  },
  {
   "cell_type": "markdown",
   "metadata": {},
   "source": [
    "#### Dictionary Comprehension "
   ]
  },
  {
   "cell_type": "code",
   "execution_count": null,
   "metadata": {},
   "outputs": [],
   "source": [
    "# Generate a dictionary consists of item (from a sequence) to square\n",
    "# We use this earlier to generate different values from a list of items\n",
    "\n",
    "adict = {str(i):i*i for i in [1, 2, 3, 4]}\n",
    "print(adict)"
   ]
  },
  {
   "cell_type": "markdown",
   "metadata": {},
   "source": [
    "#### Set Comprehension"
   ]
  },
  {
   "cell_type": "code",
   "execution_count": null,
   "metadata": {},
   "outputs": [],
   "source": [
    "# Generate a set consists of to squares of a sequence (list)\n",
    "aset = {i*i for i in [1, 2, 3, 4]}\n",
    "print(aset)"
   ]
  },
  {
   "cell_type": "markdown",
   "metadata": {},
   "source": [
    "### Generator Expressions"
   ]
  },
  {
   "cell_type": "markdown",
   "metadata": {},
   "source": [
    "Generator expressions are a high-performance, memory–efficient generalization of list comprehensions and generators.\n",
    "\n",
    "A generator expression is similar to list comprehension:\n",
    "\n",
    "```Python\n",
    "listcomp = [i*i for i in range(3)]\n",
    "genexpr = (i*i for i in range(3))\n",
    "\n",
    "print(listcomp)\n",
    "print(genexpr)\n",
    "```\n",
    "```\n",
    "[0, 1, 4]\n",
    "<generator object <genexpr> at 0x00000268142E30C8>\n",
    "```\n",
    "\n",
    "Unlike list comprehensions, generator expressions don't construct list objects but generate value on demand.\n",
    "\n",
    "However, we could instruct a generator expressions to generate all values to a list of tuple by casting it with `list()` or `tuple()`."
   ]
  },
  {
   "cell_type": "code",
   "execution_count": null,
   "metadata": {},
   "outputs": [],
   "source": [
    "genexpr = (i*i for i in range(3))\n",
    "\n",
    "print(genexpr)\n",
    "\n",
    "print(next(genexpr))\n",
    "print(next(genexpr))\n",
    "print(next(genexpr))"
   ]
  },
  {
   "cell_type": "code",
   "execution_count": null,
   "metadata": {},
   "outputs": [],
   "source": [
    "# The generator expression has exhausted\n",
    "print(next(genexpr))"
   ]
  },
  {
   "cell_type": "code",
   "execution_count": null,
   "metadata": {},
   "outputs": [],
   "source": [
    "genexpr = (i*i for i in range(3))\n",
    "\n",
    "while True:\n",
    "    try:\n",
    "        print(next(genexpr))\n",
    "    except StopIteration:\n",
    "        #print('No more item in the loop')\n",
    "        #pass\n",
    "        break"
   ]
  },
  {
   "cell_type": "code",
   "execution_count": null,
   "metadata": {},
   "outputs": [],
   "source": [
    "%%timeit\n",
    "import random\n",
    "\n",
    "random.seed(12)\n",
    "\n",
    "total = 0\n",
    "for n in (random.randint(0,100) for i in range(1_000_000)):\n",
    "    total += n"
   ]
  },
  {
   "cell_type": "code",
   "execution_count": 1,
   "metadata": {},
   "outputs": [
    {
     "name": "stdout",
     "output_type": "stream",
     "text": [
      "1.12 s ± 23.2 ms per loop (mean ± std. dev. of 7 runs, 1 loop each)\n"
     ]
    }
   ],
   "source": [
    "%%timeit\n",
    "import random\n",
    "\n",
    "random.seed(12)\n",
    "\n",
    "total = 0\n",
    "randints = [random.randint(0,100) for i in range(1_000_000)]\n",
    "for n in randints:\n",
    "    total += n"
   ]
  }
 ],
 "metadata": {
  "kernelspec": {
   "display_name": "Python 3",
   "language": "python",
   "name": "python3"
  },
  "language_info": {
   "codemirror_mode": {
    "name": "ipython",
    "version": 3
   },
   "file_extension": ".py",
   "mimetype": "text/x-python",
   "name": "python",
   "nbconvert_exporter": "python",
   "pygments_lexer": "ipython3",
   "version": "3.7.4"
  }
 },
 "nbformat": 4,
 "nbformat_minor": 4
}
