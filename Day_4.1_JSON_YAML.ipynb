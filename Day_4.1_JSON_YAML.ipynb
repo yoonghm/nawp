{
 "cells": [
  {
   "cell_type": "code",
   "execution_count": 1,
   "metadata": {
    "jupyter": {
     "source_hidden": true
    },
    "slideshow": {
     "slide_type": "skip"
    }
   },
   "outputs": [
    {
     "data": {
      "text/html": [
       "<style>\n",
       "h1, h2, h3, h4, h5 {\n",
       "    color: darkblue;\n",
       "    font-weight: bold !important;\n",
       "}\n",
       "h2 {\n",
       "    border-bottom: 8px solid darkblue !important;\n",
       "    padding-bottom: 8px;\n",
       "}\n",
       "h3 {\n",
       "    border-bottom: 2px solid darkblue !important;\n",
       "    padding-bottom: 6px;\n",
       "}\n",
       ".info, .success, .warning, .error {\n",
       "    border: 1px solid;\n",
       "    margin: 10px 0px;\n",
       "    padding:15px 10px;\n",
       "}\n",
       ".info {\n",
       "    color: #00529b;\n",
       "    background-color: #bde5f8;\n",
       "}\n",
       ".success {\n",
       "    color: #4f8a10;\n",
       "    background-color: #dff2bf;\n",
       "}\n",
       ".warning {\n",
       "    color: #9f6000;\n",
       "    background-color: #FEEFB3;\n",
       "}\n",
       ".error {\n",
       "    color: #D8000C;\n",
       "    background-color: #FFBABA;\n",
       "}\n",
       ".language-bash {\n",
       "    font-weight: 900;\n",
       "}\n",
       ".ex {\n",
       "    font-weight: 900;\n",
       "    color: rgba(27,27,255,0.87) !important;\n",
       "}\n",
       ".mn {\n",
       "    font-family: Menlo, Consolas, \"DejaVu Sans Mono\", monospace\n",
       "}\n",
       "table {\n",
       "    margin-left: 0 !important;}\n",
       "</style>\n"
      ],
      "text/plain": [
       "<IPython.core.display.HTML object>"
      ]
     },
     "metadata": {},
     "output_type": "display_data"
    }
   ],
   "source": [
    "%%html\n",
    "<style>\n",
    "h1, h2, h3, h4, h5 {\n",
    "    color: darkblue;\n",
    "    font-weight: bold !important;\n",
    "}\n",
    "h2 {\n",
    "    border-bottom: 8px solid darkblue !important;\n",
    "    padding-bottom: 8px;\n",
    "}\n",
    "h3 {\n",
    "    border-bottom: 2px solid darkblue !important;\n",
    "    padding-bottom: 6px;\n",
    "}\n",
    ".info, .success, .warning, .error {\n",
    "    border: 1px solid;\n",
    "    margin: 10px 0px;\n",
    "    padding:15px 10px;\n",
    "}\n",
    ".info {\n",
    "    color: #00529b;\n",
    "    background-color: #bde5f8;\n",
    "}\n",
    ".success {\n",
    "    color: #4f8a10;\n",
    "    background-color: #dff2bf;\n",
    "}\n",
    ".warning {\n",
    "    color: #9f6000;\n",
    "    background-color: #FEEFB3;\n",
    "}\n",
    ".error {\n",
    "    color: #D8000C;\n",
    "    background-color: #FFBABA;\n",
    "}\n",
    ".language-bash {\n",
    "    font-weight: 900;\n",
    "}\n",
    ".ex {\n",
    "    font-weight: 900;\n",
    "    color: rgba(27,27,255,0.87) !important;\n",
    "}\n",
    ".mn {\n",
    "    font-family: Menlo, Consolas, \"DejaVu Sans Mono\", monospace\n",
    "}\n",
    "table {\n",
    "    margin-left: 0 !important;}\n",
    "</style>"
   ]
  },
  {
   "cell_type": "markdown",
   "metadata": {},
   "source": [
    "# 4.1 JSON and YAML"
   ]
  },
  {
   "cell_type": "markdown",
   "metadata": {},
   "source": [
    "## JSON\n",
    "\n",
    "-   JSON (JavaScript Object Notation) is a syntax for storing and exchanging data\n",
    "\n",
    "\n",
    "-   A JSON object is a **string**, written in JavaScript object notation which is similar Python dictionary\n",
    "\n",
    "\n",
    "-   The following Python objects could be converterd into JSON:\n",
    "    -   `dict`\n",
    "    -   `list`\n",
    "    -   `tuple`\n",
    "    -   `str`\n",
    "    -   `int`\n",
    "    -   `float`\n",
    "    -   `bool`\n",
    "    -   `None`"
   ]
  },
  {
   "cell_type": "markdown",
   "metadata": {},
   "source": [
    "<span class='ex'>Example: Use <span class='mn'>json.loads()</span> to convert a string in JSON format to a dictionary object</span>"
   ]
  },
  {
   "cell_type": "code",
   "execution_count": 1,
   "metadata": {},
   "outputs": [
    {
     "name": "stdout",
     "output_type": "stream",
     "text": [
      "<class 'str'>\n",
      "<class 'dict'>\n",
      "John\n",
      "30\n"
     ]
    }
   ],
   "source": [
    "import json\n",
    "\n",
    "# JSON is string data type\n",
    "str1 =  '{\"name\":\"John\", \"age\":30, \"city\"  :  \"New York\"}' # A string object\n",
    "print(type(str1))\n",
    "\n",
    "data = json.loads(str1)  # Data is a dict object\n",
    "print(type(data))\n",
    "\n",
    "print(data['name'])\n",
    "print(data['age'])"
   ]
  },
  {
   "cell_type": "markdown",
   "metadata": {},
   "source": [
    "<span class='ex'>Example: Use <span class='mn'>json.load()</span> to convert a text file with JSON string to a dictionary object</span>"
   ]
  },
  {
   "cell_type": "code",
   "execution_count": 2,
   "metadata": {},
   "outputs": [
    {
     "name": "stdout",
     "output_type": "stream",
     "text": [
      "Writing json.txt\n"
     ]
    }
   ],
   "source": [
    "%%file json.txt\n",
    "{\"name\":\"John\", \"age\":30, \"city\"  :  \"New York\"}"
   ]
  },
  {
   "cell_type": "code",
   "execution_count": 4,
   "metadata": {},
   "outputs": [
    {
     "name": "stdout",
     "output_type": "stream",
     "text": [
      "<class 'dict'>\n",
      "John\n",
      "30\n"
     ]
    }
   ],
   "source": [
    "import json\n",
    "\n",
    "with open('json.txt') as f:\n",
    "    data = json.load(f)\n",
    "    \n",
    "print(type(data))\n",
    "\n",
    "print(data['name'])\n",
    "print(data['age'])"
   ]
  },
  {
   "cell_type": "markdown",
   "metadata": {},
   "source": [
    "<span class='ex'>Example: Use <span class='mn'>json.dumps()</span> to convert a Python object into a string in JSON format</span>"
   ]
  },
  {
   "cell_type": "code",
   "execution_count": 3,
   "metadata": {},
   "outputs": [
    {
     "name": "stdout",
     "output_type": "stream",
     "text": [
      "\"hello\"\n",
      "42\n",
      "31.76\n",
      "true\n",
      "false\n",
      "null\n",
      "[1, 2, 3]\n",
      "[1, 2, 3]\n",
      "{\"age\": \"12\"}\n",
      "[{\"a\": \"apple\"}, {\"b\": \"banana\"}]\n"
     ]
    }
   ],
   "source": [
    "import json\n",
    "\n",
    "print(json.dumps(\"hello\"))     # str\n",
    "print(json.dumps(42))          # int\n",
    "print(json.dumps(31.76))       # float\n",
    "print(json.dumps(True))        # bool\n",
    "print(json.dumps(False))       # bool\n",
    "print(json.dumps(None))        # none\n",
    "print(json.dumps([1,2,3]))     # list\n",
    "print(json.dumps((1,2,3)))     # tuple\n",
    "print(json.dumps({\"age\":\"12\"})) # dictionary\n",
    "print(json.dumps([{'a': 'apple'}, {'b': 'banana'}])) # list of dictionary"
   ]
  },
  {
   "cell_type": "code",
   "execution_count": 5,
   "metadata": {},
   "outputs": [
    {
     "name": "stdout",
     "output_type": "stream",
     "text": [
      "{\"name\": \"John\", \"age\": 30, \"married\": true, \"divorced\": false, \"children\": [\"Ann\", \"Billy\"], \"pets\": null, \"cars\": [{\"model\": \"BMW 230\", \"mpg\": 27.5}, {\"model\": \"Ford Edge\", \"mpg\": 24.1}]}\n",
      "\n",
      "{\n",
      "  \"name\": \"John\",\n",
      "  \"age\": 30,\n",
      "  \"married\": true,\n",
      "  \"divorced\": false,\n",
      "  \"children\": [\n",
      "    \"Ann\",\n",
      "    \"Billy\"\n",
      "  ],\n",
      "  \"pets\": null,\n",
      "  \"cars\": [\n",
      "    {\n",
      "      \"model\": \"BMW 230\",\n",
      "      \"mpg\": 27.5\n",
      "    },\n",
      "    {\n",
      "      \"model\": \"Ford Edge\",\n",
      "      \"mpg\": 24.1\n",
      "    }\n",
      "  ]\n",
      "}\n",
      "\n",
      "{\n",
      "  \"age\": 30,\n",
      "  \"cars\": [\n",
      "    {\n",
      "      \"model\": \"BMW 230\",\n",
      "      \"mpg\": 27.5\n",
      "    },\n",
      "    {\n",
      "      \"model\": \"Ford Edge\",\n",
      "      \"mpg\": 24.1\n",
      "    }\n",
      "  ],\n",
      "  \"children\": [\n",
      "    \"Ann\",\n",
      "    \"Billy\"\n",
      "  ],\n",
      "  \"divorced\": false,\n",
      "  \"married\": true,\n",
      "  \"name\": \"John\",\n",
      "  \"pets\": null\n",
      "}\n"
     ]
    }
   ],
   "source": [
    "import json\n",
    "\n",
    "x = {\n",
    "  \"name\": \"John\",\n",
    "  \"age\": 30,\n",
    "  \"married\": True,\n",
    "  \"divorced\": False,\n",
    "  \"children\": (\"Ann\",\"Billy\"),\n",
    "  \"pets\": None,\n",
    "  \"cars\": [\n",
    "    {\"model\":    \"BMW 230\", \"mpg\": 27.5},\n",
    "    {\"model\":    \"Ford Edge\", \"mpg\": 24.1}\n",
    "  ]\n",
    "}\n",
    "\n",
    "print(json.dumps(x))\n",
    "print()\n",
    "print(json.dumps(x, indent=2))\n",
    "print()\n",
    "print(json.dumps(x, indent=2, sort_keys=True))"
   ]
  },
  {
   "cell_type": "markdown",
   "metadata": {},
   "source": [
    "<span class='ex'>Example: Use <span class='mn'>json.dump()</span> to convert a Python object to JSON file</span>"
   ]
  },
  {
   "cell_type": "code",
   "execution_count": 9,
   "metadata": {},
   "outputs": [],
   "source": [
    "import json\n",
    "\n",
    "x = {\n",
    "  \"name\": \"John\",\n",
    "  \"age\": 30,\n",
    "  \"married\": True,\n",
    "  \"divorced\": False,\n",
    "  \"children\": (\"Ann\",\"Billy\"),\n",
    "  \"pets\": None,\n",
    "  \"cars\": [\n",
    "    {\"model\": \"BMW 230\", \"mpg\": 27.5},\n",
    "    {\"model\": \"Ford Edge\", \"mpg\": 24.1}\n",
    "  ]\n",
    "}\n",
    "\n",
    "with open('json.txt', 'w') as f:\n",
    "    json.dump(x, f, indent=4, sort_keys=True)"
   ]
  },
  {
   "cell_type": "markdown",
   "metadata": {},
   "source": [
    "<span class='ex'>Example: Use custom instant method to convert an user-defined Python object to JSON file</span>"
   ]
  },
  {
   "cell_type": "code",
   "execution_count": 14,
   "metadata": {},
   "outputs": [],
   "source": [
    "class Student():\n",
    "    def __init__(self, firstname, lastname, age, gender):\n",
    "        self._firstname = firstname\n",
    "        self._lastname = lastname\n",
    "        self._age = age\n",
    "        self._gender = gender\n",
    "        self._fullname = f'{firstname} {lastname}' # We do not want save derived data\n",
    "        \n",
    "    def dumps(self):\n",
    "        return str({\n",
    "            \"firstname\" : self._firstname,\n",
    "            \"lastname\"  : self._lastname,\n",
    "            \"age\"       : self._age,\n",
    "            \"gender\"    : self._gender,\n",
    "        })\n",
    "\n",
    "a = Student('Peter', 'Pan', 400, 'Male')\n",
    "b = Student('Hermione', 'Granger', 20, 'Female')\n",
    "\n",
    "with open('json.txt', 'w') as f:\n",
    "    f.write(a.dumps())\n",
    "    \n",
    "with open('json2.txt', 'w') as f:\n",
    "    for x in [a, b]:\n",
    "        f.write(x.dumps())"
   ]
  },
  {
   "cell_type": "code",
   "execution_count": 16,
   "metadata": {},
   "outputs": [],
   "source": [
    "# %load json.txt\n",
    "{'firstname': 'Peter', 'lastname': 'Pan', 'age': 400, 'gender': 'Male', 'isMale': True}"
   ]
  },
  {
   "cell_type": "code",
   "execution_count": 13,
   "metadata": {},
   "outputs": [],
   "source": [
    "# %load json2.txt\n",
    "[{'firstname': 'Peter', 'lastname': 'Pan', 'age': 400, 'gender': 'Male'}, {'firstname': 'Hermione', 'lastname': 'Granger', 'age': 20, 'gender': 'Female'}]"
   ]
  },
  {
   "cell_type": "markdown",
   "metadata": {},
   "source": [
    "## YAML\n",
    "\n",
    "-   **YAML Ain't Markup Language** (YAML) is often called a data serialization language. It was intended to be human-readable and organize data into a structured format.\n",
    "\n",
    "\n",
    "-   YAML usually have a `*.yml` or `.yaml` extension.\n",
    "\n",
    "\n",
    "-   Programming languages that could understand the content of YAML files will map them to its built-in data types.\n",
    "\n",
    "\n",
    "-   It has similar purposes as JSON but its cleaner format making it easier to read.\n",
    "\n",
    "-   Use consistent indentation (use whitespaces instead of tabs) to group relevants items and rows\n",
    "\n",
    "\n",
    "-   Use colon (`:`) to separate a key-value as in `key`:`value`\n",
    "\n",
    "\n",
    "-   Use dash (`-`) to identify list items belonging to a key\n",
    "\n",
    "\n",
    "-   Optionally begin with `---` and end with `...`"
   ]
  },
  {
   "cell_type": "markdown",
   "metadata": {},
   "source": [
    "<span class='ex'>Example: A simple YAML file</span>"
   ]
  },
  {
   "cell_type": "code",
   "execution_count": 15,
   "metadata": {},
   "outputs": [
    {
     "name": "stdout",
     "output_type": "stream",
     "text": [
      "Writing network.yaml\n"
     ]
    }
   ],
   "source": [
    "%%file network.yaml\n",
    "---\n",
    "my_network:\n",
    "    # The order is not kept by yaml parser\n",
    "    webfe:\n",
    "        eve_port : 32773\n",
    "        device_template : vIOSL3_template.tmp\n",
    "        hostname : web01\n",
    "        mgmt_intf : gig0/0\n",
    "        mgmt_ip : 10.10.100.110\n",
    "        mgmt_subnet: 255.255.255.0\n",
    "        enabled_ports: \n",
    "            - gig0/0\n",
    "            - gig0/1\n",
    "            - gig0/2\n",
    "    \n",
    "    switch01:\n",
    "        eve_port: 32769\n",
    "        device_template: vIOSL2_template.tmp\n",
    "        hostname : sw01\n",
    "        mgmt_intf : gig0/0\n",
    "        mgmt_ip : 10.10.100.111\n",
    "        mgmt_subnet: 255.255.255.0\n",
    "\n",
    "    switch02:\n",
    "        eve_port: 32770\n",
    "        device_template: vIOSL2_template.tmp\n",
    "        hostname : sw02\n",
    "        mgmt_intf : gig0/0\n",
    "        mgmt_ip : 10.10.100.112\n",
    "        mgmt_subnet: 255.255.255.0\n",
    "..."
   ]
  },
  {
   "cell_type": "markdown",
   "metadata": {},
   "source": [
    "<span class='ex'>Example: Use <span class='mn'>yaml.safe_load()</span> to load a YAML file into a Python object</span>"
   ]
  },
  {
   "cell_type": "code",
   "execution_count": null,
   "metadata": {},
   "outputs": [],
   "source": [
    "import yaml\n",
    "import json\n",
    "from pprint import pprint\n",
    "\n",
    "with open('network.yaml') as f:\n",
    "    data = yaml.safe_load(f)\n",
    "print(type(data))\n",
    "\n",
    "for dev in data['my_network']:\n",
    "    print(dev)\n",
    "else:\n",
    "    print()\n",
    "\n",
    "print(data)  # The order of items are maintained\n",
    "print()\n",
    "\n",
    "print(json.dumps(data, indent=2))\n",
    "print()\n",
    "\n",
    "pprint(data) # pprint() does not maintain the order of the items"
   ]
  },
  {
   "cell_type": "markdown",
   "metadata": {},
   "source": [
    "## Exercise"
   ]
  },
  {
   "cell_type": "markdown",
   "metadata": {},
   "source": [
    "Read `ansible.yaml` and print out various tasks and its subtask onto the standard input.  The sample solution is\n",
    "\n",
    "```\n",
    "1.  Play Web - Create apache directories and username in web servers\n",
    "    - create username apacheadm\n",
    "    - install httpd\n",
    "\n",
    "2.  Play app - Create tomcat directories and username in app servers\n",
    "    - Create a username for tomcat\n",
    "    - create a directory for apache tomcat\n",
    "```"
   ]
  },
  {
   "cell_type": "code",
   "execution_count": 13,
   "metadata": {},
   "outputs": [
    {
     "name": "stdout",
     "output_type": "stream",
     "text": [
      "Writing ansible.yaml\n"
     ]
    }
   ],
   "source": [
    "%%file ansible.yaml\n",
    "---\n",
    "  # Play1 - WebServer related tasks\n",
    "  - name: Play Web - Create apache directories and username in web servers\n",
    "    hosts: webservers\n",
    "    become: yes\n",
    "    become_user: root\n",
    "    tasks:\n",
    "      - name: create username apacheadm\n",
    "        user:\n",
    "          name: apacheadm\n",
    "          group: users,admin\n",
    "          shell: /bin/bash\n",
    "          home: /home/weblogic\n",
    "\n",
    "      - name: install httpd\n",
    "        yum:\n",
    "          name: httpd\n",
    "          state: installed\n",
    "        \n",
    "  # Play2 - Application Server related tasks\n",
    "  - name: Play app - Create tomcat directories and username in app servers\n",
    "    hosts: appservers\n",
    "    become: yes\n",
    "    become_user: root\n",
    "    tasks:\n",
    "      - name: Create a username for tomcat\n",
    "        user:\n",
    "          name: tomcatadm\n",
    "          group: users\n",
    "          shell: /bin/bash\n",
    "          home: /home/tomcat\n",
    "\n",
    "      - name: create a directory for apache tomcat\n",
    "        file:\n",
    "          path: /opt/oracle\n",
    "          owner: tomcatadm\n",
    "          group: users\n",
    "          state: present\n",
    "          mode: 0755"
   ]
  },
  {
   "cell_type": "code",
   "execution_count": 36,
   "metadata": {},
   "outputs": [
    {
     "name": "stdout",
     "output_type": "stream",
     "text": [
      "1.  Play Web - Create apache directories and username in web servers\n",
      "    - create username apacheadm\n",
      "    - install httpd\n",
      "\n",
      "2.  Play app - Create tomcat directories and username in app servers\n",
      "    - Create a username for tomcat\n",
      "    - create a directory for apache tomcat\n",
      "\n"
     ]
    }
   ],
   "source": [
    "import yaml\n",
    "\n",
    "with open('ansible.yaml') as f:\n",
    "    data = yaml.safe_load(f)\n",
    "\n",
    "for idx, name in enumerate(data, start=1):\n",
    "    print(f'{idx}.  {name[\"name\"]}')\n",
    "    for t in name[\"tasks\"]:\n",
    "        print(f'    - {t[\"name\"]}')\n",
    "    else:\n",
    "        print()"
   ]
  }
 ],
 "metadata": {
  "kernelspec": {
   "display_name": "Python 3",
   "language": "python",
   "name": "python3"
  },
  "language_info": {
   "codemirror_mode": {
    "name": "ipython",
    "version": 3
   },
   "file_extension": ".py",
   "mimetype": "text/x-python",
   "name": "python",
   "nbconvert_exporter": "python",
   "pygments_lexer": "ipython3",
   "version": "3.7.6"
  }
 },
 "nbformat": 4,
 "nbformat_minor": 4
}
