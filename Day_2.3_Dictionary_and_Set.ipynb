{
 "cells": [
  {
   "cell_type": "code",
   "execution_count": null,
   "metadata": {
    "jupyter": {
     "source_hidden": true
    },
    "slideshow": {
     "slide_type": "skip"
    }
   },
   "outputs": [],
   "source": [
    "%%html\n",
    "<style>\n",
    "h1, h2, h3, h4, h5 {\n",
    "    color: darkblue;\n",
    "    font-weight: bold !important;\n",
    "}\n",
    "h2 {\n",
    "    border-bottom: 8px solid darkblue !important;\n",
    "    padding-bottom: 8px;\n",
    "}\n",
    "h3 {\n",
    "    border-bottom: 2px solid darkblue !important;\n",
    "    padding-bottom: 6px;\n",
    "}\n",
    ".info, .success, .warning, .error {\n",
    "    border: 1px solid;\n",
    "    margin: 10px 0px;\n",
    "    padding:15px 10px;\n",
    "}\n",
    ".info {\n",
    "    color: #00529b;\n",
    "    background-color: #bde5f8;\n",
    "}\n",
    ".success {\n",
    "    color: #4f8a10;\n",
    "    background-color: #dff2bf;\n",
    "}\n",
    ".warning {\n",
    "    color: #9f6000;\n",
    "    background-color: #FEEFB3;\n",
    "}\n",
    ".error {\n",
    "    color: #D8000C;\n",
    "    background-color: #FFBABA;\n",
    "}\n",
    ".language-bash {\n",
    "    font-weight: 900;\n",
    "}\n",
    ".ex {\n",
    "    font-weight: 900;\n",
    "    color: rgba(27,27,255,0.87) !important;\n",
    "}\n",
    ".mn {\n",
    "    font-family: Menlo, Consolas, \"DejaVu Sans Mono\", monospace\n",
    "}\n",
    "table {\n",
    "    margin-left: 0 !important;}\n",
    "</style>"
   ]
  },
  {
   "cell_type": "markdown",
   "metadata": {},
   "source": [
    "# Day 2: Up and Running with Python"
   ]
  },
  {
   "cell_type": "markdown",
   "metadata": {},
   "source": [
    "## 2.3 Dictionary and Set"
   ]
  },
  {
   "cell_type": "markdown",
   "metadata": {},
   "source": [
    "### Dictionary\n",
    "\n",
    "-   A dictionary keeps key-value pairs\n",
    "\n",
    "\n",
    "-   We use key to look up value\n",
    "\n",
    "\n",
    "-   All the keys in a dictionary must be unique\n",
    "\n",
    "\n",
    "-   Since Python 3.6, the insertion order of key-value pairs into a dictionary is always perserved\n",
    "\n",
    "\n",
    "-   Consider that we have two corresponding lists: \n",
    "```Python\n",
    "alphas = ['a', 'b', 'c']\n",
    "fruits = ['apple', 'banana', 'carrot']\n",
    "```   \n",
    "    \n",
    "    \n",
    "    We want to find an item in list `fruits` by a given item in `alphas`.  \n",
    "    Let's say we are given the value `'b'` and we would like to find the corresponding value in `fruits`:\n",
    "    \n",
    "```Python\n",
    "fruit = fruits[alpha.index('b')]\n",
    "```\n",
    "\n",
    "    Dictionary allows us to this efficiently."
   ]
  },
  {
   "cell_type": "markdown",
   "metadata": {},
   "source": [
    "<span class='ex'>Example: Attributes and methods in <span class='mn'>dict</span></span>"
   ]
  },
  {
   "cell_type": "code",
   "execution_count": null,
   "metadata": {},
   "outputs": [],
   "source": [
    "print(dir(dict))"
   ]
  },
  {
   "cell_type": "markdown",
   "metadata": {},
   "source": [
    "<span class='ex'>Example: Create empty dictionary</span>"
   ]
  },
  {
   "cell_type": "code",
   "execution_count": null,
   "metadata": {},
   "outputs": [],
   "source": [
    "a = {}      # Create an empty dictionary\n",
    "print(a)\n",
    "print(type(a))\n",
    "\n",
    "a = dict()  # Create an empty dictionary\n",
    "print(a)\n",
    "print(type(a))"
   ]
  },
  {
   "cell_type": "markdown",
   "metadata": {},
   "source": [
    "<span class='ex'>Example: Merging two lists into one</span>"
   ]
  },
  {
   "cell_type": "code",
   "execution_count": null,
   "metadata": {},
   "outputs": [],
   "source": [
    "a = ['a', 'b', 'c']\n",
    "b = [1, 2, 3]\n",
    "\n",
    "c = list(zip(a, b))\n",
    "d = list(zip(b, a))\n",
    "print(c)\n",
    "print(d)"
   ]
  },
  {
   "cell_type": "markdown",
   "metadata": {},
   "source": [
    "<span class='ex'>Example: Creating dictionary from lists and tuples</span>"
   ]
  },
  {
   "cell_type": "code",
   "execution_count": null,
   "metadata": {},
   "outputs": [],
   "source": [
    "# Create a dictionary from list of lists\n",
    "a = dict(\n",
    "    [['a', 1],\n",
    "     ['b', 2],\n",
    "     ['c', 3]\n",
    "    ]\n",
    ")  \n",
    "print(a)\n",
    "\n",
    "# Create a dictionary from tuple of tuples\n",
    "a = dict(\n",
    "    ((1, 'a'),\n",
    "     (2, 'b'),\n",
    "     (3, 'c')\n",
    "    )\n",
    ")  \n",
    "print(a)\n",
    "\n",
    "# Create a dictionary from list of tuples\n",
    "a = dict(\n",
    "    [('a', 'apple'),\n",
    "     ('b', 'banana')\n",
    "    ]\n",
    ")\n",
    "print(a)\n",
    "\n",
    "# Create a dictionary from tuple of lists\n",
    "d = dict(\n",
    "    ([1.1, 'float'],\n",
    "     [2, 'int']\n",
    "    )\n",
    ")\n",
    "print(d)"
   ]
  },
  {
   "cell_type": "markdown",
   "metadata": {},
   "source": [
    "<span class='ex'>Example: Keys in a dictionary must be unique</span>"
   ]
  },
  {
   "cell_type": "code",
   "execution_count": null,
   "metadata": {},
   "outputs": [],
   "source": [
    "# The second tuple overrides the first tuple\n",
    "a = dict(\n",
    "    (('a',1),\n",
    "     ('a',2)\n",
    "    )\n",
    ")\n",
    "print(a)"
   ]
  },
  {
   "cell_type": "markdown",
   "metadata": {},
   "source": [
    "<span class='ex'>Example: <span class='mn'>dict.keys()</span>, <span class='mn'>dict.values()</span> and <span class='mn'>dict.items()</span></span>"
   ]
  },
  {
   "cell_type": "code",
   "execution_count": null,
   "metadata": {},
   "outputs": [],
   "source": [
    "a = dict(\n",
    "    [('a', 'apple'),\n",
    "     ('b', 'banana'),\n",
    "     ('c', 'carrot')\n",
    "    ]\n",
    ")\n",
    "\n",
    "for k in a.keys():\n",
    "    print(f'key = {k}')\n",
    "print('\\n')\n",
    "\n",
    "for v in a.values():\n",
    "    print(f'value = {v}')\n",
    "print('\\n')\n",
    "\n",
    "for k, v in a.items():\n",
    "    print(f'{k} -> {v}')\n",
    "print('\\n')\n"
   ]
  },
  {
   "cell_type": "markdown",
   "metadata": {},
   "source": [
    "<span class='ex'>Example: Update values in a dictionary</span>"
   ]
  },
  {
   "cell_type": "code",
   "execution_count": null,
   "metadata": {},
   "outputs": [],
   "source": [
    "a = dict(\n",
    "    [('a', 'apple'),\n",
    "     ('b', 'banana'),\n",
    "     ('c', 'carrot')\n",
    "    ]\n",
    ")\n",
    "\n",
    "a['a'] = 'apricot'              # Explicitly set value for an existing key\n",
    "a.setdefault('b', 'blueberry')  # Create a key-value pair if it is not present - no effect\n",
    "a.setdefault('e', 'eggfruit')   # Create a key-value pair if it is not present\n",
    "a.update({'c': 'cherry'})       # Set value for key 'c' which is present - no effect\n",
    "a.update({'d': 'durian'})       # Set value for key 'd' which is absent\n",
    "\n",
    "for k, v in a.items():\n",
    "    print(f'{k} -> {v}')"
   ]
  },
  {
   "cell_type": "markdown",
   "metadata": {},
   "source": [
    "<span class='ex'>Example: Use <span class='mn'>dict.fromkeys()</span> to create dictionary from keys using the same value</span>"
   ]
  },
  {
   "cell_type": "code",
   "execution_count": null,
   "metadata": {},
   "outputs": [],
   "source": [
    "parent_mobile = dict.fromkeys(\n",
    "    ['Mary', 'John'],       # Keys in a list\n",
    "    {'father':'9111-1111',  # Value, happened to be a dict               \n",
    "     'mother':'9222-222'\n",
    "    }\n",
    ") \n",
    "\n",
    "for k,v in parent_mobile.items():\n",
    "    print(f'{k} -> {v}, id(v)={id(v)}')\n",
    "\n",
    "# Just change father's mobile number for Mary\n",
    "parent_mobile['Mary']['father'] = '8888-8888'\n",
    "\n",
    "print('\\n')\n",
    "for k,v in parent_mobile.items():\n",
    "    print(f'{k} -> {v}')"
   ]
  },
  {
   "cell_type": "markdown",
   "metadata": {},
   "source": [
    "<span class='ex'>Example: Use dictionary comprehension to create dictionary from keys with different value</span>"
   ]
  },
  {
   "cell_type": "code",
   "execution_count": null,
   "metadata": {},
   "outputs": [],
   "source": [
    "parent_mobile = {key:{'father':'', 'mother':''} for key in ['Mary', 'John']}\n",
    "\n",
    "for k,v in parent_mobile.items():\n",
    "    print(f'{k} -> {v}, id(v)={id(v)}')\n",
    "    \n",
    "# Just change father's mobile number for Mary\n",
    "parent_mobile['Mary']['father'] = '8888-8888'\n",
    "\n",
    "print('\\n')\n",
    "for k,v in parent_mobile.items():\n",
    "    print(f'{k} -> {v}') "
   ]
  },
  {
   "cell_type": "markdown",
   "metadata": {},
   "source": [
    "<span class='ex'>Example: Use <span class='mn'>dict.get()</span> to return value of a given key</span>"
   ]
  },
  {
   "cell_type": "code",
   "execution_count": null,
   "metadata": {},
   "outputs": [],
   "source": [
    "a = dict(\n",
    "    [('a', 'apple'),\n",
    "     ('b', 'banana'),\n",
    "     ('c', 'carrot')\n",
    "    ]\n",
    ")\n",
    "\n",
    "print(a.get('a'))\n",
    "\n",
    "print(a.get('d'))\n",
    "\n",
    "if a.get('d') == None:\n",
    "    print('There is no fruit name starts with \\'d\\'')\n",
    "    \n",
    "print(a.get('orange', 'Not found.'))"
   ]
  },
  {
   "cell_type": "markdown",
   "metadata": {},
   "source": [
    "<span class='ex'>Example: Use <span class='mn'>dict.pop()</span> to remove and return value of a given key</span>"
   ]
  },
  {
   "cell_type": "code",
   "execution_count": null,
   "metadata": {},
   "outputs": [],
   "source": [
    "a = dict(\n",
    "    [('a', 'apple'),\n",
    "     ('b', 'banana'),\n",
    "     ('c', 'carrot')\n",
    "    ]\n",
    ")\n",
    "print(a, '\\n')\n",
    "\n",
    "t = a.pop('a')\n",
    "print(f'{t}')\n",
    "\n",
    "print(f'\\n{a}\\n')"
   ]
  },
  {
   "cell_type": "markdown",
   "metadata": {},
   "source": [
    "<span class='ex'>Example: Use <span class='mn'>dict.items()</span> to iterate tuple of key-value pair from a dictionary</span>"
   ]
  },
  {
   "cell_type": "code",
   "execution_count": null,
   "metadata": {},
   "outputs": [],
   "source": [
    "a = dict(\n",
    "    [('a', 'apple'),\n",
    "     ('b', 'banana'),\n",
    "     ('c', 'carrot')\n",
    "    ]\n",
    ")\n",
    "print(a, '\\n')\n",
    "\n",
    "for k, v in a.items():\n",
    "    print(f'{k} -> {v}')\n",
    "\n",
    "print(f'\\n{a}\\n')"
   ]
  },
  {
   "cell_type": "markdown",
   "metadata": {},
   "source": [
    "<span class='ex'>Example: Use <span class='mn'>dict.popitem()</span> to remove and return the right-most key-value pair from a dictionary</span>"
   ]
  },
  {
   "cell_type": "code",
   "execution_count": null,
   "metadata": {},
   "outputs": [],
   "source": [
    "a = dict(\n",
    "    [('a', 'apple'),\n",
    "     ('b', 'banana'),\n",
    "     ('c', 'carrot')\n",
    "    ]\n",
    ")\n",
    "print(a, '\\n')\n",
    "\n",
    "while True:\n",
    "    if a:  # If dictionary a is not empty\n",
    "        k, v = a.popitem()\n",
    "        print(f'{k} -> {v}')\n",
    "    else:\n",
    "        break\n",
    "\n",
    "print(f'\\n{a}\\n')"
   ]
  },
  {
   "cell_type": "markdown",
   "metadata": {},
   "source": [
    "<span class='ex'>Example: Concatenate dictionaries using <span class='mn'>dict.update()</span> or <span class='mn'>**</span></span>"
   ]
  },
  {
   "cell_type": "code",
   "execution_count": null,
   "metadata": {},
   "outputs": [],
   "source": [
    "fruit1 = {'a': 'apple',\n",
    "          'b': 'banana'\n",
    "         }\n",
    "\n",
    "fruit2 = {'c': 'carrot',\n",
    "          'd': 'durian'\n",
    "         }\n",
    "\n",
    "fruit3 = {'e': 'eggfruit',\n",
    "          'g': 'grapes'\n",
    "         }\n",
    "\n",
    "fruits = dict()\n",
    "for d in [fruit1, fruit2, fruit3]:\n",
    "    fruits.update(d)\n",
    "else:\n",
    "    print(fruits)\n",
    "\n",
    "# The following method cannot be done programatically\n",
    "fruits = {**fruit1, **fruit2, **fruit3}\n",
    "print(fruits)"
   ]
  },
  {
   "cell_type": "markdown",
   "metadata": {},
   "source": [
    "<span class='ex'>Example: Using <span class='mn'>**</span> as keyword argument</span>"
   ]
  },
  {
   "cell_type": "code",
   "execution_count": null,
   "metadata": {},
   "outputs": [],
   "source": [
    "opt = {'sep': '---', 'end': '==='}\n",
    "print('a','b','c',**opt)"
   ]
  },
  {
   "cell_type": "markdown",
   "metadata": {},
   "source": [
    "# Exercise"
   ]
  },
  {
   "cell_type": "markdown",
   "metadata": {},
   "source": [
    "Use the following code to download the file from https://raw.githubusercontent.com/yoonghm/nawp/master/The_dumb_man.txt\n",
    "\n",
    "```Python\n",
    "import requests\n",
    "\n",
    "url = 'https://raw.githubusercontent.com/yoonghm/nawp/master/The_dumb_man.txt'\n",
    "\n",
    "data = requests.get(url).text\n",
    "print(data)\n",
    "```\n",
    "\n",
    "Write a python program to \n",
    "1.  Display the word and its number of occurrences that is used most frequently in the book\n",
    "2.  Display total number of words\n",
    "\n",
    "Please ignore all punctuation marks.\n"
   ]
  },
  {
   "cell_type": "markdown",
   "metadata": {},
   "source": [
    "### Solution"
   ]
  },
  {
   "cell_type": "code",
   "execution_count": null,
   "metadata": {},
   "outputs": [],
   "source": [
    "import requests\n",
    "\n",
    "url = 'https://raw.githubusercontent.com/yoonghm/nawp/master/The_dumb_man.txt'\n",
    "data = requests.get(url).text\n",
    "\n",
    "punctuation = ['\"', \"'\", ',', '.', '!', '-', ':', '(', ')', '[', ']', '?']\n",
    "for p in punctuation:\n",
    "    data = data.replace(p, '')\n",
    "\n",
    "data = data.lower()  # Replace all characters to lower case\n",
    "words = data.split()  # Split the data into list of words\n",
    "freq = {}  # A dictionary to count occurrences of words\n",
    "maxcount = 0\n",
    "maxword = ''\n",
    "\n",
    "for w in words:\n",
    "    freq[w] = freq.get(w, 0) + 1\n",
    "    if freq[w] > maxcount:\n",
    "        maxcount = freq[w]\n",
    "        maxword = w\n",
    "print(maxcount, maxword, len(words))\n"
   ]
  },
  {
   "cell_type": "code",
   "execution_count": null,
   "metadata": {},
   "outputs": [],
   "source": [
    "print(freq)"
   ]
  },
  {
   "cell_type": "markdown",
   "metadata": {},
   "source": [
    "### Set"
   ]
  },
  {
   "cell_type": "markdown",
   "metadata": {},
   "source": [
    "-   A set keeps unordered unique items"
   ]
  },
  {
   "cell_type": "markdown",
   "metadata": {},
   "source": [
    "<span class='ex'>Example: Attributes and methods in <span class='mn'>set</span></span>"
   ]
  },
  {
   "cell_type": "code",
   "execution_count": null,
   "metadata": {},
   "outputs": [],
   "source": [
    "print(dir(set))"
   ]
  },
  {
   "cell_type": "markdown",
   "metadata": {},
   "source": [
    "<span class='ex'>Example: Create empty set</span>"
   ]
  },
  {
   "cell_type": "code",
   "execution_count": null,
   "metadata": {},
   "outputs": [],
   "source": [
    "a = set()  # Create an empty set\n",
    "print(a)\n",
    "print(type(a))"
   ]
  },
  {
   "cell_type": "markdown",
   "metadata": {},
   "source": [
    "<span class='ex'>Example: Add items to a set</span>"
   ]
  },
  {
   "cell_type": "code",
   "execution_count": null,
   "metadata": {},
   "outputs": [],
   "source": [
    "a = set()\n",
    "\n",
    "a.add(2)\n",
    "a.add(3)\n",
    "a.add(1)\n",
    "a.add(3)\n",
    "print(a)"
   ]
  },
  {
   "cell_type": "markdown",
   "metadata": {},
   "source": [
    "<span class='ex'>Example: Union set</span>"
   ]
  },
  {
   "cell_type": "code",
   "execution_count": null,
   "metadata": {},
   "outputs": [],
   "source": [
    "a = {1, 2, 3}\n",
    "b = {1, 4, 5}\n",
    "print(a.union(b))\n",
    "print(a)"
   ]
  },
  {
   "cell_type": "markdown",
   "metadata": {},
   "source": [
    "<span class='ex'>Example: Update a set with union of itself and others</span>"
   ]
  },
  {
   "cell_type": "code",
   "execution_count": null,
   "metadata": {},
   "outputs": [],
   "source": [
    "a = {1, 2, 3}\n",
    "a.update((1, 4, 5))\n",
    "print(a)"
   ]
  },
  {
   "cell_type": "markdown",
   "metadata": {},
   "source": [
    "<span class='ex'>Example: Common set</span>"
   ]
  },
  {
   "cell_type": "code",
   "execution_count": null,
   "metadata": {},
   "outputs": [],
   "source": [
    "a = {1, 2, 3}\n",
    "b = {1, 4, 5}\n",
    "print(a.intersection(b))"
   ]
  },
  {
   "cell_type": "markdown",
   "metadata": {},
   "source": [
    "<span class='ex'>Example: Check a set is subset of another set</span>"
   ]
  },
  {
   "cell_type": "code",
   "execution_count": null,
   "metadata": {},
   "outputs": [],
   "source": [
    "a = {1, 2, 3}\n",
    "{1}.issubset(a)"
   ]
  },
  {
   "cell_type": "markdown",
   "metadata": {},
   "source": [
    "# Exercise\n",
    "\n",
    "Create a program to accept input from command line. Each line consist of the following information separated by whitespaces:\n",
    "\n",
    "-  hostname\n",
    "-  ip address\n",
    "-  netmask\n",
    "-  gateway\n",
    "\n",
    "The input is terminated when `-1` is encountered.\n",
    "\n",
    "Store these records into a dictionary and print it to a console alphatically using keys of the dictionary\n",
    "\n",
    "**For example**:\n",
    "```\n",
    "web02  192.168.2.71 255.255.255.1 192.168.2.1\n",
    "san01  192.168.2.72 255.255.255.1 192.168.2.1\n",
    "dba01  192.168.2.73 255.255.255.1 192.168.2.1\n",
    "web01  192.168.2.70 255.255.255.0 192.168.2.1\n",
    "-1\n",
    "```\n",
    "\n",
    "The program prints\n",
    "```\n",
    "{\n",
    "    'dba01': {'ip':'192.168.2.73', 'netmask':'255.255.255.0', 'gateway': '192.168.2.1'},\n",
    "    'san01': {'ip':'192.168.2.72', 'netmask':'255.255.255.0', 'gateway': '192.168.2.1'}\n",
    "    'web01': {'ip':'192.168.2.70', 'netmask':'255.255.255.0', 'gateway': '192.168.2.1'},\n",
    "    'web02': {'ip':'192.168.2.71', 'netmask':'255.255.255.0', 'gateway': '192.168.2.1'}\n",
    "}\n",
    "```"
   ]
  },
  {
   "cell_type": "markdown",
   "metadata": {},
   "source": [
    "## Solution"
   ]
  },
  {
   "cell_type": "code",
   "execution_count": null,
   "metadata": {},
   "outputs": [],
   "source": [
    "hosts = {}\n",
    "while True:\n",
    "    raw = input('Enter \"hostname\" \"ip address\" \"netmask\" \"gateway\" or -1 to terminate')\n",
    "    if raw == '-1':\n",
    "        break\n",
    "    else:\n",
    "        data = raw.split()\n",
    "        hosts[data[0]] = {'ip': data[1], 'netmask': data[2], 'gateway': data[3]}\n",
    "        \n",
    "sorted_hosts = dict(sorted(hosts.items()))\n",
    "print('{')\n",
    "for k, v in sorted_hosts.items():\n",
    "    print('\\t', k, v)\n",
    "else:\n",
    "    print('}')"
   ]
  }
 ],
 "metadata": {
  "kernelspec": {
   "display_name": "Python 3",
   "language": "python",
   "name": "python3"
  },
  "language_info": {
   "codemirror_mode": {
    "name": "ipython",
    "version": 3
   },
   "file_extension": ".py",
   "mimetype": "text/x-python",
   "name": "python",
   "nbconvert_exporter": "python",
   "pygments_lexer": "ipython3",
   "version": "3.7.6"
  }
 },
 "nbformat": 4,
 "nbformat_minor": 4
}
