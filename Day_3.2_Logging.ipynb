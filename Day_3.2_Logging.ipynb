{
 "cells": [
  {
   "cell_type": "code",
   "execution_count": null,
   "metadata": {
    "jupyter": {
     "source_hidden": true
    },
    "slideshow": {
     "slide_type": "skip"
    }
   },
   "outputs": [],
   "source": [
    "%%html\n",
    "<style>\n",
    "h1, h2, h3, h4, h5 {\n",
    "    color: darkblue;\n",
    "    font-weight: bold !important;\n",
    "}\n",
    "h2 {\n",
    "    border-bottom: 8px solid darkblue !important;\n",
    "    padding-bottom: 8px;\n",
    "}\n",
    "h3 {\n",
    "    border-bottom: 2px solid darkblue !important;\n",
    "    padding-bottom: 6px;\n",
    "}\n",
    ".info, .success, .warning, .error {\n",
    "    border: 1px solid;\n",
    "    margin: 10px 0px;\n",
    "    padding:15px 10px;\n",
    "}\n",
    ".info {\n",
    "    color: #00529b;\n",
    "    background-color: #bde5f8;\n",
    "}\n",
    ".success {\n",
    "    color: #4f8a10;\n",
    "    background-color: #dff2bf;\n",
    "}\n",
    ".warning {\n",
    "    color: #9f6000;\n",
    "    background-color: #FEEFB3;\n",
    "}\n",
    ".error {\n",
    "    color: #D8000C;\n",
    "    background-color: #FFBABA;\n",
    "}\n",
    ".language-bash {\n",
    "    font-weight: 900;\n",
    "}\n",
    ".ex {\n",
    "    font-weight: 900;\n",
    "    color: rgba(27,27,255,0.87) !important;\n",
    "}\n",
    ".mn {\n",
    "    font-family: Menlo, Consolas, \"DejaVu Sans Mono\", monospace\n",
    "}\n",
    "table {\n",
    "    margin-left: 0 !important;}\n",
    "</style>"
   ]
  },
  {
   "cell_type": "markdown",
   "metadata": {},
   "source": [
    "# Day 3: Up and Running with Python"
   ]
  },
  {
   "cell_type": "markdown",
   "metadata": {},
   "source": [
    "## 3.2 Logging"
   ]
  },
  {
   "cell_type": "markdown",
   "metadata": {},
   "source": [
    "-   Programmers commonly use `print()` within programs to print diagnostic messages during development.  When those programs are deployed in the productions, the messages are commented out or deleted.  This process is error prone and useful information may be deleted.\n",
    "\n",
    "\n",
    "-   Logging allows a program to print out diagnostic messages on demand.  Diagnostic messages can be configured to printed out on program's standard output (`stdout`), standard error (`stderr`), file or to other processes in the same or other computers.\n",
    "\n",
    "\n",
    "-   Python comes with a powerful logging library: [logging](https://docs.python.org/3/library/logging.html#module-logging)\n",
    "\n",
    "\n",
    "-   Log messages could be classified into different logging levels:\n",
    "\n",
    "|**Logging Level** |**Level**| **When to Used**                                  |\n",
    "|:-----------------|:-------:|:--------------------------------------------------|\n",
    "|`logging.NOTSET`  |  0      |                                                   |\n",
    "|`logging.DEBUG`   |  10     |Detailed information for diagnosis                 |\n",
    "|`logging.INFO`    |  20     |Confirmation that things are working as expected   |\n",
    "|`logging.WARNING` |  30     |Unexpected event, software is still working        |\n",
    "|`logging.ERROR`   |  40     |Series problem. Software losses some functions     |\n",
    "|`logging.CRITICAL`|  50     |Series error. Software is not stable to continue   |\n",
    "\n",
    "\n",
    "-   Message format could be customized:\n",
    "\n",
    "| **Attribute**         | **Meaning**                                                                          |\n",
    "|:----------------------|:-------------------------------------------------------------------------------------|\n",
    "| `%(name)s`            | Name of the logger (logging channel)                                                 |\n",
    "| `%(levelno)s`         | Numeric logging level for the message (DEBUG, INFO, WARNING, ERROR, CRITICAL)        |\n",
    "| `%(levelname)s`       | Name of the logger (logging channel)                                                 |\n",
    "| `%(pathname)s`        | Full pathname of the source file where the logging call was issued (if available)    |\n",
    "| `%(filename)s`        | Filename portion of pathname                                                         |\n",
    "| `%(module)s`          | Module (name portion of filename)                                                    |\n",
    "| `%(lineno)d`          | Source line number where the logging call was issued (if available)                  |\n",
    "| `%(funcName)s`        | Function name                                                                        |\n",
    "| `%(created)f`         | Time when the LogRecord was created (`time.time()` return value)                     |\n",
    "| `%(asctime)s`         | Textual time when the LogRecord was created                                          |\n",
    "| `%(msecs)d`           | Millisecond portion of the creation time                                             |\n",
    "| `%(relativeCreated)d` | Module (name portion of filename)                                                    |\n",
    "| `%(module)s`          | Time in milliseconds when the log record was created, relative to the time the logging module was loaded (typically at application startup time)  |\n",
    "| `%(thread)d`          | Thread ID (if available)                                                             |\n",
    "| `%(threadName)s`      | Thread name (if available)                                                           |\n",
    "| `%(process)d`         | Process ID (if available)                                                            |\n",
    "| `%(message)s`         | The result of record.getMessage(), computed just as the record is emitted            |\n",
    "\n",
    "\n",
    "-   The default `root` logger is created when the `logging` module is imported into a program.  The default behaviour of the `root` logger is to print out log messages to the program's standard error and the default logging level is `logging.WARNING`, i.e., messages lower that this level will be suppressed.  The default message format is `%(levelname)s:%(name)s:%(message)s\n",
    "\n",
    "\n",
    "-   The `root` logger could log messages to *one* destination, either to the program's standard error or file or stream (could be an opened file or socket).\n",
    "\n",
    "\n",
    "-   Convenience methods are provided for every logger object:\n",
    "    -   `logger.debug(self, msg, *args, **kwargs)`\n",
    "    -   `logger.info(self, msg, *args, **kwargs)`\n",
    "    -   `logger.warning(self, msg, *args, **kwargs)`\n",
    "    -   `logger.error(self, msg, *args, **kwargs)`\n",
    "    -   `logger.critical(self, msg, *args, **kwargs)`"
   ]
  },
  {
   "cell_type": "markdown",
   "metadata": {},
   "source": [
    "<span class=\"ex\">Example: Simple logging with default message format</span>"
   ]
  },
  {
   "cell_type": "code",
   "execution_count": null,
   "metadata": {},
   "outputs": [],
   "source": [
    "import logging\n",
    "\n",
    "# logging.basicConfig(level=logging.DEBUG)\n",
    "\n",
    "logging.debug   ('This is a debug message')\n",
    "logging.info    ('This is an info message')\n",
    "logging.warning ('This is a warning message')\n",
    "logging.error   ('This is an error message')\n",
    "logging.critical('This is a critical message')"
   ]
  },
  {
   "cell_type": "markdown",
   "metadata": {},
   "source": [
    "Once we have run the script above, the logging level will be set to `WARNING` (default level).  \n",
    "If we want to set the logging level to other value, we have to restart the kernerl.  \n",
    "The proper way is to run the script from another Python interpreter."
   ]
  },
  {
   "cell_type": "markdown",
   "metadata": {},
   "source": [
    "<span class=\"ex\">Example: Simple logging to standard output with custom time format, message format and logging level</span>"
   ]
  },
  {
   "cell_type": "code",
   "execution_count": null,
   "metadata": {},
   "outputs": [],
   "source": [
    "%%file script.py\n",
    "import logging\n",
    "import sys\n",
    "\n",
    "logging.basicConfig(\n",
    "    level=logging.DEBUG,\n",
    "    format='%(asctime)s|%(levelname)s|%(threadName)-9s|%(thread)d|%(message)s',\n",
    "    datefmt='%Y-%m-%d %H:%M:%S',\n",
    "    stream=sys.stdout\n",
    ")\n",
    "\n",
    "logging.debug   ('Hello %s', 'world')\n",
    "logging.info    ('Hello %s', 'world')\n",
    "logging.warning ('Hello %s', 'world')\n",
    "logging.error   ('Hello %s', 'world')\n",
    "logging.critical('Hello %s', 'world')"
   ]
  },
  {
   "cell_type": "code",
   "execution_count": null,
   "metadata": {},
   "outputs": [],
   "source": [
    "!python script.py"
   ]
  },
  {
   "cell_type": "markdown",
   "metadata": {},
   "source": [
    "<span class=\"ex\">Example: Simple logging to a file with custom time format, message format and logging level</span>"
   ]
  },
  {
   "cell_type": "code",
   "execution_count": null,
   "metadata": {},
   "outputs": [],
   "source": [
    "%%file script.py\n",
    "import logging\n",
    "import sys\n",
    "\n",
    "logging.basicConfig(\n",
    "    level=logging.DEBUG,\n",
    "    format='%(asctime)s|%(levelname)s|%(threadName)-9s|%(thread)d|%(message)s',\n",
    "    datefmt='%Y-%m-%d %H:%M:%S',\n",
    "    filename='messages.log',\n",
    "    filemode='w' # default is 'a'\n",
    ")\n",
    "\n",
    "logging.debug   ('Hello %s', 'world')\n",
    "logging.info    ('Hello %s', 'world')\n",
    "logging.warning ('Hello %s', 'world')\n",
    "logging.error   ('Hello %s', 'world')\n",
    "logging.critical('Hello %s', 'world')"
   ]
  },
  {
   "cell_type": "markdown",
   "metadata": {},
   "source": [
    "Simple logging only allows you to log to the standard output or a file."
   ]
  },
  {
   "cell_type": "markdown",
   "metadata": {},
   "source": [
    "<span class=\"ex\">Example: Simple logging using formats and level from environment variables</span>"
   ]
  },
  {
   "cell_type": "code",
   "execution_count": null,
   "metadata": {},
   "outputs": [],
   "source": [
    "%%file ./script.py\n",
    "import logging\n",
    "import os\n",
    "\n",
    "# If LOGUSEDEFAULT is False, we could customize logging parameters\n",
    "#   In Windows    : set LOGUSEDEFAULT=False\n",
    "#                 : setx LOGUSEDEFAULT False\n",
    "#   In Unix, macOS: export LOGUSEDEFAULT=False \n",
    "logusedefault = os.getenv('LOGUSEDEFAULT', 'True').lower()\n",
    "\n",
    "# If LOGUSEDEFAULT is False, we could set other values here\n",
    "if logusedefault != 'true':\n",
    "    loglevel = os.getenv('LOGLEVEL', 'WARNING')\n",
    "    logfile = os.getenv('LOGFILENAME', './messages.log')\n",
    "    format = os.getenv('LOGFORMAT', '%(asctime)s|%(levelname)s|%(message)s')\n",
    "\n",
    "    logging.basicConfig(\n",
    "        level=loglevel,\n",
    "        filename = logfile,\n",
    "        filemode = 'a',\n",
    "        datefmt='%Y-%m-%d %H:%M:%S',\n",
    "        format=format\n",
    ")\n",
    "\n",
    "logging.debug   ('This is %s message.', 'debug') \n",
    "logging.info    ('This is %s message.', 'info')\n",
    "logging.warning ('This is %s message.', 'warning')\n",
    "logging.error   ('This is %s message.', 'error')\n",
    "logging.critical('This is %s message.', 'critical')"
   ]
  },
  {
   "cell_type": "code",
   "execution_count": null,
   "metadata": {},
   "outputs": [],
   "source": [
    "!python script.py"
   ]
  },
  {
   "cell_type": "markdown",
   "metadata": {},
   "source": [
    "### Logging Handlers"
   ]
  },
  {
   "cell_type": "markdown",
   "metadata": {},
   "source": [
    "-   Use `logging.getLogger('someLogger')` to create a logging object.  Multiple call to this function with the same argument returns a reference to the same logging object\n",
    "\n",
    "\n",
    "-   **Logging handlers** could be used to log messages to more than one destinations.  Use the following functions to create logging handlers\n",
    "\n",
    "    1. `class logging.StreamHandler(stream=None)`  \n",
    "       Write to file-like object, such as standard output and standard error\n",
    "\n",
    "    2. `class logging.FileHandler(filename, mode='a', encoding=None, delay=False)`  \n",
    "       Write to a single file or set of rotating files\n",
    "\n",
    "    3. `class logging.NullHandler`  \n",
    "       Does not do any formatting or output\n",
    "\n",
    "    4. `class logging.handlers.WatchedFileHandler(filename, mode='a', encoding=None, delay=False)`  \n",
    "       It is a `FileHandler` which watches the file it is logging to. If the file name changes, the orginally opened log file is closed and reopened using the file name. A file change can happen because usage of programs such as *newsyslog* and *logrotate* which perform log file rotation\n",
    "\n",
    "    5. `class logging.handlers.BaseRotatingHandler(filename, mode, encoding=None, delay=False)`  \n",
    "       It is the base class for the rotating file handlers `RotatingFileHandler` and `TimedRotatingFileHandler`\n",
    "\n",
    "    6. `class logging.handlers.RotatingFileHandler(filename, mode='a', maxBytes=0, backupCount=0, encoding=None, delay=False)`  \n",
    "       It supports rotation of disk log files. Use `maxBytes` and `backupCount` to allow the file to rollover at a predetermined size\n",
    "\n",
    "    7. `class logging.handlers.TimedRotatingFileHandler(filename, when='h', interval=1, backupCount=0, encoding=None, delay=False, utc=False, atTime=None)`  \n",
    "       It supports rotation of disk log files at certain timed intervals\n",
    "\n",
    "    8. `class handlers.SocketHandler(host, port)`  \n",
    "       Send log messages to a TCP socket port\n",
    "\n",
    "    9. `class logging.handlers.DatagramHandler(host, port)`  \n",
    "       Send log messages to a UDP socket port\n",
    "\n",
    "    10. `class logging.handlers.SysLogHandler(address=('localhost', SYSLOG_UDP_PORT), facility=LOG_USER, socktype=socket.SOCK_DGRAM)`  \n",
    "        Send log messages to a remote or local Unix syslog\n",
    "\n",
    "    11. `class logging.handlers.NTEventLogHandler(appname, dllname=None, logtype='Application)`  \n",
    "        Send log message to a local Window event manager. You need Mark Hammond's Win32 extensions for Python installed\n",
    "\n",
    "    12. `class logging.handlers.SMTPHandler(mailhost, fromaddr, toaddrs, subject, credentials=None, secure=None, timeout=1.0)`  \n",
    "        Send log message to an email address via SMTP\n",
    "\n",
    "    13. `class logging.handlers.MemoryHandler(capacity)`  \n",
    "        Bufferring of log messages in memory, periodically flushing them to a target handler.  Flushing occurs whenever the buffer is full, or when an event of a certain severity or greater is seen. It is a subclass of the more general `BufferingHandler`.\n",
    "\n",
    "    14. `class logging.handlers.HTTPHandler(host, url, method='GET', secure=False, credentials=None, context=None)`  \n",
    "        Send log message to a web server, using either GET or POST semantics\n",
    "\n",
    "    15. `class logging.handlers.QueueHandler(queue)`  \n",
    "        Sned log messages to a queue, such as those implemented in the `queue` or `multiiprocessing` modules\n",
    "\n",
    "    16. `class logging.handlers.QueueListener(queue, *handlers, respect_handler_level=False)`  \n",
    "        Support receiving log messages from a queue, such as those implemented in the `queue` or `multiprocessing` modules. The messages are received from a queue in an internal thread and passed, on the same thread, to one or more handlers for processing.  `QueueListener` is not itself a handler but it works hand-in-hand with `QueueHandler`"
   ]
  },
  {
   "cell_type": "markdown",
   "metadata": {},
   "source": [
    "<span class='ex'>Example: A logger with two logging handlers</span>"
   ]
  },
  {
   "cell_type": "code",
   "execution_count": null,
   "metadata": {},
   "outputs": [],
   "source": [
    "%%file ./script.py\n",
    "import logging\n",
    "import os\n",
    "\n",
    "loglevel = os.getenv('LOGLEVEL', 'WARNING')\n",
    "\n",
    "# Messager formatter\n",
    "fmt = logging.Formatter(\n",
    "    '%(asctime)s|%(levelname)s|%(message)s',\n",
    "    '%Y-%m-%d %H:%M:%S'\n",
    ")\n",
    "\n",
    "ch = logging.StreamHandler()  # Console handler\n",
    "ch.setLevel('WARNING')\n",
    "ch.setFormatter(fmt)\n",
    "\n",
    "fh = logging.FileHandler('messages.log', mode='a')  # File handler\n",
    "fh.setLevel(loglevel)\n",
    "fh.setFormatter(fmt)\n",
    "\n",
    "# Logger 'simple_example'\n",
    "logger = logging.getLogger('simple_example')\n",
    "logger.setLevel(loglevel)   # Parent overides loglevel in channel\n",
    "logger.addHandler(ch)\n",
    "logger.addHandler(fh)\n",
    "\n",
    "logger.debug   ('Debug message')\n",
    "logger.info    ('Info message')\n",
    "logger.warning ('Warn message')\n",
    "logger.error   ('Error message')\n",
    "logger.critical('Critical message')"
   ]
  },
  {
   "cell_type": "code",
   "execution_count": null,
   "metadata": {},
   "outputs": [],
   "source": [
    "!python script.py"
   ]
  },
  {
   "cell_type": "markdown",
   "metadata": {},
   "source": [
    "<span class='ex'>Example: Rotating log files</span>"
   ]
  },
  {
   "cell_type": "code",
   "execution_count": null,
   "metadata": {},
   "outputs": [],
   "source": [
    "%%file ./script.py\n",
    "import logging\n",
    "import logging.handlers\n",
    "import os\n",
    "\n",
    "logger = logging.getLogger('simple_example')\n",
    "\n",
    "def initLogger():\n",
    "    loglevel = os.getenv('LOGLEVEL', 'WARNING')\n",
    "\n",
    "    # Messager formatter\n",
    "    fmt = logging.Formatter(\n",
    "        '%(asctime)s|%(levelname)s|%(name)s:%(pathname)s:%(lineno)d:%(message)s',\n",
    "        '%Y-%m-%d %H:%M:%S'\n",
    "    )\n",
    "\n",
    "    ch = logging.StreamHandler()  # Console handler\n",
    "    ch.setLevel(loglevel)\n",
    "    ch.setFormatter(fmt)\n",
    "\n",
    "    rh = logging.handlers.RotatingFileHandler(\n",
    "        filename='messages.log',\n",
    "        mode='a',\n",
    "        maxBytes=200,\n",
    "        backupCount=5\n",
    "    )\n",
    "    rh.setLevel('DEBUG')\n",
    "    rh.setFormatter(fmt)\n",
    "\n",
    "    logger.setLevel(loglevel)\n",
    "    logger.addHandler(ch)\n",
    "    logger.addHandler(rh)\n",
    "\n",
    "\n",
    "def do_something(a, b):\n",
    "    logger.debug   ('Debug message')\n",
    "    logger.info    ('Info message')\n",
    "    logger.warning ('Warn message')\n",
    "    logger.error   ('Error message')\n",
    "    logger.critical('Critical message')\n",
    "    return (a * b)\n",
    "\n",
    "if __name__ == '__main__':\n",
    "    initLogger()\n",
    "    for x in range(2):\n",
    "        print(do_something(x, x+1))"
   ]
  },
  {
   "cell_type": "code",
   "execution_count": null,
   "metadata": {},
   "outputs": [],
   "source": [
    "!python ./script.py"
   ]
  },
  {
   "cell_type": "markdown",
   "metadata": {},
   "source": [
    "<span class=\"ex\">Example: UDP syslog server on port 514</span>"
   ]
  },
  {
   "cell_type": "code",
   "execution_count": null,
   "metadata": {},
   "outputs": [],
   "source": [
    "%%file pysyslog.py\n",
    "import logging\n",
    "import socketserver\n",
    "import struct\n",
    "import pickle\n",
    "import os\n",
    "\n",
    "host = \"0.0.0.0\"\n",
    "port = 514\n",
    "\n",
    "class SyslogUDPHandler(socketserver.DatagramRequestHandler):\n",
    "\n",
    "    def handle(self):\n",
    "        # logging.handlers.DatagramHandler() sends data in the following format\n",
    "        # 1. message len (encoded with struct.pack('>L', len(msg))\n",
    "        # 2. msg (encoded with pickle.dumps())\n",
    "        msglen = struct.unpack('>L', self.request[0][0:4])\n",
    "        d = pickle.loads(self.request[0][4:])\n",
    "        #print(f'{self.client_address} ({msglen[0]}): {d[\"msg\"]}')\n",
    "        logging.log(d['levelno'], d['msg'])\n",
    "\n",
    "if __name__ == \"__main__\":\n",
    "    level = os.getenv('LOGLEVEL', 'WARNING')\n",
    "    logging.basicConfig(\n",
    "        level=level,\n",
    "        filename='messages.log',\n",
    "        filemode='w',\n",
    "        datefmt='%Y-%m-%d %H:%M:%S',\n",
    "        format='%(asctime)s|%(levelname)s|%(name)s:%(message)s'\n",
    "    )\n",
    "\n",
    "    try:\n",
    "        print(f'UDPServer is listening on {host}:{port}')\n",
    "        server = socketserver.UDPServer((host, port), SyslogUDPHandler)\n",
    "        server.serve_forever(poll_interval=0.5)\n",
    "    except (IOError, SystemExit):\n",
    "        raise\n",
    "    except KeyboardInterrupt:\n",
    "        print (\"Crtl+C Pressed. Shutting down.\")\n"
   ]
  },
  {
   "cell_type": "markdown",
   "metadata": {},
   "source": [
    "Please run `pysyslog.py` from a Python command line shell:\n",
    "\n",
    "```bash\n",
    "python ./pysyslog.py\n",
    "```\n",
    "\n",
    "It will listen connection from all IP addresses on port 514."
   ]
  },
  {
   "cell_type": "markdown",
   "metadata": {},
   "source": [
    "<span class='ex'>Example: Send message to syslog server</span>"
   ]
  },
  {
   "cell_type": "code",
   "execution_count": null,
   "metadata": {},
   "outputs": [],
   "source": [
    "%%file ./script.py\n",
    "import logging\n",
    "import logging.handlers\n",
    "import click\n",
    "import os\n",
    "\n",
    "help = dict(help_option_names=['-h', '--help'])\n",
    "host = \"127.0.0.1\"\n",
    "port = 514\n",
    "\n",
    "logger = logging.getLogger('simple_example')\n",
    "    \n",
    "@click.group(context_settings=help)\n",
    "@click.version_option(version='1.0.0')\n",
    "def cli():\n",
    "    pass\n",
    "\n",
    "@cli.command()\n",
    "@click.argument('host', default=host)\n",
    "@click.argument('port', default=port)\n",
    "def init(host, port):\n",
    "    '''Initialize database'''\n",
    "    loglevel = os.getenv('LOGLEVEL', 'WARNING')\n",
    "    \n",
    "    # Messager formatter\n",
    "    fmt = logging.Formatter(\n",
    "        '%(asctime)s|%(levelname)s|%(name)s:%(pathname)s:%(lineno)d:%(message)s',\n",
    "        '%Y-%m-%d %H:%M:%S'\n",
    "    )\n",
    "    logfile = 'messages_local.log'\n",
    "\n",
    "    fh = logging.FileHandler(logfile, mode='a')\n",
    "    fh.setLevel(loglevel)\n",
    "    fh.setFormatter(fmt)\n",
    "\n",
    "    dh = logging.handlers.DatagramHandler(host, port)\n",
    "    dh.setLevel('ERROR')\n",
    "    dh.setFormatter(fmt)\n",
    "\n",
    "    logger.setLevel(loglevel)\n",
    "    logger.addHandler(fh)\n",
    "    logger.addHandler(dh)\n",
    "\n",
    "    logger.debug   ('Debug    message')\n",
    "    logger.info    ('Info     message')\n",
    "    logger.warning ('Warn     message')\n",
    "    logger.error   ('Error    message')\n",
    "    logger.critical('Critical message')\n",
    "    \n",
    "if __name__ == '__main__':\n",
    "    cli()"
   ]
  },
  {
   "cell_type": "markdown",
   "metadata": {},
   "source": [
    "Please run `script.py` from a Python command line shell:\n",
    "\n",
    "```bash\n",
    "python ./script.py init 127.0.0.1 514\n",
    "```\n",
    "\n",
    "**Note**:\n",
    "\n",
    "There is a bug within `logging.handlers.DatagramHandler()`. I have posted a bug report at [https://bugs.python.org/issue37331](https://bugs.python.org/issue37331)"
   ]
  }
 ],
 "metadata": {
  "kernelspec": {
   "display_name": "Python 3",
   "language": "python",
   "name": "python3"
  },
  "language_info": {
   "codemirror_mode": {
    "name": "ipython",
    "version": 3
   },
   "file_extension": ".py",
   "mimetype": "text/x-python",
   "name": "python",
   "nbconvert_exporter": "python",
   "pygments_lexer": "ipython3",
   "version": "3.7.6"
  }
 },
 "nbformat": 4,
 "nbformat_minor": 4
}
